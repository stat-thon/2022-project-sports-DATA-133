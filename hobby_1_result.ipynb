{
 "cells": [
  {
   "cell_type": "markdown",
   "metadata": {},
   "source": [
    "## 국민여가활동조사 EDA 보고용"
   ]
  },
  {
   "cell_type": "code",
   "execution_count": 1,
   "metadata": {},
   "outputs": [
    {
     "name": "stderr",
     "output_type": "stream",
     "text": [
      "C:\\Users\\sujin\\AppData\\Local\\Temp\\ipykernel_17004\\4078155046.py:12: DtypeWarning: Columns (90,100,101,102,103,104,105,126) have mixed types. Specify dtype option on import or set low_memory=False.\n",
      "  h21 = pd.read_csv(data_dir + '/hobby_21.csv')\n"
     ]
    }
   ],
   "source": [
    "import pandas as pd\n",
    "import numpy as np\n",
    "import seaborn as sns\n",
    "import matplotlib.pyplot as plt\n",
    "\n",
    "# data dir\n",
    "\n",
    "data_dir = 'D:/thon/project/tourism/02.국민여가활동조사/3.데이터'\n",
    "\n",
    "# data load\n",
    "\n",
    "h21 = pd.read_csv(data_dir + '/hobby_21.csv')\n",
    "h21 = pd.DataFrame(h21)\n",
    "\n",
    "# 스포츠경험자/비경험자 여부 칼럼 생성\n",
    "h21['sports_exp'] = '0' # 스포츠비경험자 == 0\n",
    "h21.loc[(h21['q1_C'] != '99') | (h21['q1_D'] != '99'), 'sports_exp'] = '1' # 스포츠경험자 == 1\n",
    "\n",
    "# 스포츠희망 여부 칼럼 생성\n",
    "h21['sports_hope'] = '0' # 스포츠비희망자 == 0\n",
    "h21.loc[(h21['q11_3_D'] != 98) | (h21['q12_3_D'] != 98), 'sports_hope'] = '1' # 스포츠희망자 == 1"
   ]
  },
  {
   "cell_type": "code",
   "execution_count": 30,
   "metadata": {},
   "outputs": [
    {
     "name": "stdout",
     "output_type": "stream",
     "text": [
      "스포츠경험여부와 스포츠희망여부 빈도표\n",
      "sports_hope     0     1\n",
      "sports_exp             \n",
      "0            1968  1255\n",
      "1            1109  5717\n",
      "\n",
      "H0: 스포츠경험여부와 스포츠희망여부는 서로 독립이다\n",
      "H1: 스포츠경험여부와 스포츠희망여부는 서로 독립이 아니다\n",
      "카이제곱검정 결과 P-value:  0.0\n",
      "유의수준 0.05 하에서 스포츠경험과 스포츠희망은 서로 독립이 아니다\n",
      "-> 즉, 스포츠경험여부와 스포츠희망여부에 유의한 관련성이 있다\n"
     ]
    }
   ],
   "source": [
    "### 스포츠경험여부와 스포츠희망여부 변수 간의 독립성 검정\n",
    "\n",
    "sports_crosstab = pd.crosstab(h21['sports_exp'], h21['sports_hope'])\n",
    "\n",
    "print('스포츠경험여부와 스포츠희망여부 빈도표')\n",
    "print(sports_crosstab)\n",
    "\n",
    "import scipy.stats as stats\n",
    "\n",
    "result = stats.chi2_contingency(observed = sports_crosstab)\n",
    "print('\\nH0: 스포츠경험여부와 스포츠희망여부는 서로 독립이다')\n",
    "print('H1: 스포츠경험여부와 스포츠희망여부는 서로 독립이 아니다')\n",
    "print('카이제곱검정 결과 P-value: ', result[1])\n",
    "print('유의수준 0.05 하에서 스포츠경험과 스포츠희망은 서로 독립이 아니다')\n",
    "print('-> 즉, 스포츠경험여부와 스포츠희망여부에 유의한 관련성이 있다')"
   ]
  },
  {
   "cell_type": "code",
   "execution_count": 35,
   "metadata": {},
   "outputs": [
    {
     "name": "stdout",
     "output_type": "stream",
     "text": [
      "두 범주형 변수 간 상관계수:  0.454\n"
     ]
    }
   ],
   "source": [
    "# 범주형 변수 간의 상관계수: phi correlation coefficient\n",
    "from sklearn.metrics import matthews_corrcoef\n",
    "\n",
    "sports_hope = h21['sports_hope'].values\n",
    "sports_exp = h21['sports_exp'].values\n",
    "print('두 범주형 변수 간 상관계수: ', round(matthews_corrcoef(sports_hope, sports_exp), 3))"
   ]
  },
  {
   "cell_type": "markdown",
   "metadata": {},
   "source": [
    "##"
   ]
  }
 ],
 "metadata": {
  "kernelspec": {
   "display_name": "Python 3.9.7 ('tf')",
   "language": "python",
   "name": "python3"
  },
  "language_info": {
   "codemirror_mode": {
    "name": "ipython",
    "version": 3
   },
   "file_extension": ".py",
   "mimetype": "text/x-python",
   "name": "python",
   "nbconvert_exporter": "python",
   "pygments_lexer": "ipython3",
   "version": "3.9.7"
  },
  "orig_nbformat": 4,
  "vscode": {
   "interpreter": {
    "hash": "d88f82afb66455697598f3be97bf4103fd55222ccf64b880ef38c583c364c29c"
   }
  }
 },
 "nbformat": 4,
 "nbformat_minor": 2
}
