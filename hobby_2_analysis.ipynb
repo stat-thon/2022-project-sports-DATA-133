{
 "cells": [
  {
   "cell_type": "markdown",
   "metadata": {},
   "source": [
    "# 국민여가활동조사 전처리 및 분류 모형 생성"
   ]
  },
  {
   "cell_type": "code",
   "execution_count": 1,
   "metadata": {},
   "outputs": [
    {
     "name": "stderr",
     "output_type": "stream",
     "text": [
      "C:\\Users\\sujin\\AppData\\Local\\Temp\\ipykernel_3316\\2764788701.py:8: DtypeWarning: Columns (90,100,101,102,103,104,105,126) have mixed types. Specify dtype option on import or set low_memory=False.\n",
      "  h21 = pd.read_csv(data_dir + '/hobby_21.csv')\n"
     ]
    },
    {
     "data": {
      "text/html": [
       "<div>\n",
       "<style scoped>\n",
       "    .dataframe tbody tr th:only-of-type {\n",
       "        vertical-align: middle;\n",
       "    }\n",
       "\n",
       "    .dataframe tbody tr th {\n",
       "        vertical-align: top;\n",
       "    }\n",
       "\n",
       "    .dataframe thead th {\n",
       "        text-align: right;\n",
       "    }\n",
       "</style>\n",
       "<table border=\"1\" class=\"dataframe\">\n",
       "  <thead>\n",
       "    <tr style=\"text-align: right;\">\n",
       "      <th></th>\n",
       "      <th>weekly_worked</th>\n",
       "      <th>gender</th>\n",
       "      <th>age</th>\n",
       "      <th>edu</th>\n",
       "      <th>family</th>\n",
       "      <th>marriage</th>\n",
       "      <th>householder</th>\n",
       "      <th>income</th>\n",
       "      <th>city</th>\n",
       "      <th>target</th>\n",
       "    </tr>\n",
       "  </thead>\n",
       "  <tbody>\n",
       "    <tr>\n",
       "      <th>0</th>\n",
       "      <td>1</td>\n",
       "      <td>2</td>\n",
       "      <td>7</td>\n",
       "      <td>1</td>\n",
       "      <td>3</td>\n",
       "      <td>2</td>\n",
       "      <td>2</td>\n",
       "      <td>2</td>\n",
       "      <td>15</td>\n",
       "      <td>0</td>\n",
       "    </tr>\n",
       "    <tr>\n",
       "      <th>1</th>\n",
       "      <td>1</td>\n",
       "      <td>1</td>\n",
       "      <td>5</td>\n",
       "      <td>3</td>\n",
       "      <td>3</td>\n",
       "      <td>2</td>\n",
       "      <td>1</td>\n",
       "      <td>3</td>\n",
       "      <td>15</td>\n",
       "      <td>0</td>\n",
       "    </tr>\n",
       "    <tr>\n",
       "      <th>2</th>\n",
       "      <td>2</td>\n",
       "      <td>2</td>\n",
       "      <td>6</td>\n",
       "      <td>1</td>\n",
       "      <td>3</td>\n",
       "      <td>3</td>\n",
       "      <td>2</td>\n",
       "      <td>2</td>\n",
       "      <td>15</td>\n",
       "      <td>0</td>\n",
       "    </tr>\n",
       "    <tr>\n",
       "      <th>3</th>\n",
       "      <td>1</td>\n",
       "      <td>1</td>\n",
       "      <td>5</td>\n",
       "      <td>3</td>\n",
       "      <td>3</td>\n",
       "      <td>3</td>\n",
       "      <td>1</td>\n",
       "      <td>2</td>\n",
       "      <td>15</td>\n",
       "      <td>0</td>\n",
       "    </tr>\n",
       "    <tr>\n",
       "      <th>4</th>\n",
       "      <td>1</td>\n",
       "      <td>1</td>\n",
       "      <td>5</td>\n",
       "      <td>3</td>\n",
       "      <td>2</td>\n",
       "      <td>1</td>\n",
       "      <td>1</td>\n",
       "      <td>2</td>\n",
       "      <td>15</td>\n",
       "      <td>1</td>\n",
       "    </tr>\n",
       "  </tbody>\n",
       "</table>\n",
       "</div>"
      ],
      "text/plain": [
       "   weekly_worked  gender  age  edu  family  marriage  householder  income  \\\n",
       "0              1       2    7    1       3         2            2       2   \n",
       "1              1       1    5    3       3         2            1       3   \n",
       "2              2       2    6    1       3         3            2       2   \n",
       "3              1       1    5    3       3         3            1       2   \n",
       "4              1       1    5    3       2         1            1       2   \n",
       "\n",
       "   city target  \n",
       "0    15      0  \n",
       "1    15      0  \n",
       "2    15      0  \n",
       "3    15      0  \n",
       "4    15      1  "
      ]
     },
     "execution_count": 1,
     "metadata": {},
     "output_type": "execute_result"
    }
   ],
   "source": [
    "import pandas as pd\n",
    "import numpy as np\n",
    "import seaborn as sns\n",
    "import matplotlib.pyplot as plt\n",
    "\n",
    "# 데이터 불러오기\n",
    "data_dir = 'D:/thon/project/tourism/02.국민여가활동조사/3.데이터'\n",
    "h21 = pd.read_csv(data_dir + '/hobby_21.csv')\n",
    "h21 = pd.DataFrame(h21)\n",
    "\n",
    "# 스포츠경험자/스포츠비경험자 칼럼 생성\n",
    "h21['sports_exp'] = np.NaN # 스포츠경험자 칼럼 생성\n",
    "h21.loc[(h21['q1_C'] != '99') | (h21['q1_D'] != '99'), 'sports_exp'] = '1' # 스포츠경험자 == 1\n",
    "h21.loc[(h21['q1_C'] == '99') & (h21['q1_D'] == '99'), 'sports_exp'] = '0' # 스포츠비경험자 == 0\n",
    "\n",
    "# EDA에서 변수선택으로 추린 변수와 target\n",
    "df = h21[['q45', 'DM1', 'DM2', 'DM3', 'DM4', 'DM5', 'DM6', 'DM8', 'DM11', 'sports_exp']] # 분석에 사용할 칼럼 추출\n",
    "df.columns = ['weekly_worked', 'gender', 'age', 'edu', 'family', 'marriage', 'householder', 'income', 'city', 'target'] # 칼럼명 변경\n",
    "predictor = ['weekly_worked', 'gender', 'age', 'edu', 'family', 'marriage', 'householder', 'income', 'city'] # 분석에 사용할 독립변수 지정\n",
    "df.head()"
   ]
  },
  {
   "cell_type": "code",
   "execution_count": 12,
   "metadata": {},
   "outputs": [],
   "source": [
    "df = df.loc[(df['age'] < 7) & (df['age'] > 1)]"
   ]
  },
  {
   "cell_type": "code",
   "execution_count": 32,
   "metadata": {},
   "outputs": [],
   "source": [
    "df = df[['gender', 'age', 'city', 'target']]\n",
    "predictor = ['gender', 'age', 'city']"
   ]
  },
  {
   "cell_type": "markdown",
   "metadata": {},
   "source": [
    "## 분류모델 및 Feature Importance"
   ]
  },
  {
   "cell_type": "code",
   "execution_count": 33,
   "metadata": {},
   "outputs": [],
   "source": [
    "from sklearn.ensemble import RandomForestClassifier\n",
    "from sklearn.model_selection import train_test_split\n",
    "from sklearn import metrics\n",
    "\n",
    "### train, test 데이터 분리\n",
    "train, test = train_test_split(df, test_size = 0.3, random_state = 0, stratify = df['target'])\n",
    "train_X = train[train.columns[:-1]]\n",
    "train_y = train[train.columns[-1:]]\n",
    "test_X = test[test.columns[:-1]]\n",
    "test_y = test[test.columns[-1:]]\n",
    "X = df[df.columns[:-1]]\n",
    "y = df[df.columns[-1:]]\n",
    "\n",
    "train_X_dummy = pd.get_dummies(train_X, columns = predictor, drop_first = True)\n",
    "test_X_dummy = pd.get_dummies(test_X, columns = predictor, drop_first = True)\n"
   ]
  },
  {
   "cell_type": "markdown",
   "metadata": {},
   "source": [
    "### 랜덤포레스트"
   ]
  },
  {
   "cell_type": "code",
   "execution_count": 34,
   "metadata": {},
   "outputs": [
    {
     "name": "stdout",
     "output_type": "stream",
     "text": [
      "최적 하이퍼 파라미터:  {'max_depth': 8, 'min_samples_leaf': 8, 'min_samples_split': 8, 'n_estimators': 10}\n",
      "최고 예측 정확도: 0.7216\n"
     ]
    },
    {
     "name": "stderr",
     "output_type": "stream",
     "text": [
      "c:\\Users\\sujin\\anaconda3\\envs\\tf\\lib\\site-packages\\sklearn\\model_selection\\_search.py:926: DataConversionWarning: A column-vector y was passed when a 1d array was expected. Please change the shape of y to (n_samples,), for example using ravel().\n",
      "  self.best_estimator_.fit(X, y, **fit_params)\n"
     ]
    }
   ],
   "source": [
    "from sklearn.model_selection import GridSearchCV\n",
    "\n",
    "params = { 'n_estimators' : [10, 100],\n",
    "           'max_depth' : [6, 8, 10, 12],\n",
    "           'min_samples_leaf' : [8, 12, 18],\n",
    "           'min_samples_split' : [8, 16, 20]\n",
    "            }\n",
    "\n",
    "# RandomForestClassifier 객체 생성 후 GridSearchCV 수행\n",
    "rf_clf = RandomForestClassifier(random_state = 0, n_jobs = -1)\n",
    "grid_cv = GridSearchCV(rf_clf, param_grid = params, cv = 3, n_jobs = -1)\n",
    "grid_cv.fit(train_X, train_y)\n",
    "\n",
    "print('최적 하이퍼 파라미터: ', grid_cv.best_params_)\n",
    "print('최고 예측 정확도: {:.4f}'.format(grid_cv.best_score_))"
   ]
  },
  {
   "cell_type": "code",
   "execution_count": 35,
   "metadata": {},
   "outputs": [
    {
     "name": "stdout",
     "output_type": "stream",
     "text": [
      "Accuracy for Random Forests is 0.7158023683135973\n"
     ]
    },
    {
     "name": "stderr",
     "output_type": "stream",
     "text": [
      "C:\\Users\\sujin\\AppData\\Local\\Temp\\ipykernel_3316\\1753716136.py:4: DataConversionWarning: A column-vector y was passed when a 1d array was expected. Please change the shape of y to (n_samples,), for example using ravel().\n",
      "  model.fit(train_X, train_y)\n"
     ]
    },
    {
     "data": {
      "image/png": "[encoded data removed]",
      "text/plain": [
       "<Figure size 720x576 with 1 Axes>"
      ]
     },
     "metadata": {},
     "output_type": "display_data"
    }
   ],
   "source": [
    "### RandomForest Classification Model\n",
    "\n",
    "model = RandomForestClassifier(n_estimators = 10, max_depth = 6, min_samples_leaf = 12, min_samples_split = 8, random_state = 11, n_jobs = -1)\n",
    "model.fit(train_X, train_y)\n",
    "prediction_rf = model.predict(test_X)\n",
    "print('Accuracy for Random Forests is', metrics.accuracy_score(prediction_rf, test_y)) # 분류 정확도\n",
    "\n",
    "# Feature Importance\n",
    "ft_importance_value = model.feature_importances_\n",
    "ft_series = pd.Series(ft_importance_value, index = train_X.columns)\n",
    "ft_top10 = ft_series.sort_values(ascending = False)[:10]\n",
    "#ft_top10.index = ['여성', '주간 경제활동 O', '경기', '가구소득 2-300만원', '고졸', '가구원수 2인 이상', '가구소득 1-200만원', '대졸 이상', '기혼', '70세 이상']\n",
    "\n",
    "sns.set(font_scale = 1.5)\n",
    "plt.rc(\"font\", family = \"NanumGothic\") # 한글깨짐 방지\n",
    "plt.figure(figsize = (10, 8))\n",
    "plt.title('Feature Importance Top 10 of randomforest')\n",
    "sns.barplot(x = ft_top10, y = ft_top10.index)\n",
    "plt.show()"
   ]
  },
  {
   "cell_type": "markdown",
   "metadata": {},
   "source": [
    "### 그래디언트 부스트"
   ]
  },
  {
   "cell_type": "code",
   "execution_count": 36,
   "metadata": {},
   "outputs": [
    {
     "name": "stdout",
     "output_type": "stream",
     "text": [
      "최적 하이퍼 파라미터:  {'learning_rate': 0.30000000000000004, 'max_depth': 3, 'max_features': 2, 'n_estimators': 15}\n",
      "최고 예측 정확도: 0.7230\n"
     ]
    },
    {
     "name": "stderr",
     "output_type": "stream",
     "text": [
      "c:\\Users\\sujin\\anaconda3\\envs\\tf\\lib\\site-packages\\sklearn\\ensemble\\_gb.py:494: DataConversionWarning: A column-vector y was passed when a 1d array was expected. Please change the shape of y to (n_samples, ), for example using ravel().\n",
      "  y = column_or_1d(y, warn=True)\n"
     ]
    }
   ],
   "source": [
    "from sklearn.model_selection import GridSearchCV\n",
    "from sklearn.ensemble import GradientBoostingClassifier\n",
    "\n",
    "params = { 'n_estimators' : range(5, 50, 10),\n",
    "           'max_depth' : range(3, 5),\n",
    "           'learning_rate' : np.linspace(0.1, 1, 10),\n",
    "           'max_features' : range(1, 4)\n",
    "            }\n",
    "\n",
    "# RandomForestClassifier 객체 생성 후 GridSearchCV 수행\n",
    "gb_clf = GradientBoostingClassifier(random_state = 0)\n",
    "grid_cv = GridSearchCV(gb_clf, param_grid = params, cv = 3, n_jobs = -1)\n",
    "grid_cv.fit(train_X, train_y)\n",
    "\n",
    "print('최적 하이퍼 파라미터: ', grid_cv.best_params_)\n",
    "print('최고 예측 정확도: {:.4f}'.format(grid_cv.best_score_))"
   ]
  },
  {
   "cell_type": "code",
   "execution_count": 37,
   "metadata": {},
   "outputs": [
    {
     "name": "stdout",
     "output_type": "stream",
     "text": [
      "Accuracy for gradient boost is 0.7251939567170274\n"
     ]
    },
    {
     "name": "stderr",
     "output_type": "stream",
     "text": [
      "c:\\Users\\sujin\\anaconda3\\envs\\tf\\lib\\site-packages\\sklearn\\ensemble\\_gb.py:494: DataConversionWarning: A column-vector y was passed when a 1d array was expected. Please change the shape of y to (n_samples, ), for example using ravel().\n",
      "  y = column_or_1d(y, warn=True)\n"
     ]
    },
    {
     "data": {
      "image/png": "[encoded data removed]",
      "text/plain": [
       "<Figure size 720x576 with 1 Axes>"
      ]
     },
     "metadata": {},
     "output_type": "display_data"
    }
   ],
   "source": [
    "# GradientBoost Classifier\n",
    "from sklearn.ensemble import GradientBoostingClassifier\n",
    "\n",
    "model = GradientBoostingClassifier(n_estimators = 35, learning_rate = 0.3, max_depth = 3, max_features = 3, random_state = 0)\n",
    "model.fit(train_X, train_y)\n",
    "prediction_gb = model.predict(test_X)\n",
    "print('Accuracy for gradient boost is', metrics.accuracy_score(prediction_gb, test_y))\n",
    "\n",
    "ft_importance_value = model.feature_importances_\n",
    "ft_series = pd.Series(ft_importance_value, index = train_X.columns)\n",
    "ft_top10 = ft_series.sort_values(ascending = False)[:10]\n",
    "#ft_top10.index = ['여성', '70세 이상', '대졸 이상', '제주', '사별/이혼', '강원', '경기', '대전', '주간 근무 O', '고졸']\n",
    "\n",
    "plt.figure(figsize = (10, 8))\n",
    "plt.title('Feature Importance Top 10 of Gradient Boost')\n",
    "sns.barplot(x = ft_top10, y = ft_top10.index)\n",
    "plt.show()"
   ]
  },
  {
   "cell_type": "markdown",
   "metadata": {},
   "source": [
    "### 더미변수화 후 그래디언트부스팅"
   ]
  },
  {
   "cell_type": "code",
   "execution_count": 40,
   "metadata": {},
   "outputs": [],
   "source": [
    "from sklearn.model_selection import train_test_split\n",
    "\n",
    "df_gb = df#[['gender', 'city', 'age', 'edu', 'marriage', 'target']]\n",
    "train_gb, test_gb = train_test_split(df_gb, test_size = 0.3, random_state = 0, stratify = df['target'])\n",
    "train_X_gb = train_gb[train_gb.columns[:-1]]\n",
    "train_y_gb = train_gb[train_gb.columns[-1:]]\n",
    "test_X_gb = test_gb[test_gb.columns[:-1]]\n",
    "test_y_gb = test_gb[test_gb.columns[-1:]]\n",
    "\n",
    "train_X_dummy_gb = pd.get_dummies(train_X_gb, columns = ['gender', 'city', 'age'], drop_first = True)\n",
    "test_X_dummy_gb = pd.get_dummies(test_X_gb, columns = ['gender', 'city', 'age'], drop_first = True)"
   ]
  },
  {
   "cell_type": "code",
   "execution_count": 41,
   "metadata": {},
   "outputs": [
    {
     "name": "stdout",
     "output_type": "stream",
     "text": [
      "최적 하이퍼 파라미터:  {'learning_rate': 0.4, 'max_depth': 3, 'max_features': 1, 'n_estimators': 25}\n",
      "최고 예측 정확도: 0.7223\n"
     ]
    },
    {
     "name": "stderr",
     "output_type": "stream",
     "text": [
      "c:\\Users\\sujin\\anaconda3\\envs\\tf\\lib\\site-packages\\sklearn\\ensemble\\_gb.py:494: DataConversionWarning: A column-vector y was passed when a 1d array was expected. Please change the shape of y to (n_samples, ), for example using ravel().\n",
      "  y = column_or_1d(y, warn=True)\n"
     ]
    }
   ],
   "source": [
    "from sklearn.model_selection import GridSearchCV\n",
    "from sklearn.ensemble import GradientBoostingClassifier\n",
    "\n",
    "params = { 'n_estimators' : range(5, 50, 10),\n",
    "           'max_depth' : range(3, 5),\n",
    "           'learning_rate' : np.linspace(0.1, 1, 10),\n",
    "           'max_features' : range(1, 4)\n",
    "            }\n",
    "\n",
    "# RandomForestClassifier 객체 생성 후 GridSearchCV 수행\n",
    "gb_clf = GradientBoostingClassifier(random_state = 0)\n",
    "grid_cv = GridSearchCV(gb_clf, param_grid = params, cv = 3, n_jobs = -1)\n",
    "grid_cv.fit(train_X_dummy_gb, train_y_gb)\n",
    "\n",
    "print('최적 하이퍼 파라미터: ', grid_cv.best_params_)\n",
    "print('최고 예측 정확도: {:.4f}'.format(grid_cv.best_score_))"
   ]
  },
  {
   "cell_type": "code",
   "execution_count": 44,
   "metadata": {},
   "outputs": [
    {
     "name": "stderr",
     "output_type": "stream",
     "text": [
      "c:\\Users\\sujin\\anaconda3\\envs\\tf\\lib\\site-packages\\sklearn\\ensemble\\_gb.py:494: DataConversionWarning: A column-vector y was passed when a 1d array was expected. Please change the shape of y to (n_samples, ), for example using ravel().\n",
      "  y = column_or_1d(y, warn=True)\n"
     ]
    },
    {
     "name": "stdout",
     "output_type": "stream",
     "text": [
      "Train accuracy score is 0.723\n",
      "Test Accuracy for gradient boost is 0.718\n"
     ]
    },
    {
     "data": {
      "image/png": "[encoded data removed]",
      "text/plain": [
       "<Figure size 720x576 with 1 Axes>"
      ]
     },
     "metadata": {},
     "output_type": "display_data"
    }
   ],
   "source": [
    "# GradientBoost Classifier\n",
    "from sklearn.ensemble import GradientBoostingClassifier\n",
    "from sklearn.metrics import accuracy_score\n",
    "\n",
    "model = GradientBoostingClassifier(n_estimators = 15, learning_rate = 0.7,\n",
    "max_depth = 4, max_features = 1, random_state = 0)\n",
    "model.fit(train_X_dummy_gb, train_y_gb)\n",
    "pred_y = model.predict(train_X_dummy_gb)\n",
    "train_acc = accuracy_score(y_true = train_y_gb, y_pred = pred_y)\n",
    "print('Train accuracy score is', round(train_acc, 3))\n",
    "prediction_gb = model.predict(test_X_dummy_gb)\n",
    "print('Test Accuracy for gradient boost is', round(metrics.accuracy_score(prediction_gb, test_y_gb), 3))\n",
    "\n",
    "ft_importance_value = model.feature_importances_\n",
    "ft_series = pd.Series(ft_importance_value, index = train_X_dummy_gb.columns)\n",
    "ft_top20 = ft_series.sort_values(ascending = False)[:20]\n",
    "#ft_top20.index = ['성별_여성', '학력_중졸', '거주지_제주', '사별/이혼', '거주지_대전', '학력_대졸', '거주지_경기', '연령_60대', '기혼',\n",
    "#'거주지_강원', '거주지_경남', '학력_고졸', '연령_40대', '연령_30대', '거주지_충남', '연령_50대', '거주지_충북', '거주지_울산', '거주지_전북', '거주지_대구']\n",
    "\n",
    "plt.figure(figsize = (10, 8))\n",
    "plt.title('Feature Importance Top 20 of Gradient Boost')\n",
    "sns.barplot(x = ft_top20, y = ft_top20.index)\n",
    "plt.show()"
   ]
  },
  {
   "cell_type": "code",
   "execution_count": null,
   "metadata": {},
   "outputs": [],
   "source": []
  }
 ],
 "metadata": {
  "kernelspec": {
   "display_name": "Python 3.9.7 ('tf')",
   "language": "python",
   "name": "python3"
  },
  "language_info": {
   "codemirror_mode": {
    "name": "ipython",
    "version": 3
   },
   "file_extension": ".py",
   "mimetype": "text/x-python",
   "name": "python",
   "nbconvert_exporter": "python",
   "pygments_lexer": "ipython3",
   "version": "3.9.7"
  },
  "orig_nbformat": 4,
  "vscode": {
   "interpreter": {
    "hash": "d88f82afb66455697598f3be97bf4103fd55222ccf64b880ef38c583c364c29c"
   }
  }
 },
 "nbformat": 4,
 "nbformat_minor": 2
}
