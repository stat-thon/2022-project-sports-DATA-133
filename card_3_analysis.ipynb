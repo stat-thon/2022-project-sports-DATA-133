{
 "cells": [
  {
   "cell_type": "code",
   "execution_count": 1,
   "metadata": {},
   "outputs": [],
   "source": [
    "import pandas as pd\n",
    "import numpy as np\n",
    "import seaborn as sns\n",
    "import matplotlib.pyplot as plt"
   ]
  },
  {
   "cell_type": "code",
   "execution_count": 34,
   "metadata": {},
   "outputs": [],
   "source": [
    "# data dir\n",
    "\n",
    "data_dir = 'D:/thon/project/tourism/2022년/카드데이터'\n",
    "\n",
    "# data load\n",
    "\n",
    "card = pd.read_csv(data_dir + '/card_sports.csv') # load하는데 12초 소요\n",
    "card = card.drop(['Unnamed: 0', 'gb3', 'v3'], axis = 1) # 스포츠활동 대분류인 gb3 칼럼과, 세부지역인 v3 칼럼은 제거\n",
    "card = card.loc[card['gb3'] == '스포츠활동']\n",
    "card['avg_spend'] = round(card['vlm'] / card['usec'], -1).astype(int)\n",
    "index_to_drop = card.loc[(card['gb2'] == '스포츠용품구매') |\n",
    "(card['gb2'] == '운동경기관람')].index\n",
    "card = card.drop(index_to_drop, axis = 0)\n"
   ]
  },
  {
   "cell_type": "markdown",
   "metadata": {},
   "source": [
    "## 추천시스템화"
   ]
  },
  {
   "cell_type": "code",
   "execution_count": 33,
   "metadata": {},
   "outputs": [],
   "source": [
    "### 평균소비액 이상치 제거\n",
    "# 평균소비액의 이상치 판단\n",
    "q1, q3 = card['avg_spend'].quantile([0.25, 0.75])\n",
    "iqr = q3 - q1\n",
    "df = card.loc[card['avg_spend'] < q3 + 1.5 * iqr]\n",
    "index_to_drop = df.loc[df['vlm'] == 0].index\n",
    "df = df.drop(index_to_drop, axis = 0)\n",
    "\n",
    "### 쓰지 않는 칼럼 제거\n",
    "df.drop(['v2','ta_ym', 'daw_ccd_r', 'apv_ts_dl_tm_r', 'avg_spend'], axis = 1, inplace = True)\n",
    "\n",
    "### 행 병합\n",
    "# 나이, 성별, 거주지, 종목명 별로 병합\n",
    "new_df = df.groupby(['v1', 'sex_ccd', 'cln_age_r', 'gb2']).sum()\n",
    "new_df = new_df.reset_index() # 멀티인덱스 해제\n",
    "new_df['avg_spend'] = round(new_df['vlm'] / new_df['usec'], -1).astype(int) # 건당 평균취급액 칼럼 추가\n",
    "new_df['cln_age_r'] = new_df['cln_age_r'].astype(str)\n",
    "new_df['as_person'] = new_df['v1'] + new_df['sex_ccd'] + new_df['cln_age_r']\n",
    "\n",
    "### 새로운 칼럼 'rating' 생성\n",
    "# new_df['avg_spend'] 5개 구간으로 나눠서 레이팅 지표로 삼기\n",
    "bins = pd.cut(new_df['avg_spend'], 5, labels = ['1', '2', '3', '4', '5'])\n",
    "new_df['rating'] = bins\n",
    "\n",
    "### SVD에 사용할 칼럼만 다시 추출\n",
    "recommend_df = new_df[['as_person', 'gb2', 'rating']]\n",
    "recommend_df.columns = ['userId', 'sportsId', 'rating']\n",
    "recommend_df['rating'].astype(int)\n",
    "\n",
    "### 추천시스템 데이터셋\n",
    "from surprise import Reader, Dataset # SVD model의 dataset\n",
    "\n",
    "# 추천 시스템 패키지에 맞는 데이터프레임 생성 (Surprise에서 제시한 데이터 구조를 따라야함)\n",
    "reader = Reader(rating_scale = (1, 5)) # SVD용 데이터구조 설정 1\n",
    "data = Dataset.load_from_df(recommend_df[['userId', 'sportsId', 'rating']], reader = reader) # SVD용 데이터구조 설정 2"
   ]
  },
  {
   "cell_type": "code",
   "execution_count": 7,
   "metadata": {},
   "outputs": [
    {
     "data": {
      "text/html": [
       "<div>\n",
       "<style scoped>\n",
       "    .dataframe tbody tr th:only-of-type {\n",
       "        vertical-align: middle;\n",
       "    }\n",
       "\n",
       "    .dataframe tbody tr th {\n",
       "        vertical-align: top;\n",
       "    }\n",
       "\n",
       "    .dataframe thead th {\n",
       "        text-align: right;\n",
       "    }\n",
       "</style>\n",
       "<table border=\"1\" class=\"dataframe\">\n",
       "  <thead>\n",
       "    <tr style=\"text-align: right;\">\n",
       "      <th></th>\n",
       "      <th>userId</th>\n",
       "      <th>sportsId</th>\n",
       "      <th>rating</th>\n",
       "    </tr>\n",
       "  </thead>\n",
       "  <tbody>\n",
       "    <tr>\n",
       "      <th>0</th>\n",
       "      <td>강원F20</td>\n",
       "      <td>골프</td>\n",
       "      <td>2</td>\n",
       "    </tr>\n",
       "    <tr>\n",
       "      <th>1</th>\n",
       "      <td>강원F20</td>\n",
       "      <td>레저스포츠</td>\n",
       "      <td>1</td>\n",
       "    </tr>\n",
       "    <tr>\n",
       "      <th>2</th>\n",
       "      <td>강원F20</td>\n",
       "      <td>스키</td>\n",
       "      <td>2</td>\n",
       "    </tr>\n",
       "    <tr>\n",
       "      <th>3</th>\n",
       "      <td>강원F20</td>\n",
       "      <td>자전거</td>\n",
       "      <td>1</td>\n",
       "    </tr>\n",
       "    <tr>\n",
       "      <th>4</th>\n",
       "      <td>강원F20</td>\n",
       "      <td>헬스</td>\n",
       "      <td>4</td>\n",
       "    </tr>\n",
       "    <tr>\n",
       "      <th>...</th>\n",
       "      <td>...</td>\n",
       "      <td>...</td>\n",
       "      <td>...</td>\n",
       "    </tr>\n",
       "    <tr>\n",
       "      <th>845</th>\n",
       "      <td>충북M60</td>\n",
       "      <td>골프</td>\n",
       "      <td>4</td>\n",
       "    </tr>\n",
       "    <tr>\n",
       "      <th>846</th>\n",
       "      <td>충북M60</td>\n",
       "      <td>레저스포츠</td>\n",
       "      <td>1</td>\n",
       "    </tr>\n",
       "    <tr>\n",
       "      <th>847</th>\n",
       "      <td>충북M60</td>\n",
       "      <td>스키</td>\n",
       "      <td>2</td>\n",
       "    </tr>\n",
       "    <tr>\n",
       "      <th>848</th>\n",
       "      <td>충북M60</td>\n",
       "      <td>자전거</td>\n",
       "      <td>4</td>\n",
       "    </tr>\n",
       "    <tr>\n",
       "      <th>849</th>\n",
       "      <td>충북M60</td>\n",
       "      <td>헬스</td>\n",
       "      <td>4</td>\n",
       "    </tr>\n",
       "  </tbody>\n",
       "</table>\n",
       "<p>850 rows × 3 columns</p>\n",
       "</div>"
      ],
      "text/plain": [
       "    userId sportsId rating\n",
       "0    강원F20       골프      2\n",
       "1    강원F20    레저스포츠      1\n",
       "2    강원F20       스키      2\n",
       "3    강원F20      자전거      1\n",
       "4    강원F20       헬스      4\n",
       "..     ...      ...    ...\n",
       "845  충북M60       골프      4\n",
       "846  충북M60    레저스포츠      1\n",
       "847  충북M60       스키      2\n",
       "848  충북M60      자전거      4\n",
       "849  충북M60       헬스      4\n",
       "\n",
       "[850 rows x 3 columns]"
      ]
     },
     "execution_count": 7,
     "metadata": {},
     "output_type": "execute_result"
    }
   ],
   "source": [
    "recommend_df"
   ]
  },
  {
   "cell_type": "code",
   "execution_count": 64,
   "metadata": {},
   "outputs": [
    {
     "data": {
      "image/png": "[encoded data removed]",
      "text/plain": [
       "<Figure size 720x360 with 1 Axes>"
      ]
     },
     "metadata": {},
     "output_type": "display_data"
    }
   ],
   "source": [
    "rating_graph = recommend_df['rating'].value_counts().sort_index()\n",
    "\n",
    "sns.set(font_scale = 1.5)\n",
    "plt.rc(\"font\", family = \"NanumGothic\") # 한글깨짐 방지\n",
    "plt.figure(figsize = (10, 5))\n",
    "ax = rating_graph.plot(kind = 'bar')\n",
    "plt.xticks(rotation = 0)\n",
    "ax.set_title('평점 분포', fontsize = 20)\n",
    "    \n",
    "for p in ax.patches:\n",
    "    height = p.get_height()\n",
    "    ax.text(p.get_x() + p.get_width() / 2., height + 2, height, ha = 'center', size = 20)\n",
    "\n",
    "ax.set_xlabel('');  # semicolon suppresses text output"
   ]
  },
  {
   "cell_type": "code",
   "execution_count": 8,
   "metadata": {},
   "outputs": [
    {
     "name": "stdout",
     "output_type": "stream",
     "text": [
      "Best Score:  0.7722320109842152\n",
      "Best Parameters:  {'n_factors': 50, 'lr_all': 0.05, 'reg_all': 0.04}\n"
     ]
    }
   ],
   "source": [
    "### 그리드서치로 SVD 모형의 최적의 파라미터 찾기\n",
    "from surprise import SVD, accuracy # SVD model, 평가\n",
    "from surprise.model_selection import GridSearchCV # GridSearch로 최적의 파라미터 찾기\n",
    "\n",
    "param_grid = {'n_factors': [25, 50, 75,  100], 'lr_all': [0.5, 0.05], 'reg_all': [0.06, 0.04]}\n",
    "gs = GridSearchCV(algo_class = SVD, measures = ['RMSE'], param_grid = param_grid)\n",
    "gs.fit(data)\n",
    "\n",
    "print('Best Score: ', gs.best_score['rmse'])\n",
    "print('Best Parameters: ', gs.best_params['rmse'])\n",
    "\n",
    "### 왜 할 때마다 달라지냐"
   ]
  },
  {
   "cell_type": "code",
   "execution_count": 10,
   "metadata": {},
   "outputs": [
    {
     "name": "stdout",
     "output_type": "stream",
     "text": [
      "RMSE: 0.7886\n"
     ]
    },
    {
     "data": {
      "text/plain": [
       "0.7886118863395373"
      ]
     },
     "execution_count": 10,
     "metadata": {},
     "output_type": "execute_result"
    }
   ],
   "source": [
    "### SVD 모델 적용하여 predict\n",
    "from surprise import accuracy\n",
    "from surprise.model_selection import train_test_split\n",
    "\n",
    "model = SVD(n_factors = 100, lr_all = 0.05, reg_all = 0.04)\n",
    "trainset, testset = train_test_split(data, test_size = .25)\n",
    "model.fit(trainset)\n",
    "predictions = model.test(testset)\n",
    "accuracy.rmse(predictions)"
   ]
  },
  {
   "cell_type": "code",
   "execution_count": 30,
   "metadata": {},
   "outputs": [
    {
     "data": {
      "text/html": [
       "<div>\n",
       "<style scoped>\n",
       "    .dataframe tbody tr th:only-of-type {\n",
       "        vertical-align: middle;\n",
       "    }\n",
       "\n",
       "    .dataframe tbody tr th {\n",
       "        vertical-align: top;\n",
       "    }\n",
       "\n",
       "    .dataframe thead th {\n",
       "        text-align: right;\n",
       "    }\n",
       "</style>\n",
       "<table border=\"1\" class=\"dataframe\">\n",
       "  <thead>\n",
       "    <tr style=\"text-align: right;\">\n",
       "      <th></th>\n",
       "      <th>userId</th>\n",
       "      <th>sportsId</th>\n",
       "      <th>rating</th>\n",
       "    </tr>\n",
       "  </thead>\n",
       "  <tbody>\n",
       "    <tr>\n",
       "      <th>0</th>\n",
       "      <td>부산F30</td>\n",
       "      <td>자전거</td>\n",
       "      <td>2</td>\n",
       "    </tr>\n",
       "    <tr>\n",
       "      <th>1</th>\n",
       "      <td>충북F60</td>\n",
       "      <td>레저스포츠</td>\n",
       "      <td>1</td>\n",
       "    </tr>\n",
       "    <tr>\n",
       "      <th>2</th>\n",
       "      <td>인천F30</td>\n",
       "      <td>헬스</td>\n",
       "      <td>4</td>\n",
       "    </tr>\n",
       "    <tr>\n",
       "      <th>3</th>\n",
       "      <td>울산F50</td>\n",
       "      <td>골프</td>\n",
       "      <td>4</td>\n",
       "    </tr>\n",
       "    <tr>\n",
       "      <th>4</th>\n",
       "      <td>전북M30</td>\n",
       "      <td>헬스</td>\n",
       "      <td>3</td>\n",
       "    </tr>\n",
       "    <tr>\n",
       "      <th>...</th>\n",
       "      <td>...</td>\n",
       "      <td>...</td>\n",
       "      <td>...</td>\n",
       "    </tr>\n",
       "    <tr>\n",
       "      <th>208</th>\n",
       "      <td>전북M30</td>\n",
       "      <td>레저스포츠</td>\n",
       "      <td>1</td>\n",
       "    </tr>\n",
       "    <tr>\n",
       "      <th>209</th>\n",
       "      <td>경기F60</td>\n",
       "      <td>스키</td>\n",
       "      <td>2</td>\n",
       "    </tr>\n",
       "    <tr>\n",
       "      <th>210</th>\n",
       "      <td>전북M30</td>\n",
       "      <td>스키</td>\n",
       "      <td>2</td>\n",
       "    </tr>\n",
       "    <tr>\n",
       "      <th>211</th>\n",
       "      <td>충남F60</td>\n",
       "      <td>골프</td>\n",
       "      <td>4</td>\n",
       "    </tr>\n",
       "    <tr>\n",
       "      <th>212</th>\n",
       "      <td>서울F60</td>\n",
       "      <td>헬스</td>\n",
       "      <td>5</td>\n",
       "    </tr>\n",
       "  </tbody>\n",
       "</table>\n",
       "<p>213 rows × 3 columns</p>\n",
       "</div>"
      ],
      "text/plain": [
       "    userId sportsId  rating\n",
       "0    부산F30      자전거       2\n",
       "1    충북F60    레저스포츠       1\n",
       "2    인천F30       헬스       4\n",
       "3    울산F50       골프       4\n",
       "4    전북M30       헬스       3\n",
       "..     ...      ...     ...\n",
       "208  전북M30    레저스포츠       1\n",
       "209  경기F60       스키       2\n",
       "210  전북M30       스키       2\n",
       "211  충남F60       골프       4\n",
       "212  서울F60       헬스       5\n",
       "\n",
       "[213 rows x 3 columns]"
      ]
     },
     "execution_count": 30,
     "metadata": {},
     "output_type": "execute_result"
    }
   ],
   "source": [
    "a = pd.DataFrame(testset)\n",
    "a.columns = ['userId', 'sportsId', 'rating']\n",
    "a['rating'] = a['rating'].astype(int)\n",
    "a"
   ]
  },
  {
   "cell_type": "code",
   "execution_count": 69,
   "metadata": {},
   "outputs": [
    {
     "name": "stdout",
     "output_type": "stream",
     "text": [
      "<서울에 사는 20대 남성에게 추천하는 종목>\n",
      "골프 에 대한 예상 평점: 3.5\n",
      "레저스포츠 에 대한 예상 평점: 1.1\n",
      "스키 에 대한 예상 평점: 2.0\n",
      "자전거 에 대한 예상 평점: 2.1\n",
      "헬스 에 대한 예상 평점: 4.8\n",
      "\n",
      "가장 추천하는 운동 종목은 헬스 , 그 평점은 4.8 로 예상됩니다.\n",
      "\n",
      "<실제 평점>\n"
     ]
    },
    {
     "data": {
      "text/html": [
       "<div>\n",
       "<style scoped>\n",
       "    .dataframe tbody tr th:only-of-type {\n",
       "        vertical-align: middle;\n",
       "    }\n",
       "\n",
       "    .dataframe tbody tr th {\n",
       "        vertical-align: top;\n",
       "    }\n",
       "\n",
       "    .dataframe thead th {\n",
       "        text-align: right;\n",
       "    }\n",
       "</style>\n",
       "<table border=\"1\" class=\"dataframe\">\n",
       "  <thead>\n",
       "    <tr style=\"text-align: right;\">\n",
       "      <th></th>\n",
       "      <th>userId</th>\n",
       "      <th>sportsId</th>\n",
       "      <th>rating</th>\n",
       "    </tr>\n",
       "  </thead>\n",
       "  <tbody>\n",
       "    <tr>\n",
       "      <th>425</th>\n",
       "      <td>서울M20</td>\n",
       "      <td>골프</td>\n",
       "      <td>2</td>\n",
       "    </tr>\n",
       "    <tr>\n",
       "      <th>426</th>\n",
       "      <td>서울M20</td>\n",
       "      <td>레저스포츠</td>\n",
       "      <td>1</td>\n",
       "    </tr>\n",
       "    <tr>\n",
       "      <th>427</th>\n",
       "      <td>서울M20</td>\n",
       "      <td>스키</td>\n",
       "      <td>2</td>\n",
       "    </tr>\n",
       "    <tr>\n",
       "      <th>428</th>\n",
       "      <td>서울M20</td>\n",
       "      <td>자전거</td>\n",
       "      <td>2</td>\n",
       "    </tr>\n",
       "    <tr>\n",
       "      <th>429</th>\n",
       "      <td>서울M20</td>\n",
       "      <td>헬스</td>\n",
       "      <td>5</td>\n",
       "    </tr>\n",
       "  </tbody>\n",
       "</table>\n",
       "</div>"
      ],
      "text/plain": [
       "    userId sportsId rating\n",
       "425  서울M20       골프      2\n",
       "426  서울M20    레저스포츠      1\n",
       "427  서울M20       스키      2\n",
       "428  서울M20      자전거      2\n",
       "429  서울M20       헬스      5"
      ]
     },
     "execution_count": 69,
     "metadata": {},
     "output_type": "execute_result"
    }
   ],
   "source": [
    "### 특정 집단 특성에 대한 추천 예시\n",
    "# 예: 서울에 사는 20대 남성에게 가장 추천하는 스포츠는?\n",
    "\n",
    "ex_id = '서울M20'\n",
    "sports = ['골프', '레저스포츠', '스키', '자전거', '헬스']\n",
    "ex_rating = []\n",
    "print('<서울에 사는 20대 남성에게 추천하는 종목>')\n",
    "for i, col in enumerate(sports):\n",
    "    exp_rating = round(model.predict(ex_id, col).est, 1)\n",
    "    ex_rating.append(exp_rating)\n",
    "    print(col, '에 대한 예상 평점:', round(model.predict(ex_id, col).est, 1))\n",
    "\n",
    "print('\\n가장 추천하는 운동 종목은', sports[ex_rating.index(max(ex_rating))], ', 그 평점은', max(ex_rating), '로 예상됩니다.')\n",
    "print('\\n<실제 평점>')\n",
    "recommend_df.loc[recommend_df['userId'] == '서울M20']"
   ]
  }
 ],
 "metadata": {
  "kernelspec": {
   "display_name": "Python 3.9.7 ('tf')",
   "language": "python",
   "name": "python3"
  },
  "language_info": {
   "codemirror_mode": {
    "name": "ipython",
    "version": 3
   },
   "file_extension": ".py",
   "mimetype": "text/x-python",
   "name": "python",
   "nbconvert_exporter": "python",
   "pygments_lexer": "ipython3",
   "version": "3.9.7"
  },
  "orig_nbformat": 4,
  "vscode": {
   "interpreter": {
    "hash": "d88f82afb66455697598f3be97bf4103fd55222ccf64b880ef38c583c364c29c"
   }
  }
 },
 "nbformat": 4,
 "nbformat_minor": 2
}
