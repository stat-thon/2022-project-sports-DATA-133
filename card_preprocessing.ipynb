{
 "cells": [
  {
   "cell_type": "code",
   "execution_count": 1,
   "metadata": {},
   "outputs": [],
   "source": [
    "import pandas as pd\n",
    "import numpy as np\n",
    "import seaborn as sns\n",
    "import matplotlib.pyplot as plt"
   ]
  },
  {
   "cell_type": "code",
   "execution_count": 2,
   "metadata": {},
   "outputs": [
    {
     "name": "stderr",
     "output_type": "stream",
     "text": [
      "C:\\Users\\sujin\\AppData\\Local\\Temp\\ipykernel_5444\\3999143833.py:7: DtypeWarning: Columns (6) have mixed types. Specify dtype option on import or set low_memory=False.\n",
      "  card = pd.read_csv(data_dir + '/NATIVE(2018.1_2022.4).txt', sep = '|') # load하는데 1분 40초 소요\n"
     ]
    }
   ],
   "source": [
    "# data dir\n",
    "\n",
    "data_dir = 'D:/thon/project/tourism/2022년/카드데이터'\n",
    "\n",
    "# data load\n",
    "\n",
    "card = pd.read_csv(data_dir + '/NATIVE(2018.1_2022.4).txt', sep = '|') # load하는데 1분 40초 소요"
   ]
  },
  {
   "cell_type": "code",
   "execution_count": 3,
   "metadata": {},
   "outputs": [],
   "source": [
    "card['ta_ym'] = pd.to_datetime(card['ta_ym'], format='%Y%m')\n",
    "#card['year'] = pd.DatetimeIndex(card['ta_ym']).year\n",
    "#card['month'] = pd.DatetimeIndex(card['ta_ym']).month\n",
    "card['avg_spend'] = round(card['vlm'] / card['usec'], 0).astype(int) # 건당 평균 소비액"
   ]
  },
  {
   "cell_type": "code",
   "execution_count": 4,
   "metadata": {},
   "outputs": [
    {
     "data": {
      "text/html": [
       "<div>\n",
       "<style scoped>\n",
       "    .dataframe tbody tr th:only-of-type {\n",
       "        vertical-align: middle;\n",
       "    }\n",
       "\n",
       "    .dataframe tbody tr th {\n",
       "        vertical-align: top;\n",
       "    }\n",
       "\n",
       "    .dataframe thead th {\n",
       "        text-align: right;\n",
       "    }\n",
       "</style>\n",
       "<table border=\"1\" class=\"dataframe\">\n",
       "  <thead>\n",
       "    <tr style=\"text-align: right;\">\n",
       "      <th></th>\n",
       "      <th>v1</th>\n",
       "      <th>v2</th>\n",
       "      <th>v3</th>\n",
       "      <th>gb3</th>\n",
       "      <th>gb2</th>\n",
       "      <th>sex_ccd</th>\n",
       "      <th>cln_age_r</th>\n",
       "      <th>ta_ym</th>\n",
       "      <th>daw_ccd_r</th>\n",
       "      <th>apv_ts_dl_tm_r</th>\n",
       "      <th>vlm</th>\n",
       "      <th>usec</th>\n",
       "      <th>avg_spend</th>\n",
       "    </tr>\n",
       "  </thead>\n",
       "  <tbody>\n",
       "    <tr>\n",
       "      <th>0</th>\n",
       "      <td>세종</td>\n",
       "      <td>세종</td>\n",
       "      <td>.</td>\n",
       "      <td>취미오락</td>\n",
       "      <td>종합쇼핑</td>\n",
       "      <td>F</td>\n",
       "      <td>30</td>\n",
       "      <td>2021-08-01</td>\n",
       "      <td>WHITE</td>\n",
       "      <td>휴식</td>\n",
       "      <td>325008700</td>\n",
       "      <td>12639</td>\n",
       "      <td>25715</td>\n",
       "    </tr>\n",
       "    <tr>\n",
       "      <th>1</th>\n",
       "      <td>세종</td>\n",
       "      <td>세종</td>\n",
       "      <td>.</td>\n",
       "      <td>취미오락</td>\n",
       "      <td>종합쇼핑</td>\n",
       "      <td>M</td>\n",
       "      <td>30</td>\n",
       "      <td>2021-12-01</td>\n",
       "      <td>WHITE</td>\n",
       "      <td>휴식</td>\n",
       "      <td>599872600</td>\n",
       "      <td>20805</td>\n",
       "      <td>28833</td>\n",
       "    </tr>\n",
       "    <tr>\n",
       "      <th>2</th>\n",
       "      <td>서울</td>\n",
       "      <td>세종</td>\n",
       "      <td>.</td>\n",
       "      <td>취미오락</td>\n",
       "      <td>종합쇼핑</td>\n",
       "      <td>F</td>\n",
       "      <td>50</td>\n",
       "      <td>2021-06-01</td>\n",
       "      <td>WHITE</td>\n",
       "      <td>활동</td>\n",
       "      <td>30363400</td>\n",
       "      <td>1075</td>\n",
       "      <td>28245</td>\n",
       "    </tr>\n",
       "    <tr>\n",
       "      <th>3</th>\n",
       "      <td>부산</td>\n",
       "      <td>세종</td>\n",
       "      <td>.</td>\n",
       "      <td>취미오락</td>\n",
       "      <td>외식</td>\n",
       "      <td>F</td>\n",
       "      <td>30</td>\n",
       "      <td>2022-01-01</td>\n",
       "      <td>WHITE</td>\n",
       "      <td>활동</td>\n",
       "      <td>6028600</td>\n",
       "      <td>428</td>\n",
       "      <td>14086</td>\n",
       "    </tr>\n",
       "    <tr>\n",
       "      <th>4</th>\n",
       "      <td>서울</td>\n",
       "      <td>세종</td>\n",
       "      <td>.</td>\n",
       "      <td>취미오락</td>\n",
       "      <td>인터넷게임</td>\n",
       "      <td>F</td>\n",
       "      <td>20</td>\n",
       "      <td>2021-08-01</td>\n",
       "      <td>WHITE</td>\n",
       "      <td>활동</td>\n",
       "      <td>630200</td>\n",
       "      <td>182</td>\n",
       "      <td>3463</td>\n",
       "    </tr>\n",
       "  </tbody>\n",
       "</table>\n",
       "</div>"
      ],
      "text/plain": [
       "   v1  v2 v3   gb3    gb2 sex_ccd cln_age_r      ta_ym daw_ccd_r  \\\n",
       "0  세종  세종  .  취미오락   종합쇼핑       F        30 2021-08-01     WHITE   \n",
       "1  세종  세종  .  취미오락   종합쇼핑       M        30 2021-12-01     WHITE   \n",
       "2  서울  세종  .  취미오락   종합쇼핑       F        50 2021-06-01     WHITE   \n",
       "3  부산  세종  .  취미오락     외식       F        30 2022-01-01     WHITE   \n",
       "4  서울  세종  .  취미오락  인터넷게임       F        20 2021-08-01     WHITE   \n",
       "\n",
       "  apv_ts_dl_tm_r        vlm   usec  avg_spend  \n",
       "0             휴식  325008700  12639      25715  \n",
       "1             휴식  599872600  20805      28833  \n",
       "2             활동   30363400   1075      28245  \n",
       "3             활동    6028600    428      14086  \n",
       "4             활동     630200    182       3463  "
      ]
     },
     "execution_count": 4,
     "metadata": {},
     "output_type": "execute_result"
    }
   ],
   "source": [
    "card.head()"
   ]
  },
  {
   "cell_type": "code",
   "execution_count": 29,
   "metadata": {},
   "outputs": [
    {
     "data": {
      "text/html": [
       "<div>\n",
       "<style scoped>\n",
       "    .dataframe tbody tr th:only-of-type {\n",
       "        vertical-align: middle;\n",
       "    }\n",
       "\n",
       "    .dataframe tbody tr th {\n",
       "        vertical-align: top;\n",
       "    }\n",
       "\n",
       "    .dataframe thead th {\n",
       "        text-align: right;\n",
       "    }\n",
       "</style>\n",
       "<table border=\"1\" class=\"dataframe\">\n",
       "  <thead>\n",
       "    <tr style=\"text-align: right;\">\n",
       "      <th></th>\n",
       "      <th>v1</th>\n",
       "      <th>v2</th>\n",
       "      <th>v3</th>\n",
       "      <th>gb3</th>\n",
       "      <th>gb2</th>\n",
       "      <th>sex_ccd</th>\n",
       "      <th>cln_age_r</th>\n",
       "      <th>ta_ym</th>\n",
       "      <th>daw_ccd_r</th>\n",
       "      <th>apv_ts_dl_tm_r</th>\n",
       "      <th>vlm</th>\n",
       "      <th>usec</th>\n",
       "    </tr>\n",
       "  </thead>\n",
       "  <tbody>\n",
       "    <tr>\n",
       "      <th>48462936</th>\n",
       "      <td>경기</td>\n",
       "      <td>경기</td>\n",
       "      <td>안산시</td>\n",
       "      <td>취미오락</td>\n",
       "      <td>패션쇼핑</td>\n",
       "      <td>M</td>\n",
       "      <td>.</td>\n",
       "      <td>2018-10-01</td>\n",
       "      <td>WHITE</td>\n",
       "      <td>활동</td>\n",
       "      <td>202368</td>\n",
       "      <td>4</td>\n",
       "    </tr>\n",
       "  </tbody>\n",
       "</table>\n",
       "</div>"
      ],
      "text/plain": [
       "          v1  v2   v3   gb3   gb2 sex_ccd cln_age_r      ta_ym daw_ccd_r  \\\n",
       "48462936  경기  경기  안산시  취미오락  패션쇼핑       M         . 2018-10-01     WHITE   \n",
       "\n",
       "         apv_ts_dl_tm_r     vlm  usec  \n",
       "48462936             활동  202368     4  "
      ]
     },
     "execution_count": 29,
     "metadata": {},
     "output_type": "execute_result"
    }
   ],
   "source": [
    "# 나이 결측 하나 확인\n",
    "card.loc[card['cln_age_r'] == '.']"
   ]
  },
  {
   "cell_type": "code",
   "execution_count": 8,
   "metadata": {},
   "outputs": [],
   "source": [
    "# 나이 결측행 제거\n",
    "card = card.drop(card.index[48462936])"
   ]
  },
  {
   "cell_type": "code",
   "execution_count": 3,
   "metadata": {},
   "outputs": [
    {
     "data": {
      "text/plain": [
       "(7560859, 12)"
      ]
     },
     "execution_count": 3,
     "metadata": {},
     "output_type": "execute_result"
    }
   ],
   "source": [
    "# 스포츠활동이 주제이므로 그 데이터만 추출하자\n",
    "card_sports = card.loc[card['gb3'] == '스포츠활동']\n",
    "card_sports.shape"
   ]
  },
  {
   "cell_type": "code",
   "execution_count": 4,
   "metadata": {},
   "outputs": [],
   "source": [
    "card_sports.to_csv('card_sports.csv')"
   ]
  }
 ],
 "metadata": {
  "kernelspec": {
   "display_name": "Python 3.9.7 ('tf')",
   "language": "python",
   "name": "python3"
  },
  "language_info": {
   "codemirror_mode": {
    "name": "ipython",
    "version": 3
   },
   "file_extension": ".py",
   "mimetype": "text/x-python",
   "name": "python",
   "nbconvert_exporter": "python",
   "pygments_lexer": "ipython3",
   "version": "3.9.7"
  },
  "orig_nbformat": 4,
  "vscode": {
   "interpreter": {
    "hash": "d88f82afb66455697598f3be97bf4103fd55222ccf64b880ef38c583c364c29c"
   }
  }
 },
 "nbformat": 4,
 "nbformat_minor": 2
}
