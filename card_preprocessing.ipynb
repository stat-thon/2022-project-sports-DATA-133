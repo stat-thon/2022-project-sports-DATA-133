{
 "cells": [
  {
   "cell_type": "code",
   "execution_count": 5,
   "metadata": {},
   "outputs": [],
   "source": [
    "import pandas as pd\n",
    "import numpy as np\n",
    "import seaborn as sns\n",
    "import matplotlib.pyplot as plt"
   ]
  },
  {
   "cell_type": "code",
   "execution_count": 6,
   "metadata": {},
   "outputs": [
    {
     "name": "stderr",
     "output_type": "stream",
     "text": [
      "C:\\Users\\sujin\\AppData\\Local\\Temp\\ipykernel_1660\\3999143833.py:7: DtypeWarning: Columns (6) have mixed types. Specify dtype option on import or set low_memory=False.\n",
      "  card = pd.read_csv(data_dir + '/NATIVE(2018.1_2022.4).txt', sep = '|') # load하는데 1분 40초 소요\n"
     ]
    }
   ],
   "source": [
    "# data dir\n",
    "\n",
    "data_dir = 'D:/thon/project/tourism/2022년/카드데이터'\n",
    "\n",
    "# data load\n",
    "\n",
    "card = pd.read_csv(data_dir + '/NATIVE(2018.1_2022.4).txt', sep = '|') # load하는데 1분 40초 소요"
   ]
  },
  {
   "cell_type": "code",
   "execution_count": 7,
   "metadata": {},
   "outputs": [
    {
     "data": {
      "text/html": [
       "<div>\n",
       "<style scoped>\n",
       "    .dataframe tbody tr th:only-of-type {\n",
       "        vertical-align: middle;\n",
       "    }\n",
       "\n",
       "    .dataframe tbody tr th {\n",
       "        vertical-align: top;\n",
       "    }\n",
       "\n",
       "    .dataframe thead th {\n",
       "        text-align: right;\n",
       "    }\n",
       "</style>\n",
       "<table border=\"1\" class=\"dataframe\">\n",
       "  <thead>\n",
       "    <tr style=\"text-align: right;\">\n",
       "      <th></th>\n",
       "      <th>v1</th>\n",
       "      <th>v2</th>\n",
       "      <th>v3</th>\n",
       "      <th>gb3</th>\n",
       "      <th>gb2</th>\n",
       "      <th>sex_ccd</th>\n",
       "      <th>cln_age_r</th>\n",
       "      <th>ta_ym</th>\n",
       "      <th>daw_ccd_r</th>\n",
       "      <th>apv_ts_dl_tm_r</th>\n",
       "      <th>vlm</th>\n",
       "      <th>usec</th>\n",
       "    </tr>\n",
       "  </thead>\n",
       "  <tbody>\n",
       "    <tr>\n",
       "      <th>0</th>\n",
       "      <td>세종</td>\n",
       "      <td>세종</td>\n",
       "      <td>.</td>\n",
       "      <td>취미오락</td>\n",
       "      <td>종합쇼핑</td>\n",
       "      <td>F</td>\n",
       "      <td>30</td>\n",
       "      <td>202108</td>\n",
       "      <td>WHITE</td>\n",
       "      <td>휴식</td>\n",
       "      <td>325008700</td>\n",
       "      <td>12639</td>\n",
       "    </tr>\n",
       "    <tr>\n",
       "      <th>1</th>\n",
       "      <td>세종</td>\n",
       "      <td>세종</td>\n",
       "      <td>.</td>\n",
       "      <td>취미오락</td>\n",
       "      <td>종합쇼핑</td>\n",
       "      <td>M</td>\n",
       "      <td>30</td>\n",
       "      <td>202112</td>\n",
       "      <td>WHITE</td>\n",
       "      <td>휴식</td>\n",
       "      <td>599872600</td>\n",
       "      <td>20805</td>\n",
       "    </tr>\n",
       "    <tr>\n",
       "      <th>2</th>\n",
       "      <td>서울</td>\n",
       "      <td>세종</td>\n",
       "      <td>.</td>\n",
       "      <td>취미오락</td>\n",
       "      <td>종합쇼핑</td>\n",
       "      <td>F</td>\n",
       "      <td>50</td>\n",
       "      <td>202106</td>\n",
       "      <td>WHITE</td>\n",
       "      <td>활동</td>\n",
       "      <td>30363400</td>\n",
       "      <td>1075</td>\n",
       "    </tr>\n",
       "    <tr>\n",
       "      <th>3</th>\n",
       "      <td>부산</td>\n",
       "      <td>세종</td>\n",
       "      <td>.</td>\n",
       "      <td>취미오락</td>\n",
       "      <td>외식</td>\n",
       "      <td>F</td>\n",
       "      <td>30</td>\n",
       "      <td>202201</td>\n",
       "      <td>WHITE</td>\n",
       "      <td>활동</td>\n",
       "      <td>6028600</td>\n",
       "      <td>428</td>\n",
       "    </tr>\n",
       "    <tr>\n",
       "      <th>4</th>\n",
       "      <td>서울</td>\n",
       "      <td>세종</td>\n",
       "      <td>.</td>\n",
       "      <td>취미오락</td>\n",
       "      <td>인터넷게임</td>\n",
       "      <td>F</td>\n",
       "      <td>20</td>\n",
       "      <td>202108</td>\n",
       "      <td>WHITE</td>\n",
       "      <td>활동</td>\n",
       "      <td>630200</td>\n",
       "      <td>182</td>\n",
       "    </tr>\n",
       "  </tbody>\n",
       "</table>\n",
       "</div>"
      ],
      "text/plain": [
       "   v1  v2 v3   gb3    gb2 sex_ccd cln_age_r   ta_ym daw_ccd_r apv_ts_dl_tm_r  \\\n",
       "0  세종  세종  .  취미오락   종합쇼핑       F        30  202108     WHITE             휴식   \n",
       "1  세종  세종  .  취미오락   종합쇼핑       M        30  202112     WHITE             휴식   \n",
       "2  서울  세종  .  취미오락   종합쇼핑       F        50  202106     WHITE             활동   \n",
       "3  부산  세종  .  취미오락     외식       F        30  202201     WHITE             활동   \n",
       "4  서울  세종  .  취미오락  인터넷게임       F        20  202108     WHITE             활동   \n",
       "\n",
       "         vlm   usec  \n",
       "0  325008700  12639  \n",
       "1  599872600  20805  \n",
       "2   30363400   1075  \n",
       "3    6028600    428  \n",
       "4     630200    182  "
      ]
     },
     "execution_count": 7,
     "metadata": {},
     "output_type": "execute_result"
    }
   ],
   "source": [
    "card.head()"
   ]
  },
  {
   "cell_type": "code",
   "execution_count": 8,
   "metadata": {},
   "outputs": [
    {
     "data": {
      "text/plain": [
       "(50905132, 12)"
      ]
     },
     "execution_count": 8,
     "metadata": {},
     "output_type": "execute_result"
    }
   ],
   "source": [
    "card.shape"
   ]
  },
  {
   "cell_type": "code",
   "execution_count": 9,
   "metadata": {},
   "outputs": [],
   "source": [
    "card['ta_ym'] = pd.to_datetime(card['ta_ym'], format='%Y%m')\n",
    "card['year'] = pd.DatetimeIndex(card['ta_ym']).year\n",
    "card['month'] = pd.DatetimeIndex(card['ta_ym']).month\n",
    "card['avg_spend'] = round(card['vlm'] / card['usec'], 0).astype(int) # 건당 평균 소비액"
   ]
  },
  {
   "cell_type": "code",
   "execution_count": 21,
   "metadata": {},
   "outputs": [
    {
     "data": {
      "text/html": [
       "<div>\n",
       "<style scoped>\n",
       "    .dataframe tbody tr th:only-of-type {\n",
       "        vertical-align: middle;\n",
       "    }\n",
       "\n",
       "    .dataframe tbody tr th {\n",
       "        vertical-align: top;\n",
       "    }\n",
       "\n",
       "    .dataframe thead th {\n",
       "        text-align: right;\n",
       "    }\n",
       "</style>\n",
       "<table border=\"1\" class=\"dataframe\">\n",
       "  <thead>\n",
       "    <tr style=\"text-align: right;\">\n",
       "      <th></th>\n",
       "      <th>v1</th>\n",
       "      <th>v2</th>\n",
       "      <th>v3</th>\n",
       "      <th>gb3</th>\n",
       "      <th>gb2</th>\n",
       "      <th>sex_ccd</th>\n",
       "      <th>cln_age_r</th>\n",
       "      <th>ta_ym</th>\n",
       "      <th>daw_ccd_r</th>\n",
       "      <th>apv_ts_dl_tm_r</th>\n",
       "      <th>vlm</th>\n",
       "      <th>usec</th>\n",
       "      <th>year</th>\n",
       "      <th>month</th>\n",
       "      <th>avg_spend</th>\n",
       "    </tr>\n",
       "  </thead>\n",
       "  <tbody>\n",
       "    <tr>\n",
       "      <th>0</th>\n",
       "      <td>세종</td>\n",
       "      <td>세종</td>\n",
       "      <td>.</td>\n",
       "      <td>취미오락</td>\n",
       "      <td>종합쇼핑</td>\n",
       "      <td>F</td>\n",
       "      <td>30</td>\n",
       "      <td>2021-08-01</td>\n",
       "      <td>WHITE</td>\n",
       "      <td>휴식</td>\n",
       "      <td>325008700</td>\n",
       "      <td>12639</td>\n",
       "      <td>2021</td>\n",
       "      <td>8</td>\n",
       "      <td>25715</td>\n",
       "    </tr>\n",
       "    <tr>\n",
       "      <th>1</th>\n",
       "      <td>세종</td>\n",
       "      <td>세종</td>\n",
       "      <td>.</td>\n",
       "      <td>취미오락</td>\n",
       "      <td>종합쇼핑</td>\n",
       "      <td>M</td>\n",
       "      <td>30</td>\n",
       "      <td>2021-12-01</td>\n",
       "      <td>WHITE</td>\n",
       "      <td>휴식</td>\n",
       "      <td>599872600</td>\n",
       "      <td>20805</td>\n",
       "      <td>2021</td>\n",
       "      <td>12</td>\n",
       "      <td>28833</td>\n",
       "    </tr>\n",
       "    <tr>\n",
       "      <th>2</th>\n",
       "      <td>서울</td>\n",
       "      <td>세종</td>\n",
       "      <td>.</td>\n",
       "      <td>취미오락</td>\n",
       "      <td>종합쇼핑</td>\n",
       "      <td>F</td>\n",
       "      <td>50</td>\n",
       "      <td>2021-06-01</td>\n",
       "      <td>WHITE</td>\n",
       "      <td>활동</td>\n",
       "      <td>30363400</td>\n",
       "      <td>1075</td>\n",
       "      <td>2021</td>\n",
       "      <td>6</td>\n",
       "      <td>28245</td>\n",
       "    </tr>\n",
       "    <tr>\n",
       "      <th>3</th>\n",
       "      <td>부산</td>\n",
       "      <td>세종</td>\n",
       "      <td>.</td>\n",
       "      <td>취미오락</td>\n",
       "      <td>외식</td>\n",
       "      <td>F</td>\n",
       "      <td>30</td>\n",
       "      <td>2022-01-01</td>\n",
       "      <td>WHITE</td>\n",
       "      <td>활동</td>\n",
       "      <td>6028600</td>\n",
       "      <td>428</td>\n",
       "      <td>2022</td>\n",
       "      <td>1</td>\n",
       "      <td>14086</td>\n",
       "    </tr>\n",
       "    <tr>\n",
       "      <th>4</th>\n",
       "      <td>서울</td>\n",
       "      <td>세종</td>\n",
       "      <td>.</td>\n",
       "      <td>취미오락</td>\n",
       "      <td>인터넷게임</td>\n",
       "      <td>F</td>\n",
       "      <td>20</td>\n",
       "      <td>2021-08-01</td>\n",
       "      <td>WHITE</td>\n",
       "      <td>활동</td>\n",
       "      <td>630200</td>\n",
       "      <td>182</td>\n",
       "      <td>2021</td>\n",
       "      <td>8</td>\n",
       "      <td>3463</td>\n",
       "    </tr>\n",
       "  </tbody>\n",
       "</table>\n",
       "</div>"
      ],
      "text/plain": [
       "   v1  v2 v3   gb3    gb2 sex_ccd cln_age_r      ta_ym daw_ccd_r  \\\n",
       "0  세종  세종  .  취미오락   종합쇼핑       F        30 2021-08-01     WHITE   \n",
       "1  세종  세종  .  취미오락   종합쇼핑       M        30 2021-12-01     WHITE   \n",
       "2  서울  세종  .  취미오락   종합쇼핑       F        50 2021-06-01     WHITE   \n",
       "3  부산  세종  .  취미오락     외식       F        30 2022-01-01     WHITE   \n",
       "4  서울  세종  .  취미오락  인터넷게임       F        20 2021-08-01     WHITE   \n",
       "\n",
       "  apv_ts_dl_tm_r        vlm   usec  year  month  avg_spend  \n",
       "0             휴식  325008700  12639  2021      8      25715  \n",
       "1             휴식  599872600  20805  2021     12      28833  \n",
       "2             활동   30363400   1075  2021      6      28245  \n",
       "3             활동    6028600    428  2022      1      14086  \n",
       "4             활동     630200    182  2021      8       3463  "
      ]
     },
     "execution_count": 21,
     "metadata": {},
     "output_type": "execute_result"
    }
   ],
   "source": [
    "card.head()"
   ]
  },
  {
   "cell_type": "code",
   "execution_count": 23,
   "metadata": {},
   "outputs": [
    {
     "data": {
      "text/plain": [
       "309895"
      ]
     },
     "execution_count": 23,
     "metadata": {},
     "output_type": "execute_result"
    }
   ],
   "source": [
    "# 거래 세부 지역 'v3' 칼럼의 결측은 '.' 으로 대체되어있고, 그 수는 309,895건\n",
    "card['v3'].loc[card['v3'] == '.'].count()"
   ]
  },
  {
   "cell_type": "code",
   "execution_count": 29,
   "metadata": {},
   "outputs": [
    {
     "data": {
      "text/html": [
       "<div>\n",
       "<style scoped>\n",
       "    .dataframe tbody tr th:only-of-type {\n",
       "        vertical-align: middle;\n",
       "    }\n",
       "\n",
       "    .dataframe tbody tr th {\n",
       "        vertical-align: top;\n",
       "    }\n",
       "\n",
       "    .dataframe thead th {\n",
       "        text-align: right;\n",
       "    }\n",
       "</style>\n",
       "<table border=\"1\" class=\"dataframe\">\n",
       "  <thead>\n",
       "    <tr style=\"text-align: right;\">\n",
       "      <th></th>\n",
       "      <th>v1</th>\n",
       "      <th>v2</th>\n",
       "      <th>v3</th>\n",
       "      <th>gb3</th>\n",
       "      <th>gb2</th>\n",
       "      <th>sex_ccd</th>\n",
       "      <th>cln_age_r</th>\n",
       "      <th>ta_ym</th>\n",
       "      <th>daw_ccd_r</th>\n",
       "      <th>apv_ts_dl_tm_r</th>\n",
       "      <th>vlm</th>\n",
       "      <th>usec</th>\n",
       "    </tr>\n",
       "  </thead>\n",
       "  <tbody>\n",
       "    <tr>\n",
       "      <th>48462936</th>\n",
       "      <td>경기</td>\n",
       "      <td>경기</td>\n",
       "      <td>안산시</td>\n",
       "      <td>취미오락</td>\n",
       "      <td>패션쇼핑</td>\n",
       "      <td>M</td>\n",
       "      <td>.</td>\n",
       "      <td>2018-10-01</td>\n",
       "      <td>WHITE</td>\n",
       "      <td>활동</td>\n",
       "      <td>202368</td>\n",
       "      <td>4</td>\n",
       "    </tr>\n",
       "  </tbody>\n",
       "</table>\n",
       "</div>"
      ],
      "text/plain": [
       "          v1  v2   v3   gb3   gb2 sex_ccd cln_age_r      ta_ym daw_ccd_r  \\\n",
       "48462936  경기  경기  안산시  취미오락  패션쇼핑       M         . 2018-10-01     WHITE   \n",
       "\n",
       "         apv_ts_dl_tm_r     vlm  usec  \n",
       "48462936             활동  202368     4  "
      ]
     },
     "execution_count": 29,
     "metadata": {},
     "output_type": "execute_result"
    }
   ],
   "source": [
    "# 나이 결측 하나 확인\n",
    "card.loc[card['cln_age_r'] == '.']"
   ]
  },
  {
   "cell_type": "code",
   "execution_count": 29,
   "metadata": {},
   "outputs": [
    {
     "data": {
      "text/plain": [
       "<pandas.core.groupby.generic.DataFrameGroupBy object at 0x0000027E8A6EBAC0>"
      ]
     },
     "execution_count": 29,
     "metadata": {},
     "output_type": "execute_result"
    }
   ],
   "source": [
    "card.groupby(['sex_ccd', 'cln_age_r'])"
   ]
  },
  {
   "cell_type": "code",
   "execution_count": 36,
   "metadata": {},
   "outputs": [],
   "source": [
    "# gb3 칼럼의 레이블을 기준으로 이용건수와 vlm 결합\n",
    "\n",
    "a = card.groupby(['gb3', 'sex_ccd', 'cln_age_r', 'ta_ym']).sum()"
   ]
  },
  {
   "cell_type": "code",
   "execution_count": 37,
   "metadata": {},
   "outputs": [
    {
     "data": {
      "text/html": [
       "<div>\n",
       "<style scoped>\n",
       "    .dataframe tbody tr th:only-of-type {\n",
       "        vertical-align: middle;\n",
       "    }\n",
       "\n",
       "    .dataframe tbody tr th {\n",
       "        vertical-align: top;\n",
       "    }\n",
       "\n",
       "    .dataframe thead th {\n",
       "        text-align: right;\n",
       "    }\n",
       "</style>\n",
       "<table border=\"1\" class=\"dataframe\">\n",
       "  <thead>\n",
       "    <tr style=\"text-align: right;\">\n",
       "      <th></th>\n",
       "      <th></th>\n",
       "      <th></th>\n",
       "      <th></th>\n",
       "      <th>vlm</th>\n",
       "      <th>usec</th>\n",
       "      <th>avg_spend</th>\n",
       "    </tr>\n",
       "    <tr>\n",
       "      <th>gb3</th>\n",
       "      <th>sex_ccd</th>\n",
       "      <th>cln_age_r</th>\n",
       "      <th>ta_ym</th>\n",
       "      <th></th>\n",
       "      <th></th>\n",
       "      <th></th>\n",
       "    </tr>\n",
       "  </thead>\n",
       "  <tbody>\n",
       "    <tr>\n",
       "      <th rowspan=\"5\" valign=\"top\">문화예술활동</th>\n",
       "      <th rowspan=\"5\" valign=\"top\">F</th>\n",
       "      <th rowspan=\"5\" valign=\"top\">20</th>\n",
       "      <th>2018-01-01</th>\n",
       "      <td>25475126363</td>\n",
       "      <td>1815443</td>\n",
       "      <td>234063141.0</td>\n",
       "    </tr>\n",
       "    <tr>\n",
       "      <th>2018-02-01</th>\n",
       "      <td>21397075089</td>\n",
       "      <td>1477985</td>\n",
       "      <td>211072721.0</td>\n",
       "    </tr>\n",
       "    <tr>\n",
       "      <th>2018-03-01</th>\n",
       "      <td>23066911922</td>\n",
       "      <td>1605505</td>\n",
       "      <td>274025747.0</td>\n",
       "    </tr>\n",
       "    <tr>\n",
       "      <th>2018-04-01</th>\n",
       "      <td>25744157918</td>\n",
       "      <td>1636225</td>\n",
       "      <td>275202983.0</td>\n",
       "    </tr>\n",
       "    <tr>\n",
       "      <th>2018-05-01</th>\n",
       "      <td>27551404713</td>\n",
       "      <td>1744443</td>\n",
       "      <td>293409052.0</td>\n",
       "    </tr>\n",
       "    <tr>\n",
       "      <th>...</th>\n",
       "      <th>...</th>\n",
       "      <th>...</th>\n",
       "      <th>...</th>\n",
       "      <td>...</td>\n",
       "      <td>...</td>\n",
       "      <td>...</td>\n",
       "    </tr>\n",
       "    <tr>\n",
       "      <th rowspan=\"5\" valign=\"top\">취미오락</th>\n",
       "      <th rowspan=\"5\" valign=\"top\">M</th>\n",
       "      <th>20</th>\n",
       "      <th>2018-10-01</th>\n",
       "      <td>147932785169</td>\n",
       "      <td>7541530</td>\n",
       "      <td>178670701.0</td>\n",
       "    </tr>\n",
       "    <tr>\n",
       "      <th>30</th>\n",
       "      <th>2018-10-01</th>\n",
       "      <td>4143102256447</td>\n",
       "      <td>5176821</td>\n",
       "      <td>297837750.0</td>\n",
       "    </tr>\n",
       "    <tr>\n",
       "      <th>40</th>\n",
       "      <th>2018-10-01</th>\n",
       "      <td>286090487649</td>\n",
       "      <td>7205022</td>\n",
       "      <td>349878891.0</td>\n",
       "    </tr>\n",
       "    <tr>\n",
       "      <th>50</th>\n",
       "      <th>2018-10-01</th>\n",
       "      <td>113941040325</td>\n",
       "      <td>3107792</td>\n",
       "      <td>310305976.0</td>\n",
       "    </tr>\n",
       "    <tr>\n",
       "      <th>60</th>\n",
       "      <th>2018-10-01</th>\n",
       "      <td>68461150564</td>\n",
       "      <td>1830809</td>\n",
       "      <td>212375199.0</td>\n",
       "    </tr>\n",
       "  </tbody>\n",
       "</table>\n",
       "<p>2121 rows × 3 columns</p>\n",
       "</div>"
      ],
      "text/plain": [
       "                                               vlm     usec    avg_spend\n",
       "gb3    sex_ccd cln_age_r ta_ym                                          \n",
       "문화예술활동 F       20        2018-01-01    25475126363  1815443  234063141.0\n",
       "                         2018-02-01    21397075089  1477985  211072721.0\n",
       "                         2018-03-01    23066911922  1605505  274025747.0\n",
       "                         2018-04-01    25744157918  1636225  275202983.0\n",
       "                         2018-05-01    27551404713  1744443  293409052.0\n",
       "...                                            ...      ...          ...\n",
       "취미오락   M       20        2018-10-01   147932785169  7541530  178670701.0\n",
       "               30        2018-10-01  4143102256447  5176821  297837750.0\n",
       "               40        2018-10-01   286090487649  7205022  349878891.0\n",
       "               50        2018-10-01   113941040325  3107792  310305976.0\n",
       "               60        2018-10-01    68461150564  1830809  212375199.0\n",
       "\n",
       "[2121 rows x 3 columns]"
      ]
     },
     "execution_count": 37,
     "metadata": {},
     "output_type": "execute_result"
    }
   ],
   "source": [
    "pd.DataFrame(a)[['vlm', 'usec', 'avg_spend']]"
   ]
  },
  {
   "cell_type": "code",
   "execution_count": 23,
   "metadata": {},
   "outputs": [
    {
     "data": {
      "text/plain": [
       "array(['종합쇼핑', '외식', '인터넷게임', '레저스포츠', '독서', '미용', '패션쇼핑', '숙박', '헬스',\n",
       "       '목욕', '교육훈련', '유흥', '공연관람', '교통', '사진촬영', '스포츠용품구매', '골프',\n",
       "       '애완동물돌보기', '미술공예참여', '관광쇼핑', '체험', '여행사', '자전거', '스키', '종교활동',\n",
       "       '음악감상', '악기연주', '운동경기관람'], dtype=object)"
      ]
     },
     "execution_count": 23,
     "metadata": {},
     "output_type": "execute_result"
    }
   ],
   "source": [
    "# 스포츠활동 관련 소비로 스포츠용품구매, 레저스포츠, 골프, 헬스, 자전거, 스키, 운동경기 관람이 있음\n",
    "card['gb2'].unique()"
   ]
  },
  {
   "cell_type": "code",
   "execution_count": 3,
   "metadata": {},
   "outputs": [
    {
     "data": {
      "text/plain": [
       "(7560859, 12)"
      ]
     },
     "execution_count": 3,
     "metadata": {},
     "output_type": "execute_result"
    }
   ],
   "source": [
    "# 스포츠활동이 주제이므로 그 데이터만 추출하자\n",
    "card_sports = card.loc[card['gb3'] == '스포츠활동']\n",
    "card_sports.shape"
   ]
  },
  {
   "cell_type": "code",
   "execution_count": 4,
   "metadata": {},
   "outputs": [],
   "source": [
    "card_sports.to_csv('card_sports.csv')"
   ]
  }
 ],
 "metadata": {
  "kernelspec": {
   "display_name": "Python 3.9.7 ('tf')",
   "language": "python",
   "name": "python3"
  },
  "language_info": {
   "codemirror_mode": {
    "name": "ipython",
    "version": 3
   },
   "file_extension": ".py",
   "mimetype": "text/x-python",
   "name": "python",
   "nbconvert_exporter": "python",
   "pygments_lexer": "ipython3",
   "version": "3.9.7"
  },
  "orig_nbformat": 4,
  "vscode": {
   "interpreter": {
    "hash": "d88f82afb66455697598f3be97bf4103fd55222ccf64b880ef38c583c364c29c"
   }
  }
 },
 "nbformat": 4,
 "nbformat_minor": 2
}
