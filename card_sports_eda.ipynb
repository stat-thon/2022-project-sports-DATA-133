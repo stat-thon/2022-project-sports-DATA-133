{
 "cells": [
  {
   "cell_type": "markdown",
   "metadata": {},
   "source": [
    "# EDA 아니고 클러스터링"
   ]
  },
  {
   "cell_type": "code",
   "execution_count": 1,
   "metadata": {},
   "outputs": [],
   "source": [
    "import pandas as pd\n",
    "import numpy as np\n",
    "import seaborn as sns\n",
    "import matplotlib.pyplot as plt"
   ]
  },
  {
   "cell_type": "code",
   "execution_count": 146,
   "metadata": {},
   "outputs": [],
   "source": [
    "# data dir\n",
    "\n",
    "data_dir = 'D:/thon/project/tourism/2022년/카드데이터'\n",
    "\n",
    "# data load\n",
    "\n",
    "card = pd.read_csv(data_dir + '/card_sports.csv') # load하는데 12초 소요\n",
    "card = card.drop(['Unnamed: 0', 'gb3', 'v3'], axis = 1) # 스포츠활동 대분류인 gb3 칼럼과, 세부지역인 v3 칼럼은 제거\n",
    "card['avg_spend'] = round(card['vlm'] / card['usec'], -1).astype(int) # 건당평균소비액 칼럼 생성\n",
    "card['ta_ym'] = pd.to_datetime(card['ta_ym'], format='%Y%m') # 데이터프레임화\n",
    "index_to_drop = card.loc[(card['gb2'] == '스포츠용품구매') | (card['gb2'] == '운동경기관람')].index # 스포츠 추천을 위한 클러스터링이므로 용품구매와 관람은 제외\n",
    "card = card.drop(index_to_drop, axis = 0)\n"
   ]
  },
  {
   "cell_type": "code",
   "execution_count": 147,
   "metadata": {},
   "outputs": [
    {
     "data": {
      "text/plain": [
       "array(['레저스포츠', '헬스', '골프', '자전거', '스키'], dtype=object)"
      ]
     },
     "execution_count": 147,
     "metadata": {},
     "output_type": "execute_result"
    }
   ],
   "source": [
    "card['gb2'].unique()"
   ]
  },
  {
   "cell_type": "code",
   "execution_count": 295,
   "metadata": {},
   "outputs": [
    {
     "data": {
      "text/html": [
       "<div>\n",
       "<style scoped>\n",
       "    .dataframe tbody tr th:only-of-type {\n",
       "        vertical-align: middle;\n",
       "    }\n",
       "\n",
       "    .dataframe tbody tr th {\n",
       "        vertical-align: top;\n",
       "    }\n",
       "\n",
       "    .dataframe thead th {\n",
       "        text-align: right;\n",
       "    }\n",
       "</style>\n",
       "<table border=\"1\" class=\"dataframe\">\n",
       "  <thead>\n",
       "    <tr style=\"text-align: right;\">\n",
       "      <th></th>\n",
       "      <th>gb2</th>\n",
       "      <th>sex_ccd</th>\n",
       "      <th>percent</th>\n",
       "    </tr>\n",
       "  </thead>\n",
       "  <tbody>\n",
       "    <tr>\n",
       "      <th>0</th>\n",
       "      <td>골프</td>\n",
       "      <td>F</td>\n",
       "      <td>33.8</td>\n",
       "    </tr>\n",
       "    <tr>\n",
       "      <th>1</th>\n",
       "      <td>골프</td>\n",
       "      <td>M</td>\n",
       "      <td>66.2</td>\n",
       "    </tr>\n",
       "    <tr>\n",
       "      <th>2</th>\n",
       "      <td>레저스포츠</td>\n",
       "      <td>F</td>\n",
       "      <td>36.4</td>\n",
       "    </tr>\n",
       "    <tr>\n",
       "      <th>3</th>\n",
       "      <td>레저스포츠</td>\n",
       "      <td>M</td>\n",
       "      <td>63.6</td>\n",
       "    </tr>\n",
       "    <tr>\n",
       "      <th>4</th>\n",
       "      <td>스키</td>\n",
       "      <td>F</td>\n",
       "      <td>42.8</td>\n",
       "    </tr>\n",
       "    <tr>\n",
       "      <th>5</th>\n",
       "      <td>스키</td>\n",
       "      <td>M</td>\n",
       "      <td>57.2</td>\n",
       "    </tr>\n",
       "    <tr>\n",
       "      <th>6</th>\n",
       "      <td>자전거</td>\n",
       "      <td>F</td>\n",
       "      <td>37.1</td>\n",
       "    </tr>\n",
       "    <tr>\n",
       "      <th>7</th>\n",
       "      <td>자전거</td>\n",
       "      <td>M</td>\n",
       "      <td>62.9</td>\n",
       "    </tr>\n",
       "    <tr>\n",
       "      <th>8</th>\n",
       "      <td>헬스</td>\n",
       "      <td>F</td>\n",
       "      <td>38.3</td>\n",
       "    </tr>\n",
       "    <tr>\n",
       "      <th>9</th>\n",
       "      <td>헬스</td>\n",
       "      <td>M</td>\n",
       "      <td>61.7</td>\n",
       "    </tr>\n",
       "  </tbody>\n",
       "</table>\n",
       "</div>"
      ],
      "text/plain": [
       "     gb2 sex_ccd  percent\n",
       "0     골프       F     33.8\n",
       "1     골프       M     66.2\n",
       "2  레저스포츠       F     36.4\n",
       "3  레저스포츠       M     63.6\n",
       "4     스키       F     42.8\n",
       "5     스키       M     57.2\n",
       "6    자전거       F     37.1\n",
       "7    자전거       M     62.9\n",
       "8     헬스       F     38.3\n",
       "9     헬스       M     61.7"
      ]
     },
     "execution_count": 295,
     "metadata": {},
     "output_type": "execute_result"
    }
   ],
   "source": [
    "group1 = pd.DataFrame(card[['gb2', 'sex_ccd']].value_counts().sort_index()).reset_index()\n",
    "group1.columns = ['gb2', 'sex_ccd', 'count']\n",
    "sum_group1 = group1.groupby('gb2').sum().reset_index()\n",
    "sum_group1.columns = ['gb2', 'total']\n",
    "group1 = pd.merge(group1, sum_group1, on = 'gb2')\n",
    "group1['percent'] = round(100 * group1['count'] / group1['total'], 1)\n",
    "group1 = group1.drop(['count', 'total'], axis = 1)\n",
    "group1"
   ]
  },
  {
   "cell_type": "code",
   "execution_count": 296,
   "metadata": {},
   "outputs": [
    {
     "data": {
      "text/html": [
       "<div>\n",
       "<style scoped>\n",
       "    .dataframe tbody tr th:only-of-type {\n",
       "        vertical-align: middle;\n",
       "    }\n",
       "\n",
       "    .dataframe tbody tr th {\n",
       "        vertical-align: top;\n",
       "    }\n",
       "\n",
       "    .dataframe thead th {\n",
       "        text-align: right;\n",
       "    }\n",
       "</style>\n",
       "<table border=\"1\" class=\"dataframe\">\n",
       "  <thead>\n",
       "    <tr style=\"text-align: right;\">\n",
       "      <th></th>\n",
       "      <th>v1</th>\n",
       "      <th>v2</th>\n",
       "      <th>gb2</th>\n",
       "      <th>sex_ccd</th>\n",
       "      <th>cln_age_r</th>\n",
       "      <th>ta_ym</th>\n",
       "      <th>daw_ccd_r</th>\n",
       "      <th>apv_ts_dl_tm_r</th>\n",
       "      <th>vlm</th>\n",
       "      <th>usec</th>\n",
       "      <th>avg_spend</th>\n",
       "    </tr>\n",
       "  </thead>\n",
       "  <tbody>\n",
       "    <tr>\n",
       "      <th>0</th>\n",
       "      <td>세종</td>\n",
       "      <td>세종</td>\n",
       "      <td>레저스포츠</td>\n",
       "      <td>F</td>\n",
       "      <td>20</td>\n",
       "      <td>2021-11-01</td>\n",
       "      <td>WHITE</td>\n",
       "      <td>휴식</td>\n",
       "      <td>2721300</td>\n",
       "      <td>119</td>\n",
       "      <td>22870</td>\n",
       "    </tr>\n",
       "    <tr>\n",
       "      <th>1</th>\n",
       "      <td>울산</td>\n",
       "      <td>울산</td>\n",
       "      <td>헬스</td>\n",
       "      <td>M</td>\n",
       "      <td>30</td>\n",
       "      <td>2022-03-01</td>\n",
       "      <td>WHITE</td>\n",
       "      <td>휴식</td>\n",
       "      <td>94882900</td>\n",
       "      <td>588</td>\n",
       "      <td>161370</td>\n",
       "    </tr>\n",
       "    <tr>\n",
       "      <th>2</th>\n",
       "      <td>대전</td>\n",
       "      <td>대전</td>\n",
       "      <td>레저스포츠</td>\n",
       "      <td>M</td>\n",
       "      <td>60</td>\n",
       "      <td>2021-11-01</td>\n",
       "      <td>WHITE</td>\n",
       "      <td>활동</td>\n",
       "      <td>798800</td>\n",
       "      <td>57</td>\n",
       "      <td>14010</td>\n",
       "    </tr>\n",
       "    <tr>\n",
       "      <th>3</th>\n",
       "      <td>광주</td>\n",
       "      <td>광주</td>\n",
       "      <td>레저스포츠</td>\n",
       "      <td>M</td>\n",
       "      <td>30</td>\n",
       "      <td>2021-09-01</td>\n",
       "      <td>RED</td>\n",
       "      <td>휴식</td>\n",
       "      <td>5021600</td>\n",
       "      <td>193</td>\n",
       "      <td>26020</td>\n",
       "    </tr>\n",
       "    <tr>\n",
       "      <th>5</th>\n",
       "      <td>광주</td>\n",
       "      <td>광주</td>\n",
       "      <td>골프</td>\n",
       "      <td>M</td>\n",
       "      <td>40</td>\n",
       "      <td>2021-06-01</td>\n",
       "      <td>WHITE</td>\n",
       "      <td>휴식</td>\n",
       "      <td>25742900</td>\n",
       "      <td>648</td>\n",
       "      <td>39730</td>\n",
       "    </tr>\n",
       "    <tr>\n",
       "      <th>...</th>\n",
       "      <td>...</td>\n",
       "      <td>...</td>\n",
       "      <td>...</td>\n",
       "      <td>...</td>\n",
       "      <td>...</td>\n",
       "      <td>...</td>\n",
       "      <td>...</td>\n",
       "      <td>...</td>\n",
       "      <td>...</td>\n",
       "      <td>...</td>\n",
       "      <td>...</td>\n",
       "    </tr>\n",
       "    <tr>\n",
       "      <th>7560850</th>\n",
       "      <td>충남</td>\n",
       "      <td>충남</td>\n",
       "      <td>레저스포츠</td>\n",
       "      <td>M</td>\n",
       "      <td>40</td>\n",
       "      <td>2018-12-01</td>\n",
       "      <td>RED</td>\n",
       "      <td>활동</td>\n",
       "      <td>76544759</td>\n",
       "      <td>3873</td>\n",
       "      <td>19760</td>\n",
       "    </tr>\n",
       "    <tr>\n",
       "      <th>7560851</th>\n",
       "      <td>충북</td>\n",
       "      <td>충북</td>\n",
       "      <td>골프</td>\n",
       "      <td>M</td>\n",
       "      <td>60</td>\n",
       "      <td>2018-12-01</td>\n",
       "      <td>WHITE</td>\n",
       "      <td>활동</td>\n",
       "      <td>55908953</td>\n",
       "      <td>1237</td>\n",
       "      <td>45200</td>\n",
       "    </tr>\n",
       "    <tr>\n",
       "      <th>7560853</th>\n",
       "      <td>경북</td>\n",
       "      <td>강원</td>\n",
       "      <td>레저스포츠</td>\n",
       "      <td>M</td>\n",
       "      <td>20</td>\n",
       "      <td>2018-12-01</td>\n",
       "      <td>RED</td>\n",
       "      <td>활동</td>\n",
       "      <td>65390</td>\n",
       "      <td>10</td>\n",
       "      <td>6540</td>\n",
       "    </tr>\n",
       "    <tr>\n",
       "      <th>7560855</th>\n",
       "      <td>경기</td>\n",
       "      <td>경기</td>\n",
       "      <td>골프</td>\n",
       "      <td>F</td>\n",
       "      <td>50</td>\n",
       "      <td>2018-12-01</td>\n",
       "      <td>RED</td>\n",
       "      <td>활동</td>\n",
       "      <td>40990476</td>\n",
       "      <td>487</td>\n",
       "      <td>84170</td>\n",
       "    </tr>\n",
       "    <tr>\n",
       "      <th>7560858</th>\n",
       "      <td>서울</td>\n",
       "      <td>서울</td>\n",
       "      <td>헬스</td>\n",
       "      <td>M</td>\n",
       "      <td>30</td>\n",
       "      <td>2018-12-01</td>\n",
       "      <td>RED</td>\n",
       "      <td>활동</td>\n",
       "      <td>26286025</td>\n",
       "      <td>593</td>\n",
       "      <td>44330</td>\n",
       "    </tr>\n",
       "  </tbody>\n",
       "</table>\n",
       "<p>5345063 rows × 11 columns</p>\n",
       "</div>"
      ],
      "text/plain": [
       "         v1  v2    gb2 sex_ccd  cln_age_r      ta_ym daw_ccd_r apv_ts_dl_tm_r  \\\n",
       "0        세종  세종  레저스포츠       F         20 2021-11-01     WHITE             휴식   \n",
       "1        울산  울산     헬스       M         30 2022-03-01     WHITE             휴식   \n",
       "2        대전  대전  레저스포츠       M         60 2021-11-01     WHITE             활동   \n",
       "3        광주  광주  레저스포츠       M         30 2021-09-01       RED             휴식   \n",
       "5        광주  광주     골프       M         40 2021-06-01     WHITE             휴식   \n",
       "...      ..  ..    ...     ...        ...        ...       ...            ...   \n",
       "7560850  충남  충남  레저스포츠       M         40 2018-12-01       RED             활동   \n",
       "7560851  충북  충북     골프       M         60 2018-12-01     WHITE             활동   \n",
       "7560853  경북  강원  레저스포츠       M         20 2018-12-01       RED             활동   \n",
       "7560855  경기  경기     골프       F         50 2018-12-01       RED             활동   \n",
       "7560858  서울  서울     헬스       M         30 2018-12-01       RED             활동   \n",
       "\n",
       "              vlm  usec  avg_spend  \n",
       "0         2721300   119      22870  \n",
       "1        94882900   588     161370  \n",
       "2          798800    57      14010  \n",
       "3         5021600   193      26020  \n",
       "5        25742900   648      39730  \n",
       "...           ...   ...        ...  \n",
       "7560850  76544759  3873      19760  \n",
       "7560851  55908953  1237      45200  \n",
       "7560853     65390    10       6540  \n",
       "7560855  40990476   487      84170  \n",
       "7560858  26286025   593      44330  \n",
       "\n",
       "[5345063 rows x 11 columns]"
      ]
     },
     "execution_count": 296,
     "metadata": {},
     "output_type": "execute_result"
    }
   ],
   "source": [
    "card"
   ]
  },
  {
   "cell_type": "code",
   "execution_count": 297,
   "metadata": {},
   "outputs": [
    {
     "name": "stdout",
     "output_type": "stream",
     "text": [
      "Q1-1.5*IQR: -92760.0 Q3+1.5*IQR: 200360.0\n"
     ]
    },
    {
     "data": {
      "text/plain": [
       "(4882477, 6)"
      ]
     },
     "execution_count": 297,
     "metadata": {},
     "output_type": "execute_result"
    }
   ],
   "source": [
    "# 평균소비액의 이상치 판단\n",
    "q3 = card['avg_spend'].quantile(0.75)\n",
    "q1 = card['avg_spend'].quantile(0.25)\n",
    "iqr = q3 - q1\n",
    "print('Q1-1.5*IQR:', q1 - 1.5 * iqr, 'Q3+1.5*IQR:', q3 + 1.5 * iqr)\n",
    "card.loc[card['avg_spend'] > q3 + 1.5 * iqr]\n",
    "df = card.loc[card['avg_spend'] < q3 + 1.5 * iqr] # 이상치 제거한 데이터프레임\n",
    "\n",
    "index_to_drop = df.loc[df['vlm'] == 0].index # 취급액이 0원인 행도 제거\n",
    "df = df.drop(index_to_drop, axis = 0)\n",
    "\n",
    "df.drop(['v2','ta_ym', 'daw_ccd_r', 'apv_ts_dl_tm_r', 'avg_spend'], axis = 1, inplace = True) # 개인특성을 통해 행을 통합하기 위한 칼럼 제거 (거래지역, 거래연월, 평일휴일, 거래시점, 평균취급액)\n",
    "df.shape\n",
    "\n",
    "# 나이, 성별, 거주지, 거래지, 종목명 별로 병함\n",
    "new_df = df.groupby(['v1', 'gb2', 'sex_ccd', 'cln_age_r']).sum()\n",
    "new_df = new_df.reset_index() # 멀티인덱스 해제\n",
    "new_df['avg_spend'] = round(new_df['vlm'] / new_df['usec'], -1).astype(int) # 건당 평균취급액 칼럼 추가\n",
    "new_df"
   ]
  },
  {
   "cell_type": "code",
   "execution_count": 375,
   "metadata": {},
   "outputs": [
    {
     "data": {
      "text/html": [
       "<div>\n",
       "<style scoped>\n",
       "    .dataframe tbody tr th:only-of-type {\n",
       "        vertical-align: middle;\n",
       "    }\n",
       "\n",
       "    .dataframe tbody tr th {\n",
       "        vertical-align: top;\n",
       "    }\n",
       "\n",
       "    .dataframe thead th {\n",
       "        text-align: right;\n",
       "    }\n",
       "</style>\n",
       "<table border=\"1\" class=\"dataframe\">\n",
       "  <thead>\n",
       "    <tr style=\"text-align: right;\">\n",
       "      <th></th>\n",
       "      <th>v1</th>\n",
       "      <th>gb2</th>\n",
       "      <th>sex_ccd</th>\n",
       "      <th>cln_age_r</th>\n",
       "      <th>vlm</th>\n",
       "      <th>usec</th>\n",
       "      <th>avg_spend</th>\n",
       "      <th>cluster_k3</th>\n",
       "      <th>cluster_k4</th>\n",
       "      <th>cluster_k5</th>\n",
       "      <th>cluster_k10</th>\n",
       "    </tr>\n",
       "  </thead>\n",
       "  <tbody>\n",
       "    <tr>\n",
       "      <th>0</th>\n",
       "      <td>강원</td>\n",
       "      <td>골프</td>\n",
       "      <td>F</td>\n",
       "      <td>20</td>\n",
       "      <td>2553543331</td>\n",
       "      <td>54524</td>\n",
       "      <td>46830</td>\n",
       "      <td>1</td>\n",
       "      <td>0</td>\n",
       "      <td>2</td>\n",
       "      <td>3</td>\n",
       "    </tr>\n",
       "    <tr>\n",
       "      <th>1</th>\n",
       "      <td>강원</td>\n",
       "      <td>골프</td>\n",
       "      <td>F</td>\n",
       "      <td>30</td>\n",
       "      <td>6468880032</td>\n",
       "      <td>101988</td>\n",
       "      <td>63430</td>\n",
       "      <td>0</td>\n",
       "      <td>3</td>\n",
       "      <td>0</td>\n",
       "      <td>6</td>\n",
       "    </tr>\n",
       "    <tr>\n",
       "      <th>2</th>\n",
       "      <td>강원</td>\n",
       "      <td>골프</td>\n",
       "      <td>F</td>\n",
       "      <td>40</td>\n",
       "      <td>21507390564</td>\n",
       "      <td>267518</td>\n",
       "      <td>80400</td>\n",
       "      <td>0</td>\n",
       "      <td>3</td>\n",
       "      <td>0</td>\n",
       "      <td>1</td>\n",
       "    </tr>\n",
       "    <tr>\n",
       "      <th>3</th>\n",
       "      <td>강원</td>\n",
       "      <td>골프</td>\n",
       "      <td>F</td>\n",
       "      <td>50</td>\n",
       "      <td>24260970138</td>\n",
       "      <td>284697</td>\n",
       "      <td>85220</td>\n",
       "      <td>0</td>\n",
       "      <td>3</td>\n",
       "      <td>0</td>\n",
       "      <td>1</td>\n",
       "    </tr>\n",
       "    <tr>\n",
       "      <th>4</th>\n",
       "      <td>강원</td>\n",
       "      <td>골프</td>\n",
       "      <td>F</td>\n",
       "      <td>60</td>\n",
       "      <td>9164414433</td>\n",
       "      <td>110799</td>\n",
       "      <td>82710</td>\n",
       "      <td>0</td>\n",
       "      <td>3</td>\n",
       "      <td>0</td>\n",
       "      <td>1</td>\n",
       "    </tr>\n",
       "    <tr>\n",
       "      <th>...</th>\n",
       "      <td>...</td>\n",
       "      <td>...</td>\n",
       "      <td>...</td>\n",
       "      <td>...</td>\n",
       "      <td>...</td>\n",
       "      <td>...</td>\n",
       "      <td>...</td>\n",
       "      <td>...</td>\n",
       "      <td>...</td>\n",
       "      <td>...</td>\n",
       "      <td>...</td>\n",
       "    </tr>\n",
       "    <tr>\n",
       "      <th>845</th>\n",
       "      <td>충북</td>\n",
       "      <td>헬스</td>\n",
       "      <td>M</td>\n",
       "      <td>20</td>\n",
       "      <td>20629606492</td>\n",
       "      <td>243993</td>\n",
       "      <td>84550</td>\n",
       "      <td>0</td>\n",
       "      <td>3</td>\n",
       "      <td>0</td>\n",
       "      <td>1</td>\n",
       "    </tr>\n",
       "    <tr>\n",
       "      <th>846</th>\n",
       "      <td>충북</td>\n",
       "      <td>헬스</td>\n",
       "      <td>M</td>\n",
       "      <td>30</td>\n",
       "      <td>20444792413</td>\n",
       "      <td>268358</td>\n",
       "      <td>76180</td>\n",
       "      <td>0</td>\n",
       "      <td>3</td>\n",
       "      <td>0</td>\n",
       "      <td>6</td>\n",
       "    </tr>\n",
       "    <tr>\n",
       "      <th>847</th>\n",
       "      <td>충북</td>\n",
       "      <td>헬스</td>\n",
       "      <td>M</td>\n",
       "      <td>40</td>\n",
       "      <td>25270146988</td>\n",
       "      <td>330424</td>\n",
       "      <td>76480</td>\n",
       "      <td>0</td>\n",
       "      <td>3</td>\n",
       "      <td>0</td>\n",
       "      <td>6</td>\n",
       "    </tr>\n",
       "    <tr>\n",
       "      <th>848</th>\n",
       "      <td>충북</td>\n",
       "      <td>헬스</td>\n",
       "      <td>M</td>\n",
       "      <td>50</td>\n",
       "      <td>18036290533</td>\n",
       "      <td>216804</td>\n",
       "      <td>83190</td>\n",
       "      <td>0</td>\n",
       "      <td>3</td>\n",
       "      <td>0</td>\n",
       "      <td>1</td>\n",
       "    </tr>\n",
       "    <tr>\n",
       "      <th>849</th>\n",
       "      <td>충북</td>\n",
       "      <td>헬스</td>\n",
       "      <td>M</td>\n",
       "      <td>60</td>\n",
       "      <td>4526788961</td>\n",
       "      <td>56440</td>\n",
       "      <td>80210</td>\n",
       "      <td>0</td>\n",
       "      <td>3</td>\n",
       "      <td>0</td>\n",
       "      <td>1</td>\n",
       "    </tr>\n",
       "  </tbody>\n",
       "</table>\n",
       "<p>850 rows × 11 columns</p>\n",
       "</div>"
      ],
      "text/plain": [
       "     v1 gb2 sex_ccd  cln_age_r          vlm    usec  avg_spend  cluster_k3  \\\n",
       "0    강원  골프       F         20   2553543331   54524      46830           1   \n",
       "1    강원  골프       F         30   6468880032  101988      63430           0   \n",
       "2    강원  골프       F         40  21507390564  267518      80400           0   \n",
       "3    강원  골프       F         50  24260970138  284697      85220           0   \n",
       "4    강원  골프       F         60   9164414433  110799      82710           0   \n",
       "..   ..  ..     ...        ...          ...     ...        ...         ...   \n",
       "845  충북  헬스       M         20  20629606492  243993      84550           0   \n",
       "846  충북  헬스       M         30  20444792413  268358      76180           0   \n",
       "847  충북  헬스       M         40  25270146988  330424      76480           0   \n",
       "848  충북  헬스       M         50  18036290533  216804      83190           0   \n",
       "849  충북  헬스       M         60   4526788961   56440      80210           0   \n",
       "\n",
       "     cluster_k4  cluster_k5  cluster_k10  \n",
       "0             0           2            3  \n",
       "1             3           0            6  \n",
       "2             3           0            1  \n",
       "3             3           0            1  \n",
       "4             3           0            1  \n",
       "..          ...         ...          ...  \n",
       "845           3           0            1  \n",
       "846           3           0            6  \n",
       "847           3           0            6  \n",
       "848           3           0            1  \n",
       "849           3           0            1  \n",
       "\n",
       "[850 rows x 11 columns]"
      ]
     },
     "execution_count": 375,
     "metadata": {},
     "output_type": "execute_result"
    }
   ],
   "source": [
    "new_df"
   ]
  },
  {
   "cell_type": "code",
   "execution_count": 376,
   "metadata": {},
   "outputs": [
    {
     "data": {
      "text/html": [
       "<div>\n",
       "<style scoped>\n",
       "    .dataframe tbody tr th:only-of-type {\n",
       "        vertical-align: middle;\n",
       "    }\n",
       "\n",
       "    .dataframe tbody tr th {\n",
       "        vertical-align: top;\n",
       "    }\n",
       "\n",
       "    .dataframe thead th {\n",
       "        text-align: right;\n",
       "    }\n",
       "</style>\n",
       "<table border=\"1\" class=\"dataframe\">\n",
       "  <thead>\n",
       "    <tr style=\"text-align: right;\">\n",
       "      <th></th>\n",
       "      <th>v1</th>\n",
       "      <th>gb2</th>\n",
       "      <th>sex_ccd</th>\n",
       "      <th>cln_age_r</th>\n",
       "      <th>vlm</th>\n",
       "      <th>usec</th>\n",
       "      <th>avg_spend</th>\n",
       "    </tr>\n",
       "  </thead>\n",
       "  <tbody>\n",
       "    <tr>\n",
       "      <th>0</th>\n",
       "      <td>강원</td>\n",
       "      <td>골프</td>\n",
       "      <td>F</td>\n",
       "      <td>20</td>\n",
       "      <td>2553543331</td>\n",
       "      <td>54524</td>\n",
       "      <td>46830</td>\n",
       "    </tr>\n",
       "    <tr>\n",
       "      <th>1</th>\n",
       "      <td>강원</td>\n",
       "      <td>골프</td>\n",
       "      <td>F</td>\n",
       "      <td>30</td>\n",
       "      <td>6468880032</td>\n",
       "      <td>101988</td>\n",
       "      <td>63430</td>\n",
       "    </tr>\n",
       "    <tr>\n",
       "      <th>2</th>\n",
       "      <td>강원</td>\n",
       "      <td>골프</td>\n",
       "      <td>F</td>\n",
       "      <td>40</td>\n",
       "      <td>21507390564</td>\n",
       "      <td>267518</td>\n",
       "      <td>80400</td>\n",
       "    </tr>\n",
       "    <tr>\n",
       "      <th>3</th>\n",
       "      <td>강원</td>\n",
       "      <td>골프</td>\n",
       "      <td>F</td>\n",
       "      <td>50</td>\n",
       "      <td>24260970138</td>\n",
       "      <td>284697</td>\n",
       "      <td>85220</td>\n",
       "    </tr>\n",
       "    <tr>\n",
       "      <th>4</th>\n",
       "      <td>강원</td>\n",
       "      <td>골프</td>\n",
       "      <td>F</td>\n",
       "      <td>60</td>\n",
       "      <td>9164414433</td>\n",
       "      <td>110799</td>\n",
       "      <td>82710</td>\n",
       "    </tr>\n",
       "    <tr>\n",
       "      <th>...</th>\n",
       "      <td>...</td>\n",
       "      <td>...</td>\n",
       "      <td>...</td>\n",
       "      <td>...</td>\n",
       "      <td>...</td>\n",
       "      <td>...</td>\n",
       "      <td>...</td>\n",
       "    </tr>\n",
       "    <tr>\n",
       "      <th>845</th>\n",
       "      <td>충북</td>\n",
       "      <td>헬스</td>\n",
       "      <td>M</td>\n",
       "      <td>20</td>\n",
       "      <td>20629606492</td>\n",
       "      <td>243993</td>\n",
       "      <td>84550</td>\n",
       "    </tr>\n",
       "    <tr>\n",
       "      <th>846</th>\n",
       "      <td>충북</td>\n",
       "      <td>헬스</td>\n",
       "      <td>M</td>\n",
       "      <td>30</td>\n",
       "      <td>20444792413</td>\n",
       "      <td>268358</td>\n",
       "      <td>76180</td>\n",
       "    </tr>\n",
       "    <tr>\n",
       "      <th>847</th>\n",
       "      <td>충북</td>\n",
       "      <td>헬스</td>\n",
       "      <td>M</td>\n",
       "      <td>40</td>\n",
       "      <td>25270146988</td>\n",
       "      <td>330424</td>\n",
       "      <td>76480</td>\n",
       "    </tr>\n",
       "    <tr>\n",
       "      <th>848</th>\n",
       "      <td>충북</td>\n",
       "      <td>헬스</td>\n",
       "      <td>M</td>\n",
       "      <td>50</td>\n",
       "      <td>18036290533</td>\n",
       "      <td>216804</td>\n",
       "      <td>83190</td>\n",
       "    </tr>\n",
       "    <tr>\n",
       "      <th>849</th>\n",
       "      <td>충북</td>\n",
       "      <td>헬스</td>\n",
       "      <td>M</td>\n",
       "      <td>60</td>\n",
       "      <td>4526788961</td>\n",
       "      <td>56440</td>\n",
       "      <td>80210</td>\n",
       "    </tr>\n",
       "  </tbody>\n",
       "</table>\n",
       "<p>850 rows × 7 columns</p>\n",
       "</div>"
      ],
      "text/plain": [
       "     v1 gb2 sex_ccd  cln_age_r          vlm    usec  avg_spend\n",
       "0    강원  골프       F         20   2553543331   54524      46830\n",
       "1    강원  골프       F         30   6468880032  101988      63430\n",
       "2    강원  골프       F         40  21507390564  267518      80400\n",
       "3    강원  골프       F         50  24260970138  284697      85220\n",
       "4    강원  골프       F         60   9164414433  110799      82710\n",
       "..   ..  ..     ...        ...          ...     ...        ...\n",
       "845  충북  헬스       M         20  20629606492  243993      84550\n",
       "846  충북  헬스       M         30  20444792413  268358      76180\n",
       "847  충북  헬스       M         40  25270146988  330424      76480\n",
       "848  충북  헬스       M         50  18036290533  216804      83190\n",
       "849  충북  헬스       M         60   4526788961   56440      80210\n",
       "\n",
       "[850 rows x 7 columns]"
      ]
     },
     "execution_count": 376,
     "metadata": {},
     "output_type": "execute_result"
    }
   ],
   "source": [
    "new_df.drop(['cluster_k3', 'cluster_k4', 'cluster_k5', 'cluster_k10'], axis = 1)"
   ]
  },
  {
   "cell_type": "code",
   "execution_count": 298,
   "metadata": {},
   "outputs": [
    {
     "data": {
      "text/plain": [
       "<function matplotlib.pyplot.show(close=None, block=None)>"
      ]
     },
     "execution_count": 298,
     "metadata": {},
     "output_type": "execute_result"
    },
    {
     "data": {
      "image/png": "[encoded data removed]",
      "text/plain": [
       "<Figure size 720x720 with 1 Axes>"
      ]
     },
     "metadata": {},
     "output_type": "display_data"
    }
   ],
   "source": [
    "# 새로운 데이터프레임 시각화\n",
    "plt.figure(figsize = (10, 10))\n",
    "plt.scatter(new_df['usec'], new_df['vlm'])\n",
    "plt.show"
   ]
  },
  {
   "cell_type": "code",
   "execution_count": 224,
   "metadata": {},
   "outputs": [
    {
     "data": {
      "text/html": [
       "<div>\n",
       "<style scoped>\n",
       "    .dataframe tbody tr th:only-of-type {\n",
       "        vertical-align: middle;\n",
       "    }\n",
       "\n",
       "    .dataframe tbody tr th {\n",
       "        vertical-align: top;\n",
       "    }\n",
       "\n",
       "    .dataframe thead th {\n",
       "        text-align: right;\n",
       "    }\n",
       "</style>\n",
       "<table border=\"1\" class=\"dataframe\">\n",
       "  <thead>\n",
       "    <tr style=\"text-align: right;\">\n",
       "      <th></th>\n",
       "      <th>0</th>\n",
       "      <th>1</th>\n",
       "      <th>2</th>\n",
       "    </tr>\n",
       "  </thead>\n",
       "  <tbody>\n",
       "    <tr>\n",
       "      <th>0</th>\n",
       "      <td>-0.300004</td>\n",
       "      <td>-0.322919</td>\n",
       "      <td>-0.558610</td>\n",
       "    </tr>\n",
       "    <tr>\n",
       "      <th>1</th>\n",
       "      <td>-0.247229</td>\n",
       "      <td>-0.283440</td>\n",
       "      <td>0.123032</td>\n",
       "    </tr>\n",
       "    <tr>\n",
       "      <th>2</th>\n",
       "      <td>-0.044524</td>\n",
       "      <td>-0.145759</td>\n",
       "      <td>0.819866</td>\n",
       "    </tr>\n",
       "    <tr>\n",
       "      <th>3</th>\n",
       "      <td>-0.007409</td>\n",
       "      <td>-0.131470</td>\n",
       "      <td>1.017789</td>\n",
       "    </tr>\n",
       "    <tr>\n",
       "      <th>4</th>\n",
       "      <td>-0.210896</td>\n",
       "      <td>-0.276111</td>\n",
       "      <td>0.914721</td>\n",
       "    </tr>\n",
       "    <tr>\n",
       "      <th>...</th>\n",
       "      <td>...</td>\n",
       "      <td>...</td>\n",
       "      <td>...</td>\n",
       "    </tr>\n",
       "    <tr>\n",
       "      <th>845</th>\n",
       "      <td>-0.056356</td>\n",
       "      <td>-0.165326</td>\n",
       "      <td>0.990277</td>\n",
       "    </tr>\n",
       "    <tr>\n",
       "      <th>846</th>\n",
       "      <td>-0.058847</td>\n",
       "      <td>-0.145060</td>\n",
       "      <td>0.646581</td>\n",
       "    </tr>\n",
       "    <tr>\n",
       "      <th>847</th>\n",
       "      <td>0.006194</td>\n",
       "      <td>-0.093436</td>\n",
       "      <td>0.658900</td>\n",
       "    </tr>\n",
       "    <tr>\n",
       "      <th>848</th>\n",
       "      <td>-0.091312</td>\n",
       "      <td>-0.187941</td>\n",
       "      <td>0.934431</td>\n",
       "    </tr>\n",
       "    <tr>\n",
       "      <th>849</th>\n",
       "      <td>-0.273407</td>\n",
       "      <td>-0.321325</td>\n",
       "      <td>0.812064</td>\n",
       "    </tr>\n",
       "  </tbody>\n",
       "</table>\n",
       "<p>850 rows × 3 columns</p>\n",
       "</div>"
      ],
      "text/plain": [
       "            0         1         2\n",
       "0   -0.300004 -0.322919 -0.558610\n",
       "1   -0.247229 -0.283440  0.123032\n",
       "2   -0.044524 -0.145759  0.819866\n",
       "3   -0.007409 -0.131470  1.017789\n",
       "4   -0.210896 -0.276111  0.914721\n",
       "..        ...       ...       ...\n",
       "845 -0.056356 -0.165326  0.990277\n",
       "846 -0.058847 -0.145060  0.646581\n",
       "847  0.006194 -0.093436  0.658900\n",
       "848 -0.091312 -0.187941  0.934431\n",
       "849 -0.273407 -0.321325  0.812064\n",
       "\n",
       "[850 rows x 3 columns]"
      ]
     },
     "execution_count": 224,
     "metadata": {},
     "output_type": "execute_result"
    }
   ],
   "source": [
    "# new_df 표쥰화\n",
    "from sklearn.cluster import KMeans\n",
    "from sklearn.preprocessing import StandardScaler\n",
    "\n",
    "df_count = new_df[['vlm', 'usec', 'avg_spend']]\n",
    "\n",
    "sc = StandardScaler()\n",
    "sc_scaled = sc.fit_transform(df_count)\n",
    "pd.DataFrame(sc_scaled)"
   ]
  },
  {
   "cell_type": "code",
   "execution_count": 225,
   "metadata": {},
   "outputs": [],
   "source": [
    "# K-Means 클러스터링 (k = 3)\n",
    "k = 3\n",
    "\n",
    "model = KMeans(n_clusters = k, random_state = 11)\n",
    "model.fit(sc_scaled)\n",
    "new_df['cluster_k3'] = model.fit_predict(sc_scaled)"
   ]
  },
  {
   "cell_type": "code",
   "execution_count": 226,
   "metadata": {},
   "outputs": [
    {
     "data": {
      "image/png": "[encoded data removed]",
      "text/plain": [
       "<Figure size 576x576 with 1 Axes>"
      ]
     },
     "metadata": {},
     "output_type": "display_data"
    }
   ],
   "source": [
    "import matplotlib.pyplot as plt\n",
    "import seaborn as sns\n",
    "\n",
    "sns.set(font_scale = 1.5)\n",
    "plt.rc(\"font\", family = \"NanumGothic\") # 한글깨짐 방지\n",
    "plt.figure(figsize = (8, 8))\n",
    "\n",
    "for i in range(k):\n",
    "    plt.scatter(new_df.loc[new_df['cluster_k3'] == i, 'vlm'], new_df.loc[new_df['cluster_k3'] == i, 'usec'],\n",
    "                label = 'cluster ' + str(i))\n",
    "\n",
    "plt.legend()\n",
    "plt.title('K = %d results'%k , size = 15)\n",
    "plt.xlabel('취급액', size = 12)\n",
    "plt.ylabel('이용건수', size = 12)\n",
    "plt.show()"
   ]
  },
  {
   "cell_type": "code",
   "execution_count": 231,
   "metadata": {},
   "outputs": [
    {
     "data": {
      "text/plain": [
       "0    449\n",
       "1    381\n",
       "2     20\n",
       "Name: cluster_k3, dtype: int64"
      ]
     },
     "execution_count": 231,
     "metadata": {},
     "output_type": "execute_result"
    }
   ],
   "source": [
    "new_df['cluster_k3'].value_counts().sort_index()"
   ]
  },
  {
   "cell_type": "code",
   "execution_count": 228,
   "metadata": {},
   "outputs": [],
   "source": [
    "# K-Means 클러스터링 (k = 4)\n",
    "k = 4\n",
    "\n",
    "model = KMeans(n_clusters = k, random_state = 11)\n",
    "model.fit(sc_scaled)\n",
    "new_df['cluster_k4'] = model.fit_predict(sc_scaled)"
   ]
  },
  {
   "cell_type": "code",
   "execution_count": 229,
   "metadata": {},
   "outputs": [
    {
     "data": {
      "image/png": "[encoded data removed]",
      "text/plain": [
       "<Figure size 576x576 with 1 Axes>"
      ]
     },
     "metadata": {},
     "output_type": "display_data"
    }
   ],
   "source": [
    "import matplotlib.pyplot as plt\n",
    "import seaborn as sns\n",
    "\n",
    "sns.set(font_scale = 1.5)\n",
    "plt.rc(\"font\", family = \"NanumGothic\") # 한글깨짐 방지\n",
    "plt.figure(figsize = (8, 8))\n",
    "\n",
    "for i in range(k):\n",
    "    plt.scatter(new_df.loc[new_df['cluster_k4'] == i, 'vlm'], new_df.loc[new_df['cluster_k4'] == i, 'usec'],\n",
    "                label = 'cluster ' + str(i))\n",
    "\n",
    "plt.legend()\n",
    "plt.title('K = %d results'%k , size = 15)\n",
    "plt.xlabel('취급액', size = 12)\n",
    "plt.ylabel('이용건수', size = 12)\n",
    "plt.show()"
   ]
  },
  {
   "cell_type": "code",
   "execution_count": 230,
   "metadata": {},
   "outputs": [
    {
     "data": {
      "text/plain": [
       "0    377\n",
       "1     23\n",
       "2      5\n",
       "3    445\n",
       "Name: cluster_k4, dtype: int64"
      ]
     },
     "execution_count": 230,
     "metadata": {},
     "output_type": "execute_result"
    }
   ],
   "source": [
    "new_df['cluster_k4'].value_counts().sort_index()"
   ]
  },
  {
   "cell_type": "code",
   "execution_count": 232,
   "metadata": {},
   "outputs": [],
   "source": [
    "# K-Means 클러스터링 (k = 5)\n",
    "k = 5\n",
    "\n",
    "model = KMeans(n_clusters = k, random_state = 11)\n",
    "model.fit(sc_scaled)\n",
    "new_df['cluster_k5'] = model.fit_predict(sc_scaled)"
   ]
  },
  {
   "cell_type": "code",
   "execution_count": 233,
   "metadata": {},
   "outputs": [
    {
     "data": {
      "image/png": "[encoded data removed]",
      "text/plain": [
       "<Figure size 576x576 with 1 Axes>"
      ]
     },
     "metadata": {},
     "output_type": "display_data"
    }
   ],
   "source": [
    "import matplotlib.pyplot as plt\n",
    "import seaborn as sns\n",
    "\n",
    "sns.set(font_scale = 1.5)\n",
    "plt.rc(\"font\", family = \"NanumGothic\") # 한글깨짐 방지\n",
    "plt.figure(figsize = (8, 8))\n",
    "\n",
    "for i in range(k):\n",
    "    plt.scatter(new_df.loc[new_df['cluster_k5'] == i, 'vlm'], new_df.loc[new_df['cluster_k5'] == i, 'usec'],\n",
    "                label = 'cluster ' + str(i))\n",
    "\n",
    "plt.legend()\n",
    "plt.title('K = %d results'%k , size = 15)\n",
    "plt.xlabel('취급액', size = 12)\n",
    "plt.ylabel('이용건수', size = 12)\n",
    "plt.show()"
   ]
  },
  {
   "cell_type": "code",
   "execution_count": 234,
   "metadata": {},
   "outputs": [
    {
     "data": {
      "text/plain": [
       "0    446\n",
       "1     11\n",
       "2    354\n",
       "3     34\n",
       "4      5\n",
       "Name: cluster_k5, dtype: int64"
      ]
     },
     "execution_count": 234,
     "metadata": {},
     "output_type": "execute_result"
    }
   ],
   "source": [
    "new_df['cluster_k5'].value_counts().sort_index()"
   ]
  },
  {
   "cell_type": "code",
   "execution_count": 235,
   "metadata": {},
   "outputs": [
    {
     "name": "stderr",
     "output_type": "stream",
     "text": [
      "c:\\Users\\sujin\\anaconda3\\envs\\tf\\lib\\site-packages\\sklearn\\cluster\\_kmeans.py:1036: UserWarning: KMeans is known to have a memory leak on Windows with MKL, when there are less chunks than available threads. You can avoid it by setting the environment variable OMP_NUM_THREADS=4.\n",
      "  warnings.warn(\n"
     ]
    },
    {
     "name": "stdout",
     "output_type": "stream",
     "text": [
      "Computing time:  0.65305495262146\n"
     ]
    },
    {
     "data": {
      "image/png": "[encoded data removed]",
      "text/plain": [
       "<Figure size 576x396 with 2 Axes>"
      ]
     },
     "metadata": {},
     "output_type": "display_data"
    }
   ],
   "source": [
    "from yellowbrick.cluster import KElbowVisualizer\n",
    "import time\n",
    "\n",
    "model = KMeans()\n",
    "visualizer = KElbowVisualizer(model, k = (1,11))\n",
    "start_time = time.time()\n",
    "visualizer.fit(sc_scaled)\n",
    "end_time = time.time()\n",
    "print('Computing time: ', end_time - start_time)"
   ]
  },
  {
   "cell_type": "markdown",
   "metadata": {},
   "source": [
    "## 로지스틱 회귀분석"
   ]
  },
  {
   "cell_type": "code",
   "execution_count": 359,
   "metadata": {},
   "outputs": [
    {
     "name": "stdout",
     "output_type": "stream",
     "text": [
      "Q1-1.5*IQR: -92760.0 Q3+1.5*IQR: 200360.0\n"
     ]
    },
    {
     "data": {
      "text/html": [
       "<div>\n",
       "<style scoped>\n",
       "    .dataframe tbody tr th:only-of-type {\n",
       "        vertical-align: middle;\n",
       "    }\n",
       "\n",
       "    .dataframe tbody tr th {\n",
       "        vertical-align: top;\n",
       "    }\n",
       "\n",
       "    .dataframe thead th {\n",
       "        text-align: right;\n",
       "    }\n",
       "</style>\n",
       "<table border=\"1\" class=\"dataframe\">\n",
       "  <thead>\n",
       "    <tr style=\"text-align: right;\">\n",
       "      <th></th>\n",
       "      <th>v1</th>\n",
       "      <th>gb2</th>\n",
       "      <th>sex_ccd</th>\n",
       "      <th>cln_age_r</th>\n",
       "      <th>daw_ccd_r</th>\n",
       "      <th>apv_ts_dl_tm_r</th>\n",
       "      <th>vlm</th>\n",
       "      <th>usec</th>\n",
       "      <th>avg_spend</th>\n",
       "    </tr>\n",
       "  </thead>\n",
       "  <tbody>\n",
       "    <tr>\n",
       "      <th>0</th>\n",
       "      <td>강원</td>\n",
       "      <td>골프</td>\n",
       "      <td>F</td>\n",
       "      <td>20</td>\n",
       "      <td>RED</td>\n",
       "      <td>취침</td>\n",
       "      <td>18228897</td>\n",
       "      <td>338</td>\n",
       "      <td>53930</td>\n",
       "    </tr>\n",
       "    <tr>\n",
       "      <th>1</th>\n",
       "      <td>강원</td>\n",
       "      <td>골프</td>\n",
       "      <td>F</td>\n",
       "      <td>20</td>\n",
       "      <td>RED</td>\n",
       "      <td>활동</td>\n",
       "      <td>429785801</td>\n",
       "      <td>12464</td>\n",
       "      <td>34480</td>\n",
       "    </tr>\n",
       "    <tr>\n",
       "      <th>2</th>\n",
       "      <td>강원</td>\n",
       "      <td>골프</td>\n",
       "      <td>F</td>\n",
       "      <td>20</td>\n",
       "      <td>RED</td>\n",
       "      <td>휴식</td>\n",
       "      <td>175375899</td>\n",
       "      <td>4643</td>\n",
       "      <td>37770</td>\n",
       "    </tr>\n",
       "    <tr>\n",
       "      <th>3</th>\n",
       "      <td>강원</td>\n",
       "      <td>골프</td>\n",
       "      <td>F</td>\n",
       "      <td>20</td>\n",
       "      <td>WHITE</td>\n",
       "      <td>취침</td>\n",
       "      <td>61856329</td>\n",
       "      <td>913</td>\n",
       "      <td>67750</td>\n",
       "    </tr>\n",
       "    <tr>\n",
       "      <th>4</th>\n",
       "      <td>강원</td>\n",
       "      <td>골프</td>\n",
       "      <td>F</td>\n",
       "      <td>20</td>\n",
       "      <td>WHITE</td>\n",
       "      <td>활동</td>\n",
       "      <td>1397332871</td>\n",
       "      <td>25580</td>\n",
       "      <td>54630</td>\n",
       "    </tr>\n",
       "    <tr>\n",
       "      <th>...</th>\n",
       "      <td>...</td>\n",
       "      <td>...</td>\n",
       "      <td>...</td>\n",
       "      <td>...</td>\n",
       "      <td>...</td>\n",
       "      <td>...</td>\n",
       "      <td>...</td>\n",
       "      <td>...</td>\n",
       "      <td>...</td>\n",
       "    </tr>\n",
       "    <tr>\n",
       "      <th>4735</th>\n",
       "      <td>충북</td>\n",
       "      <td>헬스</td>\n",
       "      <td>M</td>\n",
       "      <td>60</td>\n",
       "      <td>RED</td>\n",
       "      <td>활동</td>\n",
       "      <td>740826585</td>\n",
       "      <td>11876</td>\n",
       "      <td>62380</td>\n",
       "    </tr>\n",
       "    <tr>\n",
       "      <th>4736</th>\n",
       "      <td>충북</td>\n",
       "      <td>헬스</td>\n",
       "      <td>M</td>\n",
       "      <td>60</td>\n",
       "      <td>RED</td>\n",
       "      <td>휴식</td>\n",
       "      <td>94421465</td>\n",
       "      <td>2141</td>\n",
       "      <td>44100</td>\n",
       "    </tr>\n",
       "    <tr>\n",
       "      <th>4737</th>\n",
       "      <td>충북</td>\n",
       "      <td>헬스</td>\n",
       "      <td>M</td>\n",
       "      <td>60</td>\n",
       "      <td>WHITE</td>\n",
       "      <td>취침</td>\n",
       "      <td>62806128</td>\n",
       "      <td>1843</td>\n",
       "      <td>34080</td>\n",
       "    </tr>\n",
       "    <tr>\n",
       "      <th>4738</th>\n",
       "      <td>충북</td>\n",
       "      <td>헬스</td>\n",
       "      <td>M</td>\n",
       "      <td>60</td>\n",
       "      <td>WHITE</td>\n",
       "      <td>활동</td>\n",
       "      <td>2978082824</td>\n",
       "      <td>32648</td>\n",
       "      <td>91220</td>\n",
       "    </tr>\n",
       "    <tr>\n",
       "      <th>4739</th>\n",
       "      <td>충북</td>\n",
       "      <td>헬스</td>\n",
       "      <td>M</td>\n",
       "      <td>60</td>\n",
       "      <td>WHITE</td>\n",
       "      <td>휴식</td>\n",
       "      <td>639795441</td>\n",
       "      <td>7400</td>\n",
       "      <td>86460</td>\n",
       "    </tr>\n",
       "  </tbody>\n",
       "</table>\n",
       "<p>4740 rows × 9 columns</p>\n",
       "</div>"
      ],
      "text/plain": [
       "      v1 gb2 sex_ccd cln_age_r daw_ccd_r apv_ts_dl_tm_r         vlm   usec  \\\n",
       "0     강원  골프       F        20       RED             취침    18228897    338   \n",
       "1     강원  골프       F        20       RED             활동   429785801  12464   \n",
       "2     강원  골프       F        20       RED             휴식   175375899   4643   \n",
       "3     강원  골프       F        20     WHITE             취침    61856329    913   \n",
       "4     강원  골프       F        20     WHITE             활동  1397332871  25580   \n",
       "...   ..  ..     ...       ...       ...            ...         ...    ...   \n",
       "4735  충북  헬스       M        60       RED             활동   740826585  11876   \n",
       "4736  충북  헬스       M        60       RED             휴식    94421465   2141   \n",
       "4737  충북  헬스       M        60     WHITE             취침    62806128   1843   \n",
       "4738  충북  헬스       M        60     WHITE             활동  2978082824  32648   \n",
       "4739  충북  헬스       M        60     WHITE             휴식   639795441   7400   \n",
       "\n",
       "      avg_spend  \n",
       "0         53930  \n",
       "1         34480  \n",
       "2         37770  \n",
       "3         67750  \n",
       "4         54630  \n",
       "...         ...  \n",
       "4735      62380  \n",
       "4736      44100  \n",
       "4737      34080  \n",
       "4738      91220  \n",
       "4739      86460  \n",
       "\n",
       "[4740 rows x 9 columns]"
      ]
     },
     "execution_count": 359,
     "metadata": {},
     "output_type": "execute_result"
    }
   ],
   "source": [
    "# 평균소비액의 이상치 판단\n",
    "q3 = card['avg_spend'].quantile(0.75)\n",
    "q1 = card['avg_spend'].quantile(0.25)\n",
    "iqr = q3 - q1\n",
    "print('Q1-1.5*IQR:', q1 - 1.5 * iqr, 'Q3+1.5*IQR:', q3 + 1.5 * iqr)\n",
    "card.loc[card['avg_spend'] > q3 + 1.5 * iqr]\n",
    "df2 = card.loc[card['avg_spend'] < q3 + 1.5 * iqr] # 이상치 제거한 데이터프레임\n",
    "\n",
    "index_to_drop = df2.loc[df2['vlm'] == 0].index # 취급액이 0원인 행도 제거\n",
    "df2 = df2.drop(index_to_drop, axis = 0)\n",
    "\n",
    "df2.drop(['v2','ta_ym', 'avg_spend'], axis = 1, inplace = True) # 행을 통합하기 위한 칼럼 제거 (거래지역, 거래연월, 평균취급액)\n",
    "df2.shape\n",
    "\n",
    "# 칼럼별로 병함\n",
    "new_df2 = df2.groupby(['v1', 'gb2', 'sex_ccd', 'cln_age_r', 'daw_ccd_r', 'apv_ts_dl_tm_r']).sum()\n",
    "new_df2 = new_df2.reset_index() # 멀티인덱스 해제\n",
    "new_df2['cln_age_r'] = new_df2['cln_age_r'].astype(str) # 나이변수 범주화\n",
    "new_df2['avg_spend'] = round(new_df2['vlm'] / new_df2['usec'], -1).astype(int) # 건당 평균취급액 칼럼 추가\n",
    "new_df2"
   ]
  },
  {
   "cell_type": "code",
   "execution_count": 365,
   "metadata": {},
   "outputs": [],
   "source": [
    "from sklearn.linear_model import LogisticRegression\n",
    "from sklearn import svm\n",
    "from sklearn.ensemble import RandomForestClassifier, GradientBoostingClassifier, AdaBoostClassifier\n",
    "from sklearn.neighbors import KNeighborsClassifier\n",
    "from sklearn.naive_bayes import GaussianNB\n",
    "from sklearn.tree import DecisionTreeClassifier\n",
    "from sklearn.model_selection import train_test_split\n",
    "from sklearn import metrics\n",
    "from sklearn.metrics import confusion_matrix\n",
    "\n",
    "new_df2['target'] = 0\n",
    "new_df2.loc[new_df2['gb2'] == '골프', 'target'] = 1\n",
    "train, test = train_test_split(new_df2, test_size = 0.3, random_state = 0, stratify = new_df2['target'])\n",
    "train_X = train.drop(['gb2', 'vlm', 'usec', 'target'], axis = 1)\n",
    "train_y = train['target']\n",
    "test_X = test.drop(['gb2', 'vlm', 'usec', 'target'], axis = 1)\n",
    "test_y = test['target']\n",
    "X = new_df2.drop(['gb2', 'vlm', 'usec', 'target'], axis = 1)\n",
    "y = new_df2['target']\n",
    "\n",
    "train_X_dummy = pd.get_dummies(train_X, drop_first = True)\n",
    "test_X_dummy = pd.get_dummies(test_X, drop_first = True)"
   ]
  },
  {
   "cell_type": "code",
   "execution_count": 366,
   "metadata": {},
   "outputs": [
    {
     "name": "stdout",
     "output_type": "stream",
     "text": [
      "Accuracy for Random Forests is 0.7721518987341772\n"
     ]
    },
    {
     "data": {
      "image/png": "[encoded data removed]",
      "text/plain": [
       "<Figure size 720x576 with 1 Axes>"
      ]
     },
     "metadata": {},
     "output_type": "display_data"
    }
   ],
   "source": [
    "# RandomForest의 Top 20 feature\n",
    "\n",
    "model = RandomForestClassifier()\n",
    "model.fit(train_X_dummy, train_y)\n",
    "prediction_rf = model.predict(test_X_dummy)\n",
    "print('Accuracy for Random Forests is', metrics.accuracy_score(prediction_rf, test_y))\n",
    "ft_importance_value = model.feature_importances_\n",
    "ft_series = pd.Series(ft_importance_value, index = train_X_dummy.columns)\n",
    "ft_top20 = ft_series.sort_values(ascending = False)[:20]\n",
    "#ft_top20.index = ['여성', '남성', '가구소득 3-400만원', '경기', '서울', '가구소득 4-500만원', '50대', '가구소득 2-300만원', '초졸 이하', '가구소득 600만원 이상', '70세 이상', '가구소득 5-600만원', '대졸 이상', '고졸', '40대', '주간 경제활동 O', '주간 경제활동 X', '동거가구원수 2인', '부산', '경남']\n",
    "\n",
    "plt.figure(figsize = (10, 8))\n",
    "plt.title('Feature Importance Top 20 of randomforest')\n",
    "sns.barplot(x = ft_top20, y = ft_top20.index)\n",
    "plt.show()"
   ]
  },
  {
   "cell_type": "code",
   "execution_count": 371,
   "metadata": {},
   "outputs": [],
   "source": [
    "from sklearn.linear_model import LogisticRegression\n",
    "from sklearn import svm\n",
    "from sklearn.ensemble import RandomForestClassifier, GradientBoostingClassifier, AdaBoostClassifier\n",
    "from sklearn.neighbors import KNeighborsClassifier\n",
    "from sklearn.naive_bayes import GaussianNB\n",
    "from sklearn.tree import DecisionTreeClassifier\n",
    "from sklearn.model_selection import train_test_split\n",
    "from sklearn import metrics\n",
    "from sklearn.metrics import confusion_matrix\n",
    "\n",
    "new_df2['target'] = 0\n",
    "new_df2.loc[new_df2['gb2'] == '레저스포츠', 'target'] = 1\n",
    "train, test = train_test_split(new_df2, test_size = 0.3, random_state = 0, stratify = new_df2['target'])\n",
    "train_X = train.drop(['gb2', 'vlm', 'usec', 'target'], axis = 1)\n",
    "train_y = train['target']\n",
    "test_X = test.drop(['gb2', 'vlm', 'usec', 'target'], axis = 1)\n",
    "test_y = test['target']\n",
    "X = new_df2.drop(['gb2', 'vlm', 'usec', 'target'], axis = 1)\n",
    "y = new_df2['target']\n",
    "\n",
    "train_X_dummy = pd.get_dummies(train_X, drop_first = True)\n",
    "test_X_dummy = pd.get_dummies(test_X, drop_first = True)"
   ]
  },
  {
   "cell_type": "code",
   "execution_count": 372,
   "metadata": {},
   "outputs": [
    {
     "name": "stdout",
     "output_type": "stream",
     "text": [
      "Accuracy for Random Forests is 0.8663853727144867\n"
     ]
    },
    {
     "data": {
      "image/png": "[encoded data removed]",
      "text/plain": [
       "<Figure size 720x576 with 1 Axes>"
      ]
     },
     "metadata": {},
     "output_type": "display_data"
    }
   ],
   "source": [
    "# RandomForest의 Top 20 feature\n",
    "\n",
    "model = RandomForestClassifier()\n",
    "model.fit(train_X_dummy, train_y)\n",
    "prediction_rf = model.predict(test_X_dummy)\n",
    "print('Accuracy for Random Forests is', metrics.accuracy_score(prediction_rf, test_y))\n",
    "ft_importance_value = model.feature_importances_\n",
    "ft_series = pd.Series(ft_importance_value, index = train_X_dummy.columns)\n",
    "ft_top20 = ft_series.sort_values(ascending = False)[:20]\n",
    "#ft_top20.index = ['여성', '남성', '가구소득 3-400만원', '경기', '서울', '가구소득 4-500만원', '50대', '가구소득 2-300만원', '초졸 이하', '가구소득 600만원 이상', '70세 이상', '가구소득 5-600만원', '대졸 이상', '고졸', '40대', '주간 경제활동 O', '주간 경제활동 X', '동거가구원수 2인', '부산', '경남']\n",
    "\n",
    "plt.figure(figsize = (10, 8))\n",
    "plt.title('Feature Importance Top 20 of randomforest')\n",
    "sns.barplot(x = ft_top20, y = ft_top20.index)\n",
    "plt.show()"
   ]
  },
  {
   "cell_type": "code",
   "execution_count": 377,
   "metadata": {},
   "outputs": [],
   "source": [
    "from sklearn.linear_model import LogisticRegression\n",
    "from sklearn import svm\n",
    "from sklearn.ensemble import RandomForestClassifier, GradientBoostingClassifier, AdaBoostClassifier\n",
    "from sklearn.neighbors import KNeighborsClassifier\n",
    "from sklearn.naive_bayes import GaussianNB\n",
    "from sklearn.tree import DecisionTreeClassifier\n",
    "from sklearn.model_selection import train_test_split\n",
    "from sklearn import metrics\n",
    "from sklearn.metrics import confusion_matrix\n",
    "\n",
    "new_df2['target'] = 0\n",
    "new_df2.loc[new_df2['gb2'] == '자전거', 'target'] = 1\n",
    "train, test = train_test_split(new_df2, test_size = 0.3, random_state = 0, stratify = new_df2['target'])\n",
    "train_X = train.drop(['gb2', 'vlm', 'usec', 'target'], axis = 1)\n",
    "train_y = train['target']\n",
    "test_X = test.drop(['gb2', 'vlm', 'usec', 'target'], axis = 1)\n",
    "test_y = test['target']\n",
    "X = new_df2.drop(['gb2', 'vlm', 'usec', 'target'], axis = 1)\n",
    "y = new_df2['target']\n",
    "\n",
    "train_X_dummy = pd.get_dummies(train_X, drop_first = True)\n",
    "test_X_dummy = pd.get_dummies(test_X, drop_first = True)"
   ]
  },
  {
   "cell_type": "code",
   "execution_count": 378,
   "metadata": {},
   "outputs": [
    {
     "name": "stdout",
     "output_type": "stream",
     "text": [
      "Accuracy for Random Forests is 0.7749648382559775\n"
     ]
    },
    {
     "data": {
      "image/png": "[encoded data removed]",
      "text/plain": [
       "<Figure size 720x576 with 1 Axes>"
      ]
     },
     "metadata": {},
     "output_type": "display_data"
    }
   ],
   "source": [
    "# RandomForest의 Top 20 feature\n",
    "\n",
    "model = RandomForestClassifier()\n",
    "model.fit(train_X_dummy, train_y)\n",
    "prediction_rf = model.predict(test_X_dummy)\n",
    "print('Accuracy for Random Forests is', metrics.accuracy_score(prediction_rf, test_y))\n",
    "ft_importance_value = model.feature_importances_\n",
    "ft_series = pd.Series(ft_importance_value, index = train_X_dummy.columns)\n",
    "ft_top20 = ft_series.sort_values(ascending = False)[:20]\n",
    "#ft_top20.index = ['여성', '남성', '가구소득 3-400만원', '경기', '서울', '가구소득 4-500만원', '50대', '가구소득 2-300만원', '초졸 이하', '가구소득 600만원 이상', '70세 이상', '가구소득 5-600만원', '대졸 이상', '고졸', '40대', '주간 경제활동 O', '주간 경제활동 X', '동거가구원수 2인', '부산', '경남']\n",
    "\n",
    "plt.figure(figsize = (10, 8))\n",
    "plt.title('Feature Importance Top 20 of randomforest')\n",
    "sns.barplot(x = ft_top20, y = ft_top20.index)\n",
    "plt.show()"
   ]
  },
  {
   "cell_type": "markdown",
   "metadata": {},
   "source": [
    "## PCA"
   ]
  },
  {
   "cell_type": "code",
   "execution_count": 15,
   "metadata": {},
   "outputs": [],
   "source": [
    "from sklearn.cluster import KMeans\n",
    "from sklearn.preprocessing import StandardScaler\n",
    "\n",
    "df2 = card[['vlm', 'usec', 'avg_spend']]\n",
    "\n",
    "sc = StandardScaler()\n",
    "card_scaled_2 = sc.fit_transform(df2)"
   ]
  },
  {
   "cell_type": "code",
   "execution_count": 16,
   "metadata": {},
   "outputs": [],
   "source": [
    "# K-Means 클러스터링 (k = 3)\n",
    "k = 3\n",
    "\n",
    "model = KMeans(n_clusters = k, random_state = 11)\n",
    "model.fit(card_scaled_2)\n",
    "card['cluster_df2_k3'] = model.fit_predict(card_scaled_2)"
   ]
  },
  {
   "cell_type": "code",
   "execution_count": 17,
   "metadata": {},
   "outputs": [],
   "source": [
    "from sklearn.decomposition import PCA\n",
    "X = card_scaled_2.copy()\n",
    "\n",
    "pca = PCA(n_components = 2)\n",
    "pca.fit(X)\n",
    "x_pca = pca.transform(X)\n",
    "pca_df = pd.DataFrame(x_pca)\n",
    "pca_df['cluster_k3'] = card['cluster_df2_k3']"
   ]
  },
  {
   "cell_type": "code",
   "execution_count": 25,
   "metadata": {},
   "outputs": [
    {
     "data": {
      "text/html": [
       "<div>\n",
       "<style scoped>\n",
       "    .dataframe tbody tr th:only-of-type {\n",
       "        vertical-align: middle;\n",
       "    }\n",
       "\n",
       "    .dataframe tbody tr th {\n",
       "        vertical-align: top;\n",
       "    }\n",
       "\n",
       "    .dataframe thead th {\n",
       "        text-align: right;\n",
       "    }\n",
       "</style>\n",
       "<table border=\"1\" class=\"dataframe\">\n",
       "  <thead>\n",
       "    <tr style=\"text-align: right;\">\n",
       "      <th></th>\n",
       "      <th>0</th>\n",
       "      <th>1</th>\n",
       "      <th>cluster_k3</th>\n",
       "    </tr>\n",
       "  </thead>\n",
       "  <tbody>\n",
       "    <tr>\n",
       "      <th>4176481</th>\n",
       "      <td>443.902585</td>\n",
       "      <td>1964.949717</td>\n",
       "      <td>0.0</td>\n",
       "    </tr>\n",
       "  </tbody>\n",
       "</table>\n",
       "</div>"
      ],
      "text/plain": [
       "                  0            1  cluster_k3\n",
       "4176481  443.902585  1964.949717         0.0"
      ]
     },
     "execution_count": 25,
     "metadata": {},
     "output_type": "execute_result"
    }
   ],
   "source": [
    "pca_df.loc[pca_df[0] == pca_df[0].max()]"
   ]
  },
  {
   "cell_type": "code",
   "execution_count": 31,
   "metadata": {},
   "outputs": [
    {
     "data": {
      "text/plain": [
       "(7560855, 3)"
      ]
     },
     "execution_count": 31,
     "metadata": {},
     "output_type": "execute_result"
    }
   ],
   "source": [
    "pca_df = pca_df.drop([4176481])\n",
    "pca_df.shape"
   ]
  },
  {
   "cell_type": "code",
   "execution_count": 32,
   "metadata": {},
   "outputs": [
    {
     "data": {
      "image/png": "[encoded data removed]",
      "text/plain": [
       "<Figure size 576x576 with 1 Axes>"
      ]
     },
     "metadata": {},
     "output_type": "display_data"
    }
   ],
   "source": [
    "import matplotlib.pyplot as plt\n",
    "import seaborn as sns\n",
    "\n",
    "sns.set(font_scale = 1.5)\n",
    "plt.rc(\"font\", family = \"NanumGothic\") # 한글깨짐 방지\n",
    "plt.figure(figsize = (8, 8))\n",
    "\n",
    "for i in range(k):\n",
    "    plt.scatter(pca_df.loc[pca_df['cluster_k3'] == i, 0], pca_df.loc[pca_df['cluster_k3'] == i, 1],\n",
    "                label = 'cluster ' + str(i))\n",
    "\n",
    "plt.legend()\n",
    "plt.title('K = %d results with PCA'%k , size = 15)\n",
    "plt.xlabel('취급액', size = 12)\n",
    "plt.ylabel('이용건수', size = 12)\n",
    "plt.show()"
   ]
  },
  {
   "cell_type": "code",
   "execution_count": 46,
   "metadata": {},
   "outputs": [
    {
     "data": {
      "text/html": [
       "<div>\n",
       "<style scoped>\n",
       "    .dataframe tbody tr th:only-of-type {\n",
       "        vertical-align: middle;\n",
       "    }\n",
       "\n",
       "    .dataframe tbody tr th {\n",
       "        vertical-align: top;\n",
       "    }\n",
       "\n",
       "    .dataframe thead th {\n",
       "        text-align: right;\n",
       "    }\n",
       "</style>\n",
       "<table border=\"1\" class=\"dataframe\">\n",
       "  <thead>\n",
       "    <tr style=\"text-align: right;\">\n",
       "      <th></th>\n",
       "      <th>0</th>\n",
       "      <th>1</th>\n",
       "      <th>cluster_k3</th>\n",
       "    </tr>\n",
       "  </thead>\n",
       "  <tbody>\n",
       "    <tr>\n",
       "      <th>4176484</th>\n",
       "      <td>-0.349286</td>\n",
       "      <td>-0.112521</td>\n",
       "      <td>2.0</td>\n",
       "    </tr>\n",
       "  </tbody>\n",
       "</table>\n",
       "</div>"
      ],
      "text/plain": [
       "                0         1  cluster_k3\n",
       "4176484 -0.349286 -0.112521         2.0"
      ]
     },
     "execution_count": 46,
     "metadata": {},
     "output_type": "execute_result"
    }
   ],
   "source": [
    "pca_df.loc[pca_df['cluster_k3'] == 2]"
   ]
  },
  {
   "cell_type": "code",
   "execution_count": 48,
   "metadata": {},
   "outputs": [
    {
     "data": {
      "text/html": [
       "<div>\n",
       "<style scoped>\n",
       "    .dataframe tbody tr th:only-of-type {\n",
       "        vertical-align: middle;\n",
       "    }\n",
       "\n",
       "    .dataframe tbody tr th {\n",
       "        vertical-align: top;\n",
       "    }\n",
       "\n",
       "    .dataframe thead th {\n",
       "        text-align: right;\n",
       "    }\n",
       "</style>\n",
       "<table border=\"1\" class=\"dataframe\">\n",
       "  <thead>\n",
       "    <tr style=\"text-align: right;\">\n",
       "      <th></th>\n",
       "      <th>v1</th>\n",
       "      <th>v2</th>\n",
       "      <th>v3</th>\n",
       "      <th>gb3</th>\n",
       "      <th>gb2</th>\n",
       "      <th>sex_ccd</th>\n",
       "      <th>cln_age_r</th>\n",
       "      <th>ta_ym</th>\n",
       "      <th>daw_ccd_r</th>\n",
       "      <th>apv_ts_dl_tm_r</th>\n",
       "      <th>vlm</th>\n",
       "      <th>usec</th>\n",
       "      <th>cluster_k3</th>\n",
       "      <th>cluster_k4</th>\n",
       "      <th>cluster_k5</th>\n",
       "      <th>avg_spend</th>\n",
       "      <th>cluster_df2_k3</th>\n",
       "      <th>cluster_df2_k4</th>\n",
       "    </tr>\n",
       "  </thead>\n",
       "  <tbody>\n",
       "    <tr>\n",
       "      <th>4176484</th>\n",
       "      <td>부산</td>\n",
       "      <td>부산</td>\n",
       "      <td>강서구</td>\n",
       "      <td>스포츠활동</td>\n",
       "      <td>골프</td>\n",
       "      <td>M</td>\n",
       "      <td>20</td>\n",
       "      <td>2019-02-01</td>\n",
       "      <td>RED</td>\n",
       "      <td>활동</td>\n",
       "      <td>5029999994</td>\n",
       "      <td>5</td>\n",
       "      <td>2</td>\n",
       "      <td>1</td>\n",
       "      <td>4</td>\n",
       "      <td>1.006000e+09</td>\n",
       "      <td>2</td>\n",
       "      <td>2</td>\n",
       "    </tr>\n",
       "  </tbody>\n",
       "</table>\n",
       "</div>"
      ],
      "text/plain": [
       "         v1  v2   v3    gb3 gb2 sex_ccd  cln_age_r      ta_ym daw_ccd_r  \\\n",
       "4176484  부산  부산  강서구  스포츠활동  골프       M         20 2019-02-01       RED   \n",
       "\n",
       "        apv_ts_dl_tm_r         vlm  usec  cluster_k3  cluster_k4  cluster_k5  \\\n",
       "4176484             활동  5029999994     5           2           1           4   \n",
       "\n",
       "            avg_spend  cluster_df2_k3  cluster_df2_k4  \n",
       "4176484  1.006000e+09               2               2  "
      ]
     },
     "execution_count": 48,
     "metadata": {},
     "output_type": "execute_result"
    }
   ],
   "source": [
    "card.loc[card['avg_spend'] == card['avg_spend'].max()]"
   ]
  },
  {
   "cell_type": "code",
   "execution_count": 34,
   "metadata": {},
   "outputs": [
    {
     "data": {
      "text/html": [
       "<div>\n",
       "<style scoped>\n",
       "    .dataframe tbody tr th:only-of-type {\n",
       "        vertical-align: middle;\n",
       "    }\n",
       "\n",
       "    .dataframe tbody tr th {\n",
       "        vertical-align: top;\n",
       "    }\n",
       "\n",
       "    .dataframe thead th {\n",
       "        text-align: right;\n",
       "    }\n",
       "</style>\n",
       "<table border=\"1\" class=\"dataframe\">\n",
       "  <thead>\n",
       "    <tr style=\"text-align: right;\">\n",
       "      <th></th>\n",
       "      <th>0</th>\n",
       "      <th>1</th>\n",
       "    </tr>\n",
       "    <tr>\n",
       "      <th>cluster_k3</th>\n",
       "      <th></th>\n",
       "      <th></th>\n",
       "    </tr>\n",
       "  </thead>\n",
       "  <tbody>\n",
       "    <tr>\n",
       "      <th>0.0</th>\n",
       "      <td>7460083</td>\n",
       "      <td>7460083</td>\n",
       "    </tr>\n",
       "    <tr>\n",
       "      <th>1.0</th>\n",
       "      <td>100768</td>\n",
       "      <td>100768</td>\n",
       "    </tr>\n",
       "    <tr>\n",
       "      <th>2.0</th>\n",
       "      <td>1</td>\n",
       "      <td>1</td>\n",
       "    </tr>\n",
       "  </tbody>\n",
       "</table>\n",
       "</div>"
      ],
      "text/plain": [
       "                  0        1\n",
       "cluster_k3                  \n",
       "0.0         7460083  7460083\n",
       "1.0          100768   100768\n",
       "2.0               1        1"
      ]
     },
     "execution_count": 34,
     "metadata": {},
     "output_type": "execute_result"
    }
   ],
   "source": [
    "pca_df.groupby('cluster_k3').count()"
   ]
  },
  {
   "cell_type": "code",
   "execution_count": 50,
   "metadata": {},
   "outputs": [
    {
     "data": {
      "text/plain": [
       "(7560854, 18)"
      ]
     },
     "execution_count": 50,
     "metadata": {},
     "output_type": "execute_result"
    }
   ],
   "source": [
    "# 이상치 행 제거하고 해볼까\n",
    "card_remove_outlier = card.drop([4176481, 4176484])\n",
    "card_remove_outlier.shape"
   ]
  },
  {
   "cell_type": "code",
   "execution_count": 57,
   "metadata": {},
   "outputs": [],
   "source": [
    "from sklearn.cluster import KMeans\n",
    "from sklearn.preprocessing import StandardScaler\n",
    "\n",
    "df2 = card_remove_outlier[['vlm', 'usec', 'avg_spend']]\n",
    "\n",
    "sc = StandardScaler()\n",
    "card_scaled_2 = sc.fit_transform(df2)"
   ]
  },
  {
   "cell_type": "code",
   "execution_count": 60,
   "metadata": {},
   "outputs": [],
   "source": [
    "# K-Means 클러스터링 (k = 3)\n",
    "k = 3\n",
    "\n",
    "model = KMeans(n_clusters = k, random_state = 11)\n",
    "model.fit(card_scaled_2)\n",
    "card_remove_outlier['cluster_df2_k3'] = model.fit_predict(card_scaled_2)"
   ]
  },
  {
   "cell_type": "code",
   "execution_count": 61,
   "metadata": {},
   "outputs": [],
   "source": [
    "from sklearn.decomposition import PCA\n",
    "X = card_scaled_2.copy()\n",
    "\n",
    "pca = PCA(n_components = 2)\n",
    "pca.fit(X)\n",
    "x_pca = pca.transform(X)\n",
    "pca_df = pd.DataFrame(x_pca)\n",
    "pca_df['cluster_k3'] = card_remove_outlier['cluster_df2_k3']"
   ]
  },
  {
   "cell_type": "code",
   "execution_count": 62,
   "metadata": {},
   "outputs": [
    {
     "data": {
      "image/png": "[encoded data removed]",
      "text/plain": [
       "<Figure size 576x576 with 1 Axes>"
      ]
     },
     "metadata": {},
     "output_type": "display_data"
    }
   ],
   "source": [
    "import matplotlib.pyplot as plt\n",
    "import seaborn as sns\n",
    "\n",
    "sns.set(font_scale = 1.5)\n",
    "plt.rc(\"font\", family = \"NanumGothic\") # 한글깨짐 방지\n",
    "plt.figure(figsize = (8, 8))\n",
    "\n",
    "for i in range(k):\n",
    "    plt.scatter(pca_df.loc[pca_df['cluster_k3'] == i, 0], pca_df.loc[pca_df['cluster_k3'] == i, 1],\n",
    "                label = 'cluster ' + str(i))\n",
    "\n",
    "plt.legend()\n",
    "plt.title('K = %d results with PCA'%k , size = 15)\n",
    "plt.xlabel('취급액', size = 12)\n",
    "plt.ylabel('이용건수', size = 12)\n",
    "plt.show()"
   ]
  },
  {
   "cell_type": "code",
   "execution_count": 63,
   "metadata": {},
   "outputs": [
    {
     "data": {
      "text/html": [
       "<div>\n",
       "<style scoped>\n",
       "    .dataframe tbody tr th:only-of-type {\n",
       "        vertical-align: middle;\n",
       "    }\n",
       "\n",
       "    .dataframe tbody tr th {\n",
       "        vertical-align: top;\n",
       "    }\n",
       "\n",
       "    .dataframe thead th {\n",
       "        text-align: right;\n",
       "    }\n",
       "</style>\n",
       "<table border=\"1\" class=\"dataframe\">\n",
       "  <thead>\n",
       "    <tr style=\"text-align: right;\">\n",
       "      <th></th>\n",
       "      <th>0</th>\n",
       "      <th>1</th>\n",
       "    </tr>\n",
       "    <tr>\n",
       "      <th>cluster_k3</th>\n",
       "      <th></th>\n",
       "      <th></th>\n",
       "    </tr>\n",
       "  </thead>\n",
       "  <tbody>\n",
       "    <tr>\n",
       "      <th>0.0</th>\n",
       "      <td>7459442</td>\n",
       "      <td>7459442</td>\n",
       "    </tr>\n",
       "    <tr>\n",
       "      <th>1.0</th>\n",
       "      <td>101395</td>\n",
       "      <td>101395</td>\n",
       "    </tr>\n",
       "    <tr>\n",
       "      <th>2.0</th>\n",
       "      <td>12</td>\n",
       "      <td>12</td>\n",
       "    </tr>\n",
       "  </tbody>\n",
       "</table>\n",
       "</div>"
      ],
      "text/plain": [
       "                  0        1\n",
       "cluster_k3                  \n",
       "0.0         7459442  7459442\n",
       "1.0          101395   101395\n",
       "2.0              12       12"
      ]
     },
     "execution_count": 63,
     "metadata": {},
     "output_type": "execute_result"
    }
   ],
   "source": [
    "pca_df.groupby('cluster_k3').count()"
   ]
  },
  {
   "cell_type": "code",
   "execution_count": 35,
   "metadata": {},
   "outputs": [],
   "source": [
    "# K-Means 클러스터링 (k = 3)\n",
    "k = 4\n",
    "\n",
    "model = KMeans(n_clusters = k, random_state = 11)\n",
    "model.fit(card_scaled_2)\n",
    "card['cluster_df2_k4'] = model.fit_predict(card_scaled_2)"
   ]
  },
  {
   "cell_type": "code",
   "execution_count": 36,
   "metadata": {},
   "outputs": [],
   "source": [
    "from sklearn.decomposition import PCA\n",
    "X = card_scaled_2.copy()\n",
    "\n",
    "pca = PCA(n_components = 2)\n",
    "pca.fit(X)\n",
    "x_pca = pca.transform(X)\n",
    "pca_df2 = pd.DataFrame(x_pca)\n",
    "pca_df2['cluster_k4'] = card['cluster_df2_k4']"
   ]
  },
  {
   "cell_type": "code",
   "execution_count": 41,
   "metadata": {},
   "outputs": [
    {
     "data": {
      "text/html": [
       "<div>\n",
       "<style scoped>\n",
       "    .dataframe tbody tr th:only-of-type {\n",
       "        vertical-align: middle;\n",
       "    }\n",
       "\n",
       "    .dataframe tbody tr th {\n",
       "        vertical-align: top;\n",
       "    }\n",
       "\n",
       "    .dataframe thead th {\n",
       "        text-align: right;\n",
       "    }\n",
       "</style>\n",
       "<table border=\"1\" class=\"dataframe\">\n",
       "  <thead>\n",
       "    <tr style=\"text-align: right;\">\n",
       "      <th></th>\n",
       "      <th>0</th>\n",
       "      <th>1</th>\n",
       "    </tr>\n",
       "    <tr>\n",
       "      <th>cluster_k4</th>\n",
       "      <th></th>\n",
       "      <th></th>\n",
       "    </tr>\n",
       "  </thead>\n",
       "  <tbody>\n",
       "    <tr>\n",
       "      <th>0.0</th>\n",
       "      <td>7308490</td>\n",
       "      <td>7308490</td>\n",
       "    </tr>\n",
       "    <tr>\n",
       "      <th>1.0</th>\n",
       "      <td>24051</td>\n",
       "      <td>24051</td>\n",
       "    </tr>\n",
       "    <tr>\n",
       "      <th>2.0</th>\n",
       "      <td>1</td>\n",
       "      <td>1</td>\n",
       "    </tr>\n",
       "    <tr>\n",
       "      <th>3.0</th>\n",
       "      <td>228311</td>\n",
       "      <td>228311</td>\n",
       "    </tr>\n",
       "  </tbody>\n",
       "</table>\n",
       "</div>"
      ],
      "text/plain": [
       "                  0        1\n",
       "cluster_k4                  \n",
       "0.0         7308490  7308490\n",
       "1.0           24051    24051\n",
       "2.0               1        1\n",
       "3.0          228311   228311"
      ]
     },
     "execution_count": 41,
     "metadata": {},
     "output_type": "execute_result"
    }
   ],
   "source": [
    "pca_df2.groupby('cluster_k4').count()"
   ]
  },
  {
   "cell_type": "code",
   "execution_count": 43,
   "metadata": {},
   "outputs": [
    {
     "data": {
      "text/html": [
       "<div>\n",
       "<style scoped>\n",
       "    .dataframe tbody tr th:only-of-type {\n",
       "        vertical-align: middle;\n",
       "    }\n",
       "\n",
       "    .dataframe tbody tr th {\n",
       "        vertical-align: top;\n",
       "    }\n",
       "\n",
       "    .dataframe thead th {\n",
       "        text-align: right;\n",
       "    }\n",
       "</style>\n",
       "<table border=\"1\" class=\"dataframe\">\n",
       "  <thead>\n",
       "    <tr style=\"text-align: right;\">\n",
       "      <th></th>\n",
       "      <th>0</th>\n",
       "      <th>1</th>\n",
       "      <th>cluster_k4</th>\n",
       "    </tr>\n",
       "  </thead>\n",
       "  <tbody>\n",
       "    <tr>\n",
       "      <th>4176484</th>\n",
       "      <td>-0.349286</td>\n",
       "      <td>-0.112521</td>\n",
       "      <td>2.0</td>\n",
       "    </tr>\n",
       "  </tbody>\n",
       "</table>\n",
       "</div>"
      ],
      "text/plain": [
       "                0         1  cluster_k4\n",
       "4176484 -0.349286 -0.112521         2.0"
      ]
     },
     "execution_count": 43,
     "metadata": {},
     "output_type": "execute_result"
    }
   ],
   "source": [
    "pca_df2.loc[pca_df2['cluster_k4'] == 2]"
   ]
  },
  {
   "cell_type": "code",
   "execution_count": 45,
   "metadata": {},
   "outputs": [
    {
     "data": {
      "text/plain": [
       "v1                                 부산\n",
       "v2                                 부산\n",
       "v3                                강서구\n",
       "gb3                             스포츠활동\n",
       "gb2                                골프\n",
       "sex_ccd                             M\n",
       "cln_age_r                          20\n",
       "ta_ym             2019-02-01 00:00:00\n",
       "daw_ccd_r                         RED\n",
       "apv_ts_dl_tm_r                     활동\n",
       "vlm                        5029999994\n",
       "usec                                5\n",
       "cluster_k3                          2\n",
       "cluster_k4                          1\n",
       "cluster_k5                          4\n",
       "avg_spend                1005999999.0\n",
       "cluster_df2_k3                      2\n",
       "cluster_df2_k4                      2\n",
       "Name: 4176484, dtype: object"
      ]
     },
     "execution_count": 45,
     "metadata": {},
     "output_type": "execute_result"
    }
   ],
   "source": [
    "card.loc[4176484]"
   ]
  },
  {
   "cell_type": "code",
   "execution_count": 40,
   "metadata": {},
   "outputs": [
    {
     "data": {
      "text/html": [
       "<div>\n",
       "<style scoped>\n",
       "    .dataframe tbody tr th:only-of-type {\n",
       "        vertical-align: middle;\n",
       "    }\n",
       "\n",
       "    .dataframe tbody tr th {\n",
       "        vertical-align: top;\n",
       "    }\n",
       "\n",
       "    .dataframe thead th {\n",
       "        text-align: right;\n",
       "    }\n",
       "</style>\n",
       "<table border=\"1\" class=\"dataframe\">\n",
       "  <thead>\n",
       "    <tr style=\"text-align: right;\">\n",
       "      <th></th>\n",
       "      <th>0</th>\n",
       "      <th>1</th>\n",
       "      <th>cluster_k4</th>\n",
       "    </tr>\n",
       "  </thead>\n",
       "  <tbody>\n",
       "    <tr>\n",
       "      <th>4176481</th>\n",
       "      <td>443.902585</td>\n",
       "      <td>1964.949717</td>\n",
       "      <td>0.0</td>\n",
       "    </tr>\n",
       "  </tbody>\n",
       "</table>\n",
       "</div>"
      ],
      "text/plain": [
       "                  0            1  cluster_k4\n",
       "4176481  443.902585  1964.949717         0.0"
      ]
     },
     "execution_count": 40,
     "metadata": {},
     "output_type": "execute_result"
    }
   ],
   "source": [
    "pca_df2.loc[pca_df2[0] == pca_df2[0].max()]"
   ]
  },
  {
   "cell_type": "code",
   "execution_count": 37,
   "metadata": {},
   "outputs": [
    {
     "data": {
      "image/png": "[encoded data removed]",
      "text/plain": [
       "<Figure size 576x576 with 1 Axes>"
      ]
     },
     "metadata": {},
     "output_type": "display_data"
    }
   ],
   "source": [
    "import matplotlib.pyplot as plt\n",
    "import seaborn as sns\n",
    "\n",
    "sns.set(font_scale = 1.5)\n",
    "plt.rc(\"font\", family = \"NanumGothic\") # 한글깨짐 방지\n",
    "plt.figure(figsize = (8, 8))\n",
    "\n",
    "for i in range(k):\n",
    "    plt.scatter(pca_df2.loc[pca_df2['cluster_k4'] == i, 0], pca_df2.loc[pca_df2['cluster_k4'] == i, 1],\n",
    "                label = 'cluster ' + str(i))\n",
    "\n",
    "plt.legend()\n",
    "plt.title('K = %d results with PCA'%k , size = 15)\n",
    "plt.xlabel('취급액', size = 12)\n",
    "plt.ylabel('이용건수', size = 12)\n",
    "plt.show()"
   ]
  },
  {
   "cell_type": "markdown",
   "metadata": {},
   "source": [
    "## 추천시스템화"
   ]
  },
  {
   "cell_type": "code",
   "execution_count": 416,
   "metadata": {},
   "outputs": [],
   "source": [
    "from surprise import SVD, accuracy # SVD model, 평가\n",
    "from surprise import Reader, Dataset # SVD model의 dataset"
   ]
  },
  {
   "cell_type": "code",
   "execution_count": 417,
   "metadata": {},
   "outputs": [
    {
     "data": {
      "text/html": [
       "<div>\n",
       "<style scoped>\n",
       "    .dataframe tbody tr th:only-of-type {\n",
       "        vertical-align: middle;\n",
       "    }\n",
       "\n",
       "    .dataframe tbody tr th {\n",
       "        vertical-align: top;\n",
       "    }\n",
       "\n",
       "    .dataframe thead th {\n",
       "        text-align: right;\n",
       "    }\n",
       "</style>\n",
       "<table border=\"1\" class=\"dataframe\">\n",
       "  <thead>\n",
       "    <tr style=\"text-align: right;\">\n",
       "      <th></th>\n",
       "      <th>v1</th>\n",
       "      <th>sex_ccd</th>\n",
       "      <th>cln_age_r</th>\n",
       "      <th>gb2</th>\n",
       "      <th>avg_spend</th>\n",
       "      <th>as_person</th>\n",
       "      <th>rating</th>\n",
       "    </tr>\n",
       "  </thead>\n",
       "  <tbody>\n",
       "    <tr>\n",
       "      <th>0</th>\n",
       "      <td>강원</td>\n",
       "      <td>F</td>\n",
       "      <td>20</td>\n",
       "      <td>골프</td>\n",
       "      <td>46830</td>\n",
       "      <td>강원F20</td>\n",
       "      <td>2</td>\n",
       "    </tr>\n",
       "    <tr>\n",
       "      <th>1</th>\n",
       "      <td>강원</td>\n",
       "      <td>F</td>\n",
       "      <td>20</td>\n",
       "      <td>레저스포츠</td>\n",
       "      <td>21110</td>\n",
       "      <td>강원F20</td>\n",
       "      <td>1</td>\n",
       "    </tr>\n",
       "    <tr>\n",
       "      <th>2</th>\n",
       "      <td>강원</td>\n",
       "      <td>F</td>\n",
       "      <td>20</td>\n",
       "      <td>스키</td>\n",
       "      <td>40770</td>\n",
       "      <td>강원F20</td>\n",
       "      <td>2</td>\n",
       "    </tr>\n",
       "    <tr>\n",
       "      <th>3</th>\n",
       "      <td>강원</td>\n",
       "      <td>F</td>\n",
       "      <td>20</td>\n",
       "      <td>자전거</td>\n",
       "      <td>34880</td>\n",
       "      <td>강원F20</td>\n",
       "      <td>1</td>\n",
       "    </tr>\n",
       "    <tr>\n",
       "      <th>4</th>\n",
       "      <td>강원</td>\n",
       "      <td>F</td>\n",
       "      <td>20</td>\n",
       "      <td>헬스</td>\n",
       "      <td>87340</td>\n",
       "      <td>강원F20</td>\n",
       "      <td>4</td>\n",
       "    </tr>\n",
       "    <tr>\n",
       "      <th>...</th>\n",
       "      <td>...</td>\n",
       "      <td>...</td>\n",
       "      <td>...</td>\n",
       "      <td>...</td>\n",
       "      <td>...</td>\n",
       "      <td>...</td>\n",
       "      <td>...</td>\n",
       "    </tr>\n",
       "    <tr>\n",
       "      <th>845</th>\n",
       "      <td>충북</td>\n",
       "      <td>M</td>\n",
       "      <td>60</td>\n",
       "      <td>골프</td>\n",
       "      <td>91310</td>\n",
       "      <td>충북M60</td>\n",
       "      <td>4</td>\n",
       "    </tr>\n",
       "    <tr>\n",
       "      <th>846</th>\n",
       "      <td>충북</td>\n",
       "      <td>M</td>\n",
       "      <td>60</td>\n",
       "      <td>레저스포츠</td>\n",
       "      <td>18390</td>\n",
       "      <td>충북M60</td>\n",
       "      <td>1</td>\n",
       "    </tr>\n",
       "    <tr>\n",
       "      <th>847</th>\n",
       "      <td>충북</td>\n",
       "      <td>M</td>\n",
       "      <td>60</td>\n",
       "      <td>스키</td>\n",
       "      <td>40150</td>\n",
       "      <td>충북M60</td>\n",
       "      <td>2</td>\n",
       "    </tr>\n",
       "    <tr>\n",
       "      <th>848</th>\n",
       "      <td>충북</td>\n",
       "      <td>M</td>\n",
       "      <td>60</td>\n",
       "      <td>자전거</td>\n",
       "      <td>87990</td>\n",
       "      <td>충북M60</td>\n",
       "      <td>4</td>\n",
       "    </tr>\n",
       "    <tr>\n",
       "      <th>849</th>\n",
       "      <td>충북</td>\n",
       "      <td>M</td>\n",
       "      <td>60</td>\n",
       "      <td>헬스</td>\n",
       "      <td>80210</td>\n",
       "      <td>충북M60</td>\n",
       "      <td>4</td>\n",
       "    </tr>\n",
       "  </tbody>\n",
       "</table>\n",
       "<p>850 rows × 7 columns</p>\n",
       "</div>"
      ],
      "text/plain": [
       "     v1 sex_ccd cln_age_r    gb2  avg_spend as_person rating\n",
       "0    강원       F        20     골프      46830     강원F20      2\n",
       "1    강원       F        20  레저스포츠      21110     강원F20      1\n",
       "2    강원       F        20     스키      40770     강원F20      2\n",
       "3    강원       F        20    자전거      34880     강원F20      1\n",
       "4    강원       F        20     헬스      87340     강원F20      4\n",
       "..   ..     ...       ...    ...        ...       ...    ...\n",
       "845  충북       M        60     골프      91310     충북M60      4\n",
       "846  충북       M        60  레저스포츠      18390     충북M60      1\n",
       "847  충북       M        60     스키      40150     충북M60      2\n",
       "848  충북       M        60    자전거      87990     충북M60      4\n",
       "849  충북       M        60     헬스      80210     충북M60      4\n",
       "\n",
       "[850 rows x 7 columns]"
      ]
     },
     "execution_count": 417,
     "metadata": {},
     "output_type": "execute_result"
    }
   ],
   "source": [
    "# 평균소비액의 이상치 판단\n",
    "q3 = card['avg_spend'].quantile(0.75)\n",
    "q1 = card['avg_spend'].quantile(0.25)\n",
    "iqr = q3 - q1\n",
    "card.loc[card['avg_spend'] > q3 + 1.5 * iqr]\n",
    "df = card.loc[card['avg_spend'] < q3 + 1.5 * iqr] # 이상치 제거한 데이터프레임\n",
    "\n",
    "index_to_drop = df.loc[df['vlm'] == 0].index # 취급액이 0원인 행도 제거\n",
    "df = df.drop(index_to_drop, axis = 0)\n",
    "\n",
    "df.drop(['v2','ta_ym', 'daw_ccd_r', 'apv_ts_dl_tm_r', 'avg_spend'], axis = 1, inplace = True) # 개인특성을 통해 행을 통합하기 위한 칼럼 제거 (거래지역, 거래연월, 평일휴일, 거래시점, 평균취급액)\n",
    "df.shape\n",
    "\n",
    "# 나이, 성별, 거주지, 거래지, 종목명 별로 병함\n",
    "new_df = df.groupby(['v1', 'sex_ccd', 'cln_age_r', 'gb2']).sum()\n",
    "new_df = new_df.reset_index() # 멀티인덱스 해제\n",
    "new_df['avg_spend'] = round(new_df['vlm'] / new_df['usec'], -1).astype(int) # 건당 평균취급액 칼럼 추가\n",
    "new_df['cln_age_r'] = new_df['cln_age_r'].astype(str)\n",
    "new_df['as_person'] = new_df['v1'] + new_df['sex_ccd'] + new_df['cln_age_r']\n",
    "new_df.drop(['vlm', 'usec'], axis = 1, inplace = True)\n",
    "\n",
    "# new_df['avg_spend'] 10개 구간으로 나눠서 레이팅 지표로 삼기\n",
    "range = new_df['avg_spend'].max() - new_df['avg_spend'].min()\n",
    "rating_cluster_num = 5\n",
    "bins = pd.cut(new_df['avg_spend'], rating_cluster_num, labels = ['1', '2', '3', '4', '5'])\n",
    "new_df['rating'] = bins\n",
    "new_df"
   ]
  },
  {
   "cell_type": "code",
   "execution_count": 439,
   "metadata": {},
   "outputs": [
    {
     "data": {
      "text/plain": [
       "1    198\n",
       "2    164\n",
       "3    228\n",
       "4    206\n",
       "5     54\n",
       "Name: rating, dtype: int64"
      ]
     },
     "execution_count": 439,
     "metadata": {},
     "output_type": "execute_result"
    }
   ],
   "source": [
    "new_df['rating'].value_counts().sort_index()"
   ]
  },
  {
   "cell_type": "code",
   "execution_count": 431,
   "metadata": {},
   "outputs": [
    {
     "name": "stdout",
     "output_type": "stream",
     "text": [
      "(595, 3) (255, 3)\n"
     ]
    }
   ],
   "source": [
    "# 추천 시스템에 사용할 데이터프레임 생성\n",
    "recommend_df = new_df[['as_person', 'gb2', 'rating']]\n",
    "recommend_df['rating'].astype(int)\n",
    "num_test = int(recommend_df.shape[0] / 5 * 0.3)\n",
    "num_train = int(recommend_df.shape[0] / 5 - num_test)\n",
    "num_train_row = num_train * 5\n",
    "train = recommend_df[:num_train_row]\n",
    "test = recommend_df[num_train_row:]\n",
    "print(train.shape, test.shape)"
   ]
  },
  {
   "cell_type": "code",
   "execution_count": 442,
   "metadata": {},
   "outputs": [],
   "source": [
    "# 추천 시스템 패키지에 맞는 데이터프레임 생성 (Surprise에서 제시한 데이터 구조를 따라야함)\n",
    "recommend_df = new_df[['as_person', 'gb2', 'rating']]\n",
    "recommend_df.columns = ['userId', 'sportsId', 'rating']\n",
    "recommend_df['rating'].astype(int)\n",
    "reader = Reader(rating_scale = (1, 5))\n",
    "data = Dataset.load_from_df(recommend_df[['userId', 'sportsId', 'rating']], reader = reader)"
   ]
  },
  {
   "cell_type": "code",
   "execution_count": 445,
   "metadata": {},
   "outputs": [
    {
     "name": "stdout",
     "output_type": "stream",
     "text": [
      "Best Score:  0.7724207413300206\n",
      "Best Parameters:  {'n_factors': 100, 'lr_all': 0.05, 'reg_all': 0.04}\n"
     ]
    }
   ],
   "source": [
    "# GridSearch로 최적의 파라미터 찾기\n",
    "from surprise.model_selection import GridSearchCV, cross_validate\n",
    "\n",
    "param_grid = {'n_factors': [25, 50, 75,  100], 'lr_all': [0.5, 0.05], 'reg_all': [0.06, 0.04]}\n",
    "gs = GridSearchCV(algo_class = SVD, measures = ['RMSE'], param_grid = param_grid)\n",
    "gs.fit(data)\n",
    "\n",
    "print('Best Score: ', gs.best_score['rmse'])\n",
    "print('Best Parameters: ', gs.best_params['rmse'])"
   ]
  },
  {
   "cell_type": "code",
   "execution_count": 470,
   "metadata": {},
   "outputs": [
    {
     "name": "stdout",
     "output_type": "stream",
     "text": [
      "RMSE: 0.7992\n"
     ]
    },
    {
     "data": {
      "text/plain": [
       "0.7992487102467519"
      ]
     },
     "execution_count": 470,
     "metadata": {},
     "output_type": "execute_result"
    }
   ],
   "source": [
    "# 최적의 파라미터로 predict\n",
    "from surprise import accuracy\n",
    "from surprise.model_selection import train_test_split\n",
    "\n",
    "model = SVD(n_factors = 100, lr_all = 0.05, reg_all = 0.04)\n",
    "trainset, testset = train_test_split(data, test_size=.25)\n",
    "model.fit(trainset)\n",
    "predictions = model.test(testset)\n",
    "accuracy.rmse(predictions)"
   ]
  },
  {
   "cell_type": "code",
   "execution_count": 471,
   "metadata": {},
   "outputs": [
    {
     "data": {
      "text/html": [
       "<div>\n",
       "<style scoped>\n",
       "    .dataframe tbody tr th:only-of-type {\n",
       "        vertical-align: middle;\n",
       "    }\n",
       "\n",
       "    .dataframe tbody tr th {\n",
       "        vertical-align: top;\n",
       "    }\n",
       "\n",
       "    .dataframe thead th {\n",
       "        text-align: right;\n",
       "    }\n",
       "</style>\n",
       "<table border=\"1\" class=\"dataframe\">\n",
       "  <thead>\n",
       "    <tr style=\"text-align: right;\">\n",
       "      <th></th>\n",
       "      <th>as_person</th>\n",
       "      <th>gb2</th>\n",
       "      <th>rating</th>\n",
       "    </tr>\n",
       "  </thead>\n",
       "  <tbody>\n",
       "    <tr>\n",
       "      <th>461</th>\n",
       "      <td>세종F40</td>\n",
       "      <td>레저스포츠</td>\n",
       "      <td>1</td>\n",
       "    </tr>\n",
       "    <tr>\n",
       "      <th>40</th>\n",
       "      <td>강원M50</td>\n",
       "      <td>골프</td>\n",
       "      <td>4</td>\n",
       "    </tr>\n",
       "    <tr>\n",
       "      <th>474</th>\n",
       "      <td>세종F60</td>\n",
       "      <td>헬스</td>\n",
       "      <td>2</td>\n",
       "    </tr>\n",
       "    <tr>\n",
       "      <th>113</th>\n",
       "      <td>경남F40</td>\n",
       "      <td>자전거</td>\n",
       "      <td>4</td>\n",
       "    </tr>\n",
       "    <tr>\n",
       "      <th>543</th>\n",
       "      <td>울산M50</td>\n",
       "      <td>자전거</td>\n",
       "      <td>4</td>\n",
       "    </tr>\n",
       "    <tr>\n",
       "      <th>...</th>\n",
       "      <td>...</td>\n",
       "      <td>...</td>\n",
       "      <td>...</td>\n",
       "    </tr>\n",
       "    <tr>\n",
       "      <th>241</th>\n",
       "      <td>광주M50</td>\n",
       "      <td>레저스포츠</td>\n",
       "      <td>1</td>\n",
       "    </tr>\n",
       "    <tr>\n",
       "      <th>253</th>\n",
       "      <td>대구F20</td>\n",
       "      <td>자전거</td>\n",
       "      <td>1</td>\n",
       "    </tr>\n",
       "    <tr>\n",
       "      <th>390</th>\n",
       "      <td>부산M50</td>\n",
       "      <td>골프</td>\n",
       "      <td>4</td>\n",
       "    </tr>\n",
       "    <tr>\n",
       "      <th>667</th>\n",
       "      <td>전북F50</td>\n",
       "      <td>스키</td>\n",
       "      <td>2</td>\n",
       "    </tr>\n",
       "    <tr>\n",
       "      <th>843</th>\n",
       "      <td>충북M50</td>\n",
       "      <td>자전거</td>\n",
       "      <td>4</td>\n",
       "    </tr>\n",
       "  </tbody>\n",
       "</table>\n",
       "<p>595 rows × 3 columns</p>\n",
       "</div>"
      ],
      "text/plain": [
       "    as_person    gb2 rating\n",
       "461     세종F40  레저스포츠      1\n",
       "40      강원M50     골프      4\n",
       "474     세종F60     헬스      2\n",
       "113     경남F40    자전거      4\n",
       "543     울산M50    자전거      4\n",
       "..        ...    ...    ...\n",
       "241     광주M50  레저스포츠      1\n",
       "253     대구F20    자전거      1\n",
       "390     부산M50     골프      4\n",
       "667     전북F50     스키      2\n",
       "843     충북M50    자전거      4\n",
       "\n",
       "[595 rows x 3 columns]"
      ]
     },
     "execution_count": 471,
     "metadata": {},
     "output_type": "execute_result"
    }
   ],
   "source": [
    "train"
   ]
  },
  {
   "cell_type": "code",
   "execution_count": 476,
   "metadata": {},
   "outputs": [
    {
     "name": "stdout",
     "output_type": "stream",
     "text": [
      "user: 서울M20      item: 레저스포츠      r_ui = None   est = 1.00   {'was_impossible': False}\n",
      "user: 서울M20      item: 골프         r_ui = None   est = 2.24   {'was_impossible': False}\n",
      "user: 서울M20      item: 자전거        r_ui = None   est = 1.99   {'was_impossible': False}\n",
      "user: 서울M20      item: 헬스         r_ui = None   est = 4.76   {'was_impossible': False}\n"
     ]
    },
    {
     "data": {
      "text/html": [
       "<div>\n",
       "<style scoped>\n",
       "    .dataframe tbody tr th:only-of-type {\n",
       "        vertical-align: middle;\n",
       "    }\n",
       "\n",
       "    .dataframe tbody tr th {\n",
       "        vertical-align: top;\n",
       "    }\n",
       "\n",
       "    .dataframe thead th {\n",
       "        text-align: right;\n",
       "    }\n",
       "</style>\n",
       "<table border=\"1\" class=\"dataframe\">\n",
       "  <thead>\n",
       "    <tr style=\"text-align: right;\">\n",
       "      <th></th>\n",
       "      <th>userId</th>\n",
       "      <th>sportsId</th>\n",
       "      <th>rating</th>\n",
       "    </tr>\n",
       "  </thead>\n",
       "  <tbody>\n",
       "    <tr>\n",
       "      <th>425</th>\n",
       "      <td>서울M20</td>\n",
       "      <td>골프</td>\n",
       "      <td>2</td>\n",
       "    </tr>\n",
       "    <tr>\n",
       "      <th>426</th>\n",
       "      <td>서울M20</td>\n",
       "      <td>레저스포츠</td>\n",
       "      <td>1</td>\n",
       "    </tr>\n",
       "    <tr>\n",
       "      <th>427</th>\n",
       "      <td>서울M20</td>\n",
       "      <td>스키</td>\n",
       "      <td>2</td>\n",
       "    </tr>\n",
       "    <tr>\n",
       "      <th>428</th>\n",
       "      <td>서울M20</td>\n",
       "      <td>자전거</td>\n",
       "      <td>2</td>\n",
       "    </tr>\n",
       "    <tr>\n",
       "      <th>429</th>\n",
       "      <td>서울M20</td>\n",
       "      <td>헬스</td>\n",
       "      <td>5</td>\n",
       "    </tr>\n",
       "  </tbody>\n",
       "</table>\n",
       "</div>"
      ],
      "text/plain": [
       "    userId sportsId rating\n",
       "425  서울M20       골프      2\n",
       "426  서울M20    레저스포츠      1\n",
       "427  서울M20       스키      2\n",
       "428  서울M20      자전거      2\n",
       "429  서울M20       헬스      5"
      ]
     },
     "execution_count": 476,
     "metadata": {},
     "output_type": "execute_result"
    }
   ],
   "source": [
    "test_id = '서울M20'\n",
    "sports_category = ['레저스포츠', '골프', '자전거', '헬스']\n",
    "for sports_cat in sports_category:\n",
    "    print(model.predict(test_id, sports_cat))\n",
    "\n",
    "recommend_df.loc[recommend_df['userId'] == '서울M20']"
   ]
  }
 ],
 "metadata": {
  "kernelspec": {
   "display_name": "Python 3.9.7 ('tf')",
   "language": "python",
   "name": "python3"
  },
  "language_info": {
   "codemirror_mode": {
    "name": "ipython",
    "version": 3
   },
   "file_extension": ".py",
   "mimetype": "text/x-python",
   "name": "python",
   "nbconvert_exporter": "python",
   "pygments_lexer": "ipython3",
   "version": "3.9.7"
  },
  "orig_nbformat": 4,
  "vscode": {
   "interpreter": {
    "hash": "d88f82afb66455697598f3be97bf4103fd55222ccf64b880ef38c583c364c29c"
   }
  }
 },
 "nbformat": 4,
 "nbformat_minor": 2
}
