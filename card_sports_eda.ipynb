{
 "cells": [
  {
   "cell_type": "code",
   "execution_count": 1,
   "metadata": {},
   "outputs": [],
   "source": [
    "import pandas as pd\n",
    "import numpy as np\n",
    "import seaborn as sns\n",
    "import matplotlib.pyplot as plt"
   ]
  },
  {
   "cell_type": "code",
   "execution_count": 2,
   "metadata": {},
   "outputs": [],
   "source": [
    "# data dir\n",
    "\n",
    "data_dir = 'D:/thon/project/tourism/2022년/카드데이터'\n",
    "\n",
    "# data load\n",
    "\n",
    "card = pd.read_csv(data_dir + '/card_sports.csv') # load하는데 10초 소요\n",
    "card = card.drop(['Unnamed: 0'], axis = 1)\n",
    "card['ta_ym'] = pd.to_datetime(card['ta_ym'], format='%Y%m')"
   ]
  },
  {
   "cell_type": "code",
   "execution_count": 3,
   "metadata": {},
   "outputs": [
    {
     "data": {
      "text/html": [
       "<div>\n",
       "<style scoped>\n",
       "    .dataframe tbody tr th:only-of-type {\n",
       "        vertical-align: middle;\n",
       "    }\n",
       "\n",
       "    .dataframe tbody tr th {\n",
       "        vertical-align: top;\n",
       "    }\n",
       "\n",
       "    .dataframe thead th {\n",
       "        text-align: right;\n",
       "    }\n",
       "</style>\n",
       "<table border=\"1\" class=\"dataframe\">\n",
       "  <thead>\n",
       "    <tr style=\"text-align: right;\">\n",
       "      <th></th>\n",
       "      <th>v1</th>\n",
       "      <th>v2</th>\n",
       "      <th>v3</th>\n",
       "      <th>gb3</th>\n",
       "      <th>gb2</th>\n",
       "      <th>sex_ccd</th>\n",
       "      <th>cln_age_r</th>\n",
       "      <th>ta_ym</th>\n",
       "      <th>daw_ccd_r</th>\n",
       "      <th>apv_ts_dl_tm_r</th>\n",
       "      <th>vlm</th>\n",
       "      <th>usec</th>\n",
       "    </tr>\n",
       "  </thead>\n",
       "  <tbody>\n",
       "    <tr>\n",
       "      <th>0</th>\n",
       "      <td>세종</td>\n",
       "      <td>세종</td>\n",
       "      <td>.</td>\n",
       "      <td>스포츠활동</td>\n",
       "      <td>레저스포츠</td>\n",
       "      <td>F</td>\n",
       "      <td>20</td>\n",
       "      <td>2021-11-01</td>\n",
       "      <td>WHITE</td>\n",
       "      <td>휴식</td>\n",
       "      <td>2721300</td>\n",
       "      <td>119</td>\n",
       "    </tr>\n",
       "    <tr>\n",
       "      <th>1</th>\n",
       "      <td>울산</td>\n",
       "      <td>울산</td>\n",
       "      <td>남구</td>\n",
       "      <td>스포츠활동</td>\n",
       "      <td>헬스</td>\n",
       "      <td>M</td>\n",
       "      <td>30</td>\n",
       "      <td>2022-03-01</td>\n",
       "      <td>WHITE</td>\n",
       "      <td>휴식</td>\n",
       "      <td>94882900</td>\n",
       "      <td>588</td>\n",
       "    </tr>\n",
       "    <tr>\n",
       "      <th>2</th>\n",
       "      <td>대전</td>\n",
       "      <td>대전</td>\n",
       "      <td>동구</td>\n",
       "      <td>스포츠활동</td>\n",
       "      <td>레저스포츠</td>\n",
       "      <td>M</td>\n",
       "      <td>60</td>\n",
       "      <td>2021-11-01</td>\n",
       "      <td>WHITE</td>\n",
       "      <td>활동</td>\n",
       "      <td>798800</td>\n",
       "      <td>57</td>\n",
       "    </tr>\n",
       "    <tr>\n",
       "      <th>3</th>\n",
       "      <td>광주</td>\n",
       "      <td>광주</td>\n",
       "      <td>북구</td>\n",
       "      <td>스포츠활동</td>\n",
       "      <td>레저스포츠</td>\n",
       "      <td>M</td>\n",
       "      <td>30</td>\n",
       "      <td>2021-09-01</td>\n",
       "      <td>RED</td>\n",
       "      <td>휴식</td>\n",
       "      <td>5021600</td>\n",
       "      <td>193</td>\n",
       "    </tr>\n",
       "    <tr>\n",
       "      <th>4</th>\n",
       "      <td>광주</td>\n",
       "      <td>광주</td>\n",
       "      <td>북구</td>\n",
       "      <td>스포츠활동</td>\n",
       "      <td>스포츠용품구매</td>\n",
       "      <td>F</td>\n",
       "      <td>60</td>\n",
       "      <td>2021-08-01</td>\n",
       "      <td>WHITE</td>\n",
       "      <td>활동</td>\n",
       "      <td>69405000</td>\n",
       "      <td>789</td>\n",
       "    </tr>\n",
       "  </tbody>\n",
       "</table>\n",
       "</div>"
      ],
      "text/plain": [
       "   v1  v2  v3    gb3      gb2 sex_ccd  cln_age_r      ta_ym daw_ccd_r  \\\n",
       "0  세종  세종   .  스포츠활동    레저스포츠       F         20 2021-11-01     WHITE   \n",
       "1  울산  울산  남구  스포츠활동       헬스       M         30 2022-03-01     WHITE   \n",
       "2  대전  대전  동구  스포츠활동    레저스포츠       M         60 2021-11-01     WHITE   \n",
       "3  광주  광주  북구  스포츠활동    레저스포츠       M         30 2021-09-01       RED   \n",
       "4  광주  광주  북구  스포츠활동  스포츠용품구매       F         60 2021-08-01     WHITE   \n",
       "\n",
       "  apv_ts_dl_tm_r       vlm  usec  \n",
       "0             휴식   2721300   119  \n",
       "1             휴식  94882900   588  \n",
       "2             활동    798800    57  \n",
       "3             휴식   5021600   193  \n",
       "4             활동  69405000   789  "
      ]
     },
     "execution_count": 3,
     "metadata": {},
     "output_type": "execute_result"
    }
   ],
   "source": [
    "card.head()"
   ]
  },
  {
   "cell_type": "code",
   "execution_count": 22,
   "metadata": {},
   "outputs": [],
   "source": [
    "card['year'] = pd.DatetimeIndex(card['ta_ym']).year\n",
    "card['month'] = pd.DatetimeIndex(card['ta_ym']).month"
   ]
  },
  {
   "cell_type": "code",
   "execution_count": 93,
   "metadata": {},
   "outputs": [
    {
     "data": {
      "image/png": "[encoded data removed]",
      "text/plain": [
       "<Figure size 1080x792 with 1 Axes>"
      ]
     },
     "metadata": {},
     "output_type": "display_data"
    }
   ],
   "source": [
    "# 스포츠참여활동 시각화\n",
    "sports_year = card['year'].value_counts().sort_index()\n",
    "\n",
    "sns.set(font_scale = 1.5)\n",
    "plt.rc(\"font\", family = \"NanumGothic\") # 한글깨짐 방지\n",
    "plt.figure(figsize = (15, 11))\n",
    "ax = sports_year.plot(kind = 'bar')\n",
    "plt.xticks(rotation = 45)\n",
    "ax.set_title('스포츠활동 소비연도 카운트\\n', fontsize = 20)\n",
    "ax.set_xlabel('');  # semicolon suppresses text output"
   ]
  },
  {
   "cell_type": "code",
   "execution_count": 48,
   "metadata": {},
   "outputs": [
    {
     "data": {
      "text/plain": [
       "스포츠용품구매    2212682\n",
       "레저스포츠      2004022\n",
       "골프         1748008\n",
       "헬스         1220027\n",
       "자전거         335595\n",
       "스키           37411\n",
       "운동경기관람        3114\n",
       "Name: gb2, dtype: int64"
      ]
     },
     "execution_count": 48,
     "metadata": {},
     "output_type": "execute_result"
    }
   ],
   "source": [
    "card['gb2'].value_counts()"
   ]
  },
  {
   "cell_type": "code",
   "execution_count": 55,
   "metadata": {},
   "outputs": [
    {
     "data": {
      "text/plain": [
       "미추홀구    689\n",
       "강릉시     583\n",
       "수성구     494\n",
       "무주군     485\n",
       "창원시     244\n",
       "경주시     125\n",
       "파주시     111\n",
       "수원시     107\n",
       "중구       88\n",
       "고양시      56\n",
       "성남시      35\n",
       "광양시      30\n",
       "양평군      23\n",
       "양주시      16\n",
       "영천시      14\n",
       "화성시       6\n",
       "유성구       4\n",
       "송파구       3\n",
       "논산시       1\n",
       "Name: v3, dtype: int64"
      ]
     },
     "execution_count": 55,
     "metadata": {},
     "output_type": "execute_result"
    }
   ],
   "source": [
    "# 미추홀 689건: SK 문학야구장, 대구 수성구 494건: 삼성라이온즈파크, 창원시 244건: 창원 NC 파크, 수원시 107건: kt 위즈파크, 중구 88건: 한화 이글스파크\n",
    "# 롯데 사직구장 (부산 동래구), 기아 챔피언스필드 (광주 북구), LG/두산 잠실야구장(송파구)는 왜 없을까??\n",
    "\n",
    "card.loc[card['gb2'] == '운동경기관람']['v3'].value_counts()"
   ]
  },
  {
   "cell_type": "code",
   "execution_count": 94,
   "metadata": {},
   "outputs": [
    {
     "data": {
      "image/png": "[encoded data removed]",
      "text/plain": [
       "<Figure size 1080x792 with 1 Axes>"
      ]
     },
     "metadata": {},
     "output_type": "display_data"
    }
   ],
   "source": [
    "# 스포츠참여활동 시각화\n",
    "sports_watch_region = card.loc[card['gb2'] == '운동경기관람']['v3'].value_counts()\n",
    "sns.set(font_scale = 1.5)\n",
    "plt.rc(\"font\", family = \"NanumGothic\") # 한글깨짐 방지\n",
    "plt.figure(figsize = (15, 11))\n",
    "ax = sports_watch_region.plot(kind = 'bar')\n",
    "plt.xticks(rotation = 45)\n",
    "ax.set_title('스포츠관람 거래지역 카운트\\n', fontsize = 20)\n",
    "ax.set_xlabel('');  # semicolon suppresses text output"
   ]
  },
  {
   "cell_type": "code",
   "execution_count": 73,
   "metadata": {},
   "outputs": [
    {
     "data": {
      "text/plain": [
       "대전    88\n",
       "Name: v2, dtype: int64"
      ]
     },
     "execution_count": 73,
     "metadata": {},
     "output_type": "execute_result"
    }
   ],
   "source": [
    "# 대전 중구 맞는지 확인\n",
    "\n",
    "card.loc[(card['v3'] == '중구')&(card['gb2'] == '운동경기관람')]['v2'].value_counts()"
   ]
  },
  {
   "cell_type": "markdown",
   "metadata": {},
   "source": [
    "### 미추홀 689건: SK 문학야구장, 대구 수성구 494건: 삼성라이온즈파크, 창원시 244건: 창원 NC 파크, 수원시 107건: kt 위즈파크, 중구 88건: 한화 이글스파크\n",
    "### 제일 인기 많은 세 구장 롯데 사직구장 (부산 동래구), 기아 챔피언스필드 (광주 북구), LG/두산 잠실야구장(송파구)는 왜 없을까??\n",
    "### 롯데 구장은 롯데카드랑 제휴하고 신한카드 제휴 없음, 기아는 현대카드, 광주카드랑 제휴, LG는 신한카드랑 제휴했는데 왜??\n",
    "### 제휴카드랑은 상관이 없는듯하다."
   ]
  },
  {
   "cell_type": "code",
   "execution_count": 70,
   "metadata": {},
   "outputs": [
    {
     "data": {
      "text/plain": [
       "12    119\n",
       "1     226\n",
       "2     115\n",
       "8      18\n",
       "7       3\n",
       "10      1\n",
       "3       1\n",
       "5       2\n",
       "Name: month, dtype: int64"
      ]
     },
     "execution_count": 70,
     "metadata": {},
     "output_type": "execute_result"
    }
   ],
   "source": [
    "# 무주군은 겨울스포츠 뭔가 하나봄\n",
    "\n",
    "card.loc[(card['gb2'] == '운동경기관람')&(card['v3'] == '무주군')]['month'].value_counts(sort = False)"
   ]
  },
  {
   "cell_type": "code",
   "execution_count": 119,
   "metadata": {},
   "outputs": [
    {
     "data": {
      "image/png": "[encoded data removed]",
      "text/plain": [
       "<Figure size 720x360 with 1 Axes>"
      ]
     },
     "metadata": {},
     "output_type": "display_data"
    }
   ],
   "source": [
    "# 무주군 스포츠 관람 시각화\n",
    "muju = card.loc[(card['gb2'] == '운동경기관람')&(card['v3'] == '무주군')]['month'].value_counts(sort = False)\n",
    "sns.set(font_scale = 1.5)\n",
    "plt.rc(\"font\", family = \"NanumGothic\") # 한글깨짐 방지\n",
    "plt.figure(figsize = (10, 5))\n",
    "ax = muju.plot(kind = 'bar')\n",
    "plt.xticks(rotation = 45)\n",
    "ax.set_title('스포츠관람 거래지역 카운트\\n', fontsize = 20)\n",
    "ax.set_xlabel('');  # semicolon suppresses text output"
   ]
  },
  {
   "cell_type": "code",
   "execution_count": 78,
   "metadata": {},
   "outputs": [
    {
     "name": "stdout",
     "output_type": "stream",
     "text": [
      "4     92\n",
      "5     84\n",
      "7     74\n",
      "8     71\n",
      "9     71\n",
      "3     69\n",
      "10    44\n",
      "11    29\n",
      "12    23\n",
      "6     18\n",
      "2      8\n",
      "Name: month, dtype: int64\n",
      "year  month\n",
      "2018  2         1\n",
      "      3        25\n",
      "      4        41\n",
      "      5        20\n",
      "      7        36\n",
      "      8        21\n",
      "      9        32\n",
      "      10       12\n",
      "      11       17\n",
      "      12       10\n",
      "2019  3        13\n",
      "      4        19\n",
      "      5        33\n",
      "      6        18\n",
      "      7        29\n",
      "      8        30\n",
      "      9        29\n",
      "      10        8\n",
      "      11        9\n",
      "2020  8         5\n",
      "      10       13\n",
      "2021  3        12\n",
      "      4        18\n",
      "      5        31\n",
      "      7         9\n",
      "      8        15\n",
      "      9        10\n",
      "      10       11\n",
      "      11        3\n",
      "      12       13\n",
      "2022  2         7\n",
      "      3        19\n",
      "      4        14\n",
      "dtype: int64\n"
     ]
    }
   ],
   "source": [
    "# 강릉시에는 강원 FC의 강릉종합축구장이 있고, 케이리그 시즌이 3~ 12월까지라고 하니 그럴싸하다\n",
    "# 2020년 케이리그 비대면도 했으니..\n",
    "print(card.loc[(card['gb2'] == '운동경기관람')&(card['v3'] == '강릉시')]['month'].value_counts())\n",
    "print(card.loc[(card['gb2'] == '운동경기관람')&(card['v3'] == '강릉시')][['year', 'month']].value_counts(sort = False))"
   ]
  },
  {
   "cell_type": "code",
   "execution_count": 72,
   "metadata": {},
   "outputs": [
    {
     "data": {
      "text/plain": [
       "10    16\n",
       "2     13\n",
       "4     13\n",
       "3     12\n",
       "12    11\n",
       "11    11\n",
       "7     10\n",
       "5     10\n",
       "9      9\n",
       "6      8\n",
       "8      8\n",
       "1      4\n",
       "Name: month, dtype: int64"
      ]
     },
     "execution_count": 72,
     "metadata": {},
     "output_type": "execute_result"
    }
   ],
   "source": [
    "# 경주에는 무슨 스포츠를 관람하는건지 모르겠지만 비교적 고르게 분포 \n",
    "card.loc[(card['gb2'] == '운동경기관람')&(card['v3'] == '경주시')]['month'].value_counts()"
   ]
  },
  {
   "cell_type": "code",
   "execution_count": 120,
   "metadata": {},
   "outputs": [
    {
     "name": "stdout",
     "output_type": "stream",
     "text": [
      "미추홀구 스포츠관람 거래의 취급액 중앙값: 375440\n",
      "대구 수성구 스포츠관람 거래의 취급액 중앙값: 50700\n",
      "창원시 스포츠관람 거래의 취급액 중앙값: 192280\n"
     ]
    }
   ],
   "source": [
    "# 미추홀구는 그냥 야구 보는 거 치고는 금액이 좀 비쌈\n",
    "\n",
    "print('미추홀구 스포츠관람 거래의 취급액 중앙값:', round(card.loc[(card['gb2'] == '운동경기관람')&(card['v3'] == '미추홀구')]['vlm'].median()))\n",
    "print('대구 수성구 스포츠관람 거래의 취급액 중앙값:', round(card.loc[(card['gb2'] == '운동경기관람')&(card['v3'] == '수성구')]['vlm'].median()))\n",
    "print('창원시 스포츠관람 거래의 취급액 중앙값:', round(card.loc[(card['gb2'] == '운동경기관람')&(card['v3'] == '창원시')]['vlm'].median()))"
   ]
  },
  {
   "cell_type": "code",
   "execution_count": 124,
   "metadata": {},
   "outputs": [
    {
     "data": {
      "text/plain": [
       "20    181654\n",
       "30    349210\n",
       "40    475080\n",
       "50    463205\n",
       "60    278859\n",
       "Name: cln_age_r, dtype: int64"
      ]
     },
     "execution_count": 124,
     "metadata": {},
     "output_type": "execute_result"
    }
   ],
   "source": [
    "card.loc[card['gb2'] == '골프']['cln_age_r'].value_counts().sort_index()"
   ]
  }
 ],
 "metadata": {
  "kernelspec": {
   "display_name": "Python 3.9.7 ('tf')",
   "language": "python",
   "name": "python3"
  },
  "language_info": {
   "codemirror_mode": {
    "name": "ipython",
    "version": 3
   },
   "file_extension": ".py",
   "mimetype": "text/x-python",
   "name": "python",
   "nbconvert_exporter": "python",
   "pygments_lexer": "ipython3",
   "version": "3.9.7"
  },
  "orig_nbformat": 4,
  "vscode": {
   "interpreter": {
    "hash": "d88f82afb66455697598f3be97bf4103fd55222ccf64b880ef38c583c364c29c"
   }
  }
 },
 "nbformat": 4,
 "nbformat_minor": 2
}
